{
 "cells": [
  {
   "cell_type": "markdown",
   "metadata": {},
   "source": [
    "#### problem\n",
    "Assuming a Gotchi with Kinship X, \n",
    "that channels Y amount of times per day (deduced by the level of altar), \n",
    "with a spillover of Z %, \n",
    "and a collection of the spillover of S % (which is directly related to the radius of spillover and the size of the plot), \n",
    "what is the optimum level of altar for each plot size?\n",
    "\n",
    "\n"
   ]
  },
  {
   "cell_type": "markdown",
   "metadata": {},
   "source": [
    "TODO\n",
    "- [ ] call API for fud, fomo, alpha, kek factors\n",
    "- [ ] code for multiple parcels"
   ]
  },
  {
   "cell_type": "code",
   "execution_count": null,
   "metadata": {},
   "outputs": [],
   "source": []
  },
  {
   "cell_type": "markdown",
   "metadata": {},
   "source": [
    "Thoughts\n",
    "\n",
    "- To begin with, we would create level 1 altaar on all the parcels, because it has 0 cost\n",
    "- We would then start upgrading one of the altaars from level 1 to level 2\n",
    "- Once the upgrading is done, then we need to take a decision whether to upgrade the same altaar to level 3, or decide to upgrade any other altaar to level 2\n",
    "- This decision(upgrade same or some other altaar) would have to be taken after each upgrade\n",
    "- If the game is allowed to run for infinite time, then we could simply keep on upgrading all till max level(level 9)\n",
    "- But we have time constraint T (days for which game would be played). Hence for T days, there would be a particular order of upgrade which would be optimal for us.\n",
    "-  We also have a constraint on the number of gotchi's, so it may even not make sense to upgrade more than what gotchi's could collect."
   ]
  },
  {
   "cell_type": "markdown",
   "metadata": {},
   "source": [
    "for each altaar $A_i$, number of times it could be channeled in a day $r_i$\n",
    "\n",
    "$$ \\sum_i r_i <=  \\sum gotchi$$ "
   ]
  },
  {
   "cell_type": "code",
   "execution_count": null,
   "metadata": {},
   "outputs": [],
   "source": []
  },
  {
   "cell_type": "markdown",
   "metadata": {},
   "source": [
    "### initializations"
   ]
  },
  {
   "cell_type": "code",
   "execution_count": 1,
   "metadata": {},
   "outputs": [],
   "source": [
    "import math\n",
    "import pandas as pd\n",
    "import seaborn as sns\n",
    "import numpy as np\n",
    "import random\n",
    "import matplotlib.pyplot as plt\n",
    "import requests\n"
   ]
  },
  {
   "cell_type": "code",
   "execution_count": 2,
   "metadata": {},
   "outputs": [],
   "source": [
    "BASE_RATE = [20, 10, 5, 2] #ordered by FUD, FOMO, ALPHA, KEK\n",
    "plot_size_array = [1, 2, 4, 8, 16, 32, 64]\n",
    "SPILLOVER_COLLECTION_RATE = 0.3 # this will depend on radius and size of parcel"
   ]
  },
  {
   "cell_type": "code",
   "execution_count": null,
   "metadata": {},
   "outputs": [],
   "source": []
  },
  {
   "cell_type": "code",
   "execution_count": 3,
   "metadata": {},
   "outputs": [],
   "source": [
    "URL = \"https://api.coingecko.com/api/v3/simple/price?ids=aavegotchi-fud%2Caavegotchi-fomo%2Caavegotchi-alpha%2Caavegotchi-kek%2Caavegotchi&vs_currencies=usd\"\n",
    "result = requests.get(url = URL).json()\n"
   ]
  },
  {
   "cell_type": "code",
   "execution_count": 4,
   "metadata": {},
   "outputs": [
    {
     "data": {
      "text/plain": [
       "{'aavegotchi-alpha': {'usd': 0.203206},\n",
       " 'aavegotchi-fomo': {'usd': 0.04295478},\n",
       " 'aavegotchi-kek': {'usd': 0.334724},\n",
       " 'aavegotchi-fud': {'usd': 0.02107848},\n",
       " 'aavegotchi': {'usd': 1.65}}"
      ]
     },
     "execution_count": 4,
     "metadata": {},
     "output_type": "execute_result"
    }
   ],
   "source": [
    "result"
   ]
  },
  {
   "cell_type": "code",
   "execution_count": 5,
   "metadata": {},
   "outputs": [],
   "source": [
    "fud_factor = 1.0\n",
    "fomo_factor = result['aavegotchi-fomo']['usd']/result['aavegotchi-fud']['usd']\n",
    "alpha_factor = result['aavegotchi-alpha']['usd']/result['aavegotchi-fud']['usd']\n",
    "kek_factor = result['aavegotchi-kek']['usd']/result['aavegotchi-fud']['usd']"
   ]
  },
  {
   "cell_type": "code",
   "execution_count": 6,
   "metadata": {},
   "outputs": [
    {
     "data": {
      "text/plain": [
       "(1.0, 2.0378499777972605, 9.640448457384023, 15.879892667782498)"
      ]
     },
     "execution_count": 6,
     "metadata": {},
     "output_type": "execute_result"
    }
   ],
   "source": [
    "fud_factor, fomo_factor, alpha_factor, kek_factor"
   ]
  },
  {
   "cell_type": "code",
   "execution_count": 7,
   "metadata": {},
   "outputs": [],
   "source": [
    "# fud_factor = 1.0\n",
    "# fomo_factor = 2.0\n",
    "# alpha_factor = 4.0\n",
    "# kek_factor = 10.0"
   ]
  },
  {
   "cell_type": "code",
   "execution_count": 8,
   "metadata": {},
   "outputs": [],
   "source": [
    "CHANNELING_RATE_IN_HOURS = {\n",
    "    1:24, 2:18, 3:12, 4:8, \n",
    "    5:6, 6:4, 7:3, 8:2, 9:1\n",
    "}"
   ]
  },
  {
   "cell_type": "code",
   "execution_count": 9,
   "metadata": {},
   "outputs": [],
   "source": [
    "altaar_cost_df = pd.read_csv(\"data/altaar_cost.csv\")\n",
    "altaar_cost_df = altaar_cost_df.replace(',','', regex=True)"
   ]
  },
  {
   "cell_type": "code",
   "execution_count": 10,
   "metadata": {},
   "outputs": [
    {
     "data": {
      "text/html": [
       "<div>\n",
       "<style scoped>\n",
       "    .dataframe tbody tr th:only-of-type {\n",
       "        vertical-align: middle;\n",
       "    }\n",
       "\n",
       "    .dataframe tbody tr th {\n",
       "        vertical-align: top;\n",
       "    }\n",
       "\n",
       "    .dataframe thead th {\n",
       "        text-align: right;\n",
       "    }\n",
       "</style>\n",
       "<table border=\"1\" class=\"dataframe\">\n",
       "  <thead>\n",
       "    <tr style=\"text-align: right;\">\n",
       "      <th></th>\n",
       "      <th>Level</th>\n",
       "      <th>FUD</th>\n",
       "      <th>FOMO</th>\n",
       "      <th>ALPHA</th>\n",
       "      <th>KEK</th>\n",
       "      <th>Built Time (Blocks)</th>\n",
       "      <th>Buid Time (Days)</th>\n",
       "    </tr>\n",
       "  </thead>\n",
       "  <tbody>\n",
       "    <tr>\n",
       "      <th>0</th>\n",
       "      <td>1</td>\n",
       "      <td>0</td>\n",
       "      <td>0</td>\n",
       "      <td>0</td>\n",
       "      <td>0</td>\n",
       "      <td>0</td>\n",
       "      <td>0.0</td>\n",
       "    </tr>\n",
       "    <tr>\n",
       "      <th>1</th>\n",
       "      <td>2</td>\n",
       "      <td>300</td>\n",
       "      <td>150</td>\n",
       "      <td>75</td>\n",
       "      <td>10</td>\n",
       "      <td>65000</td>\n",
       "      <td>1.7</td>\n",
       "    </tr>\n",
       "    <tr>\n",
       "      <th>2</th>\n",
       "      <td>3</td>\n",
       "      <td>600</td>\n",
       "      <td>300</td>\n",
       "      <td>150</td>\n",
       "      <td>20</td>\n",
       "      <td>160000</td>\n",
       "      <td>4.1</td>\n",
       "    </tr>\n",
       "    <tr>\n",
       "      <th>3</th>\n",
       "      <td>4</td>\n",
       "      <td>1000</td>\n",
       "      <td>750</td>\n",
       "      <td>375</td>\n",
       "      <td>100</td>\n",
       "      <td>320000</td>\n",
       "      <td>8.1</td>\n",
       "    </tr>\n",
       "    <tr>\n",
       "      <th>4</th>\n",
       "      <td>5</td>\n",
       "      <td>2000</td>\n",
       "      <td>1500</td>\n",
       "      <td>750</td>\n",
       "      <td>200</td>\n",
       "      <td>475000</td>\n",
       "      <td>12.1</td>\n",
       "    </tr>\n",
       "    <tr>\n",
       "      <th>5</th>\n",
       "      <td>6</td>\n",
       "      <td>4000</td>\n",
       "      <td>3000</td>\n",
       "      <td>1500</td>\n",
       "      <td>400</td>\n",
       "      <td>630000</td>\n",
       "      <td>16.0</td>\n",
       "    </tr>\n",
       "    <tr>\n",
       "      <th>6</th>\n",
       "      <td>7</td>\n",
       "      <td>5000</td>\n",
       "      <td>7500</td>\n",
       "      <td>3750</td>\n",
       "      <td>1500</td>\n",
       "      <td>1250000</td>\n",
       "      <td>31.8</td>\n",
       "    </tr>\n",
       "    <tr>\n",
       "      <th>7</th>\n",
       "      <td>8</td>\n",
       "      <td>10000</td>\n",
       "      <td>15000</td>\n",
       "      <td>7500</td>\n",
       "      <td>3000</td>\n",
       "      <td>1900000</td>\n",
       "      <td>48.4</td>\n",
       "    </tr>\n",
       "    <tr>\n",
       "      <th>8</th>\n",
       "      <td>9</td>\n",
       "      <td>20000</td>\n",
       "      <td>30000</td>\n",
       "      <td>15000</td>\n",
       "      <td>6000</td>\n",
       "      <td>3200000</td>\n",
       "      <td>81.5</td>\n",
       "    </tr>\n",
       "  </tbody>\n",
       "</table>\n",
       "</div>"
      ],
      "text/plain": [
       "   Level         FUD        FOMO       ALPHA        KEK Built Time (Blocks)  \\\n",
       "0      1           0           0           0          0                   0   \n",
       "1      2      300         150          75         10               65000      \n",
       "2      3      600         300         150         20              160000      \n",
       "3      4     1000         750         375        100              320000      \n",
       "4      5     2000        1500         750        200              475000      \n",
       "5      6     4000        3000        1500        400              630000      \n",
       "6      7     5000        7500        3750       1500             1250000      \n",
       "7      8    10000       15000        7500       3000             1900000      \n",
       "8      9    20000       30000       15000       6000             3200000      \n",
       "\n",
       "   Buid Time (Days)   \n",
       "0                0.0  \n",
       "1                1.7  \n",
       "2                4.1  \n",
       "3                8.1  \n",
       "4               12.1  \n",
       "5               16.0  \n",
       "6               31.8  \n",
       "7               48.4  \n",
       "8               81.5  "
      ]
     },
     "execution_count": 10,
     "metadata": {},
     "output_type": "execute_result"
    }
   ],
   "source": [
    "altaar_cost_df.head(12)"
   ]
  },
  {
   "cell_type": "code",
   "execution_count": 11,
   "metadata": {},
   "outputs": [
    {
     "data": {
      "text/plain": [
       "Index(['Level', 'FUD', 'FOMO', 'ALPHA', 'KEK', 'Built Time (Blocks)',\n",
       "       'Buid Time (Days) '],\n",
       "      dtype='object')"
      ]
     },
     "execution_count": 11,
     "metadata": {},
     "output_type": "execute_result"
    }
   ],
   "source": [
    "altaar_cost_df.columns"
   ]
  },
  {
   "cell_type": "code",
   "execution_count": 12,
   "metadata": {},
   "outputs": [],
   "source": [
    "#altaar_cost_df[\"new days\"] = altaar_cost_df[\"Built Time (Blocks)\"].apply(lambda x: int(x)*2.2/(60*60*24))"
   ]
  },
  {
   "cell_type": "code",
   "execution_count": null,
   "metadata": {},
   "outputs": [],
   "source": []
  },
  {
   "cell_type": "code",
   "execution_count": 13,
   "metadata": {},
   "outputs": [
    {
     "data": {
      "text/plain": [
       "{1: 0.0, 2: 1.7, 3: 4.1, 4: 8.1, 5: 12.1, 6: 16.0, 7: 31.8, 8: 48.4, 9: 81.5}"
      ]
     },
     "execution_count": 13,
     "metadata": {},
     "output_type": "execute_result"
    }
   ],
   "source": [
    "altaar_built_time_dict = { altaar_cost_df['Level'][i]: altaar_cost_df['Buid Time (Days) '][i] for i in range(altaar_cost_df.shape[0]) }\n",
    "altaar_built_time_dict"
   ]
  },
  {
   "cell_type": "code",
   "execution_count": 14,
   "metadata": {},
   "outputs": [
    {
     "data": {
      "text/plain": [
       "{1: 0.0,\n",
       " 2: 1487.510057651216,\n",
       " 3: 2975.020115302432,\n",
       " 4: 7731.544921645203,\n",
       " 5: 15463.089843290407,\n",
       " 6: 30926.179686580814,\n",
       " 7: 80255.3955503433,\n",
       " 8: 160510.7911006866,\n",
       " 9: 321021.5822013732}"
      ]
     },
     "execution_count": 14,
     "metadata": {},
     "output_type": "execute_result"
    }
   ],
   "source": [
    "altaar_built_cost_dict = { altaar_cost_df['Level'][i]: \n",
    "                          fud_factor*int(altaar_cost_df['FUD'][i])+\n",
    "                          fomo_factor*int(altaar_cost_df['FOMO'][i])+\n",
    "                          alpha_factor*int(altaar_cost_df['ALPHA'][i])+\n",
    "                          kek_factor*int(altaar_cost_df['KEK'][i]) \n",
    "                          for i in range(altaar_cost_df.shape[0]) }\n",
    "altaar_built_cost_dict\n"
   ]
  },
  {
   "cell_type": "code",
   "execution_count": 15,
   "metadata": {},
   "outputs": [],
   "source": [
    "yield_at_base_rate = fud_factor*BASE_RATE[0]+ \\\n",
    "                    fomo_factor*BASE_RATE[1] + \\\n",
    "                    alpha_factor*BASE_RATE[2] + \\\n",
    "                    kek_factor*BASE_RATE[3]"
   ]
  },
  {
   "cell_type": "code",
   "execution_count": 16,
   "metadata": {},
   "outputs": [],
   "source": [
    "\"\"\"\n",
    "computing all possible sizes of plots available.\n",
    "\"\"\"\n",
    "\n",
    "all_sizes = []\n",
    "for x in plot_size_array:\n",
    "    for y in plot_size_array:\n",
    "        all_sizes.append(tuple(sorted((x,y))))\n",
    "all_sizes = sorted(list(set(all_sizes)))\n",
    "\n",
    "all_sizes = [(8,8), (16,16), (32,64)] # predetermined sizes of parcels in gotchiverse"
   ]
  },
  {
   "cell_type": "code",
   "execution_count": null,
   "metadata": {},
   "outputs": [],
   "source": []
  },
  {
   "cell_type": "markdown",
   "metadata": {},
   "source": [
    "### helper functions"
   ]
  },
  {
   "cell_type": "code",
   "execution_count": 17,
   "metadata": {},
   "outputs": [
    {
     "data": {
      "text/plain": [
       "[[1.4142135623730951, 1.0, 1.4142135623730951],\n",
       " [1.0, 0.0, 1.0],\n",
       " [1.4142135623730951, 1.0, 1.4142135623730951]]"
      ]
     },
     "execution_count": 17,
     "metadata": {},
     "output_type": "execute_result"
    }
   ],
   "source": [
    "\"\"\"\n",
    "this function will be used once there is more information how spill varies according to radius\n",
    "\"\"\"\n",
    "def spill_radius_function(x_len, y_len):\n",
    "    tmp_array = [[0]*x_len for i in range(y_len)]\n",
    "    mid_x = x_len/2.0\n",
    "    mid_y = y_len/2.0\n",
    "    \n",
    "    for i in range(x_len):\n",
    "        for j in range(y_len):\n",
    "            pixel_x = i+0.5\n",
    "            pixel_y = j+0.5\n",
    "            dist_from_mid = math.sqrt(math.pow(mid_x-pixel_x, 2) + math.pow(mid_y-pixel_y, 2))\n",
    "            \n",
    "            tmp_array[i][j] = dist_from_mid\n",
    "    \n",
    "    return tmp_array\n",
    "\n",
    "spill_radius_function(3,3)"
   ]
  },
  {
   "cell_type": "code",
   "execution_count": 18,
   "metadata": {},
   "outputs": [],
   "source": [
    "\"\"\"\n",
    "this is a simple spill collection function which depends on size of parcel\n",
    "spillover collection is 1 for 64X64\n",
    "splillover collection for k X k = (k/64)*(k/64)\n",
    "\"\"\"\n",
    "\n",
    "def spill_collection_rate(x_len, y_len):\n",
    "    \n",
    "    return (x_len/64)*(y_len/64)\n"
   ]
  },
  {
   "cell_type": "code",
   "execution_count": 19,
   "metadata": {},
   "outputs": [
    {
     "data": {
      "text/plain": [
       "190"
      ]
     },
     "execution_count": 19,
     "metadata": {},
     "output_type": "execute_result"
    }
   ],
   "source": [
    "\"\"\"\n",
    "This function computes yield which an altaar which generate in 1 day, given the following parameters\n",
    "1. kinships of all the available gotchis\n",
    "2. the level of altaar\n",
    "3. dimension of the parcel\n",
    "\n",
    "yield = frequency_of_channel x base_rate_yield x channeling_modifier x spillover_rate x collection_rate\n",
    "\"\"\"\n",
    "\n",
    "def get_yield_for_the_day(gotchi_kinship_array, altaar_level, parcel_dim):\n",
    "    x, y = parcel_dim\n",
    "    \n",
    "    spillover_rate = (50 - (altaar_level-1)*5)/100.0\n",
    "    \n",
    "    channeling_modifier_array = sorted([math.sqrt(ele/50) for ele in gotchi_kinship_array], reverse=True) #start by using gotchi's who have more kinship\n",
    "    \n",
    "    channel_frequency = int(24/CHANNELING_RATE_IN_HOURS[altaar_level])\n",
    "    \n",
    "    total_yield = 0\n",
    "    for i in range(min(len(gotchi_kinship_array), channel_frequency)):\n",
    "        total_yield += int(channeling_modifier_array[i]*yield_at_base_rate*(1-spillover_rate) * spill_collection_rate(x, y))\n",
    "    \n",
    "    return total_yield\n",
    "\n",
    "get_yield_for_the_day([500, 500], 1, [64,64])\n"
   ]
  },
  {
   "cell_type": "code",
   "execution_count": 20,
   "metadata": {},
   "outputs": [
    {
     "data": {
      "text/plain": [
       "190"
      ]
     },
     "execution_count": 20,
     "metadata": {},
     "output_type": "execute_result"
    }
   ],
   "source": [
    "\"\"\"\n",
    "TODO: need to implement this function covering all the types of scenarios\n",
    "1. day will be divided into 2 parts. one with the original altar, 2nd with the upgraded altar\n",
    "2. gotchi's need to make a choice which altaar to channel, depending on how many channel frequency are available in each\n",
    "3. preferably gotchi's should channel the upgraded altar\n",
    "\"\"\"\n",
    "def get_yield_for_the_upgrade_day(gotchi_kinship_array, altaar_level, parcel_dim, pending_built_time):\n",
    "    # using the same function as of now, will work on this function later\n",
    "    return get_yield_for_the_day(gotchi_kinship_array, altaar_level, parcel_dim)\n",
    "\n",
    "get_yield_for_the_upgrade_day([500, 500], 1, [64,64], 0.3)\n"
   ]
  },
  {
   "cell_type": "code",
   "execution_count": 21,
   "metadata": {},
   "outputs": [],
   "source": [
    "def future_yield_by_current_altaar(gotchi_kinship_array, altaar_level, parcel_dim, num_days):\n",
    "    return get_yield_for_the_day(gotchi_kinship_array, altaar_level, parcel_dim)*num_days\n"
   ]
  },
  {
   "cell_type": "code",
   "execution_count": null,
   "metadata": {},
   "outputs": [],
   "source": []
  },
  {
   "cell_type": "code",
   "execution_count": null,
   "metadata": {},
   "outputs": [],
   "source": []
  },
  {
   "cell_type": "markdown",
   "metadata": {},
   "source": [
    "### GAMEPLAYS"
   ]
  },
  {
   "cell_type": "markdown",
   "metadata": {},
   "source": [
    "#### gameplay v2"
   ]
  },
  {
   "cell_type": "code",
   "execution_count": 22,
   "metadata": {},
   "outputs": [],
   "source": [
    "\"\"\"\n",
    "This gameplay assumes you keep on upgrading the altaar whenever possible\n",
    "It returns the sequence of cumulative yield generated over the time\n",
    "\"\"\"\n",
    "\n",
    "def gameplay_v2(gotchi_kinship_array, num_days, current_altaar, parcel_dim):\n",
    "    \n",
    "    total_yield_by_days = []\n",
    "    generated_yield_by_days = [] # this doesnt included the cost of construction of altaar\n",
    "        \n",
    "    pending_built_time_for_next_altaar = math.inf if current_altaar == 9 else altaar_built_time_dict[current_altaar+1]\n",
    "    \n",
    "    total_yield_till_now = 0\n",
    "    generated_yield_till_now = 0\n",
    "    \n",
    "    for i in range(num_days):\n",
    "        \n",
    "        if pending_built_time_for_next_altaar <=1: #altaar can be made current day\n",
    "            total_yield_till_now += get_yield_for_the_upgrade_day(gotchi_kinship_array, current_altaar, parcel_dim, pending_built_time_for_next_altaar)\n",
    "            generated_yield_till_now += get_yield_for_the_upgrade_day(gotchi_kinship_array, current_altaar, parcel_dim, pending_built_time_for_next_altaar)\n",
    "\n",
    "            total_yield_till_now -= altaar_built_cost_dict[current_altaar+1]  #reducing the total cost for building the altaar\n",
    "            \n",
    "            if current_altaar == 8:\n",
    "                current_altaar = current_altaar + 1\n",
    "                pending_built_time_for_next_altaar = math.inf\n",
    "            elif current_altaar == 9:\n",
    "                pending_built_time_for_next_altaar = math.inf\n",
    "            else:\n",
    "                current_altaar = current_altaar + 1\n",
    "                pending_built_time_for_next_altaar = altaar_built_time_dict[current_altaar+1]\n",
    "\n",
    "        \n",
    "        else:\n",
    "            total_yield_till_now += get_yield_for_the_day(gotchi_kinship_array, current_altaar, parcel_dim)\n",
    "            generated_yield_till_now += get_yield_for_the_day(gotchi_kinship_array, current_altaar, parcel_dim)\n",
    "\n",
    "            pending_built_time_for_next_altaar -= 1\n",
    "            \n",
    "        #print(\"day {}, current level {}, pending time {}\".format(i+1, current_altaar, pending_built_time_for_next_altaar))\n",
    "        \n",
    "        total_yield_by_days.append(total_yield_till_now)\n",
    "        generated_yield_by_days.append(generated_yield_till_now)\n",
    "        gotchi_kinship_array = [ele+2 for ele in gotchi_kinship_array]\n",
    "\n",
    "    return total_yield_by_days, generated_yield_by_days\n",
    "\n",
    "\n",
    "\n",
    "num_days = 1000\n",
    "total_yield_by_days, generated_yield_by_days = gameplay_v2(gotchi_kinship_array=[500, 500, 500, 500, 500],\n",
    "            num_days=num_days,\n",
    "            current_altaar=1,\n",
    "            parcel_dim = [64, 64]\n",
    "           )\n",
    "#print(\"total yield {}\".format(total_yield_by_days))\n",
    "\n",
    "indices_list = list(range(0, num_days, 20))\n",
    "res = list(np.array(total_yield_by_days)[indices_list])  # this we are doing to reduce the number of things we need to plot\n",
    "res1 = list(np.array(generated_yield_by_days)[indices_list])\n"
   ]
  },
  {
   "cell_type": "code",
   "execution_count": 23,
   "metadata": {},
   "outputs": [
    {
     "data": {
      "text/plain": [
       "Text(0, 0.5, 'Yield')"
      ]
     },
     "execution_count": 23,
     "metadata": {},
     "output_type": "execute_result"
    },
    {
     "data": {
      "image/png": "[encoded data removed]",
      "text/plain": [
       "<Figure size 1440x432 with 1 Axes>"
      ]
     },
     "metadata": {
      "needs_background": "light"
     },
     "output_type": "display_data"
    }
   ],
   "source": [
    "fig, ax = plt.subplots(figsize=(20,6))         # Sample figsize in inches\n",
    "#plt.bar(indices_list, res)\n",
    "sns.barplot(indices_list, res)\n",
    "plt.title('total yield vs #Days distribution', fontsize = 20) # title with fontsize 20\n",
    "plt.xlabel('Number of days', fontsize = 12) # x-axis label with fontsize 15\n",
    "plt.ylabel('Yield', fontsize = 12) # y-axis label with fontsize 15"
   ]
  },
  {
   "cell_type": "markdown",
   "metadata": {},
   "source": [
    "This graph show the yields generated by the gotchi's minus the construction cost associated with altaars"
   ]
  },
  {
   "cell_type": "code",
   "execution_count": 24,
   "metadata": {},
   "outputs": [
    {
     "data": {
      "text/plain": [
       "Text(0, 0.5, 'Yield')"
      ]
     },
     "execution_count": 24,
     "metadata": {},
     "output_type": "execute_result"
    },
    {
     "data": {
      "image/png": "[encoded data removed]",
      "text/plain": [
       "<Figure size 1440x432 with 1 Axes>"
      ]
     },
     "metadata": {
      "needs_background": "light"
     },
     "output_type": "display_data"
    }
   ],
   "source": [
    "fig, ax = plt.subplots(figsize=(20,6))         # Sample figsize in inches\n",
    "#plt.bar(indices_list, res)\n",
    "sns.barplot(indices_list, res1)\n",
    "plt.title('generated yield vs #Days distribution', fontsize = 20) # title with fontsize 20\n",
    "plt.xlabel('Number of days', fontsize = 12) # x-axis label with fontsize 15\n",
    "plt.ylabel('Yield', fontsize = 12) # y-axis label with fontsize 15"
   ]
  },
  {
   "cell_type": "code",
   "execution_count": null,
   "metadata": {},
   "outputs": [],
   "source": []
  },
  {
   "cell_type": "code",
   "execution_count": null,
   "metadata": {},
   "outputs": [],
   "source": []
  },
  {
   "cell_type": "markdown",
   "metadata": {},
   "source": [
    "#### gameplay v3"
   ]
  },
  {
   "cell_type": "code",
   "execution_count": 25,
   "metadata": {},
   "outputs": [],
   "source": [
    "\"\"\"\n",
    "Given (a) number of days (b) what could be the maximum altaar built,\n",
    "this function computes the maximum yield possible, and till what level should the altaar be upgraded\n",
    "\"\"\"\n",
    "def gameplay_v3(gotchi_kinship_array, num_days, current_altaar, parcel_dim, max_allowed_altaar):\n",
    "\n",
    "    pending_built_time_for_next_altaar = math.inf if current_altaar >= max_allowed_altaar else altaar_built_time_dict[current_altaar+1]\n",
    "    \n",
    "    total_yield_till_now = 0\n",
    "    \n",
    "    max_expected_yield = 0\n",
    "    max_yield_level = 1\n",
    "    \n",
    "    for i in range(num_days):\n",
    "        \n",
    "        if pending_built_time_for_next_altaar <=1: #altaar can be made current day\n",
    "            total_yield_till_now += get_yield_for_the_upgrade_day(gotchi_kinship_array, current_altaar, parcel_dim, pending_built_time_for_next_altaar)\n",
    "            total_yield_till_now -= altaar_built_cost_dict[current_altaar+1]  #reducing the total cost for building the altaar\n",
    "            \n",
    "            if current_altaar == max_allowed_altaar-1:\n",
    "                current_altaar = current_altaar + 1\n",
    "                pending_built_time_for_next_altaar = math.inf\n",
    "            elif current_altaar == max_allowed_altaar:\n",
    "                pending_built_time_for_next_altaar = math.inf\n",
    "            else:\n",
    "                current_altaar = current_altaar + 1\n",
    "                pending_built_time_for_next_altaar = altaar_built_time_dict[current_altaar+1]\n",
    "\n",
    "        else:\n",
    "            total_yield_till_now += get_yield_for_the_day(gotchi_kinship_array, current_altaar, parcel_dim)\n",
    "            pending_built_time_for_next_altaar -= 1\n",
    "            \n",
    "        #print(\"day {}, current level {}, pending time {}\".format(i+1, current_altaar, pending_built_time_for_next_altaar))\n",
    "        \n",
    "        future_yield = future_yield_by_current_altaar(gotchi_kinship_array, current_altaar, parcel_dim, num_days-i-1)\n",
    "                \n",
    "        if total_yield_till_now + future_yield > max_expected_yield:\n",
    "            max_expected_yield = total_yield_till_now + future_yield\n",
    "            max_yield_level = current_altaar\n",
    "        \n",
    "        gotchi_kinship_array = [ele+2 for ele in gotchi_kinship_array]\n",
    "\n",
    "    return max_expected_yield, max_yield_level\n",
    "\n",
    "    \n",
    "total_yield, altaar_level = gameplay_v3(gotchi_kinship_array=[500, 500],\n",
    "            num_days=300,\n",
    "            current_altaar=1,\n",
    "            parcel_dim = [32, 64],\n",
    "            max_allowed_altaar=3                                                \n",
    "           )\n",
    "\n",
    "#print(total_yield)\n"
   ]
  },
  {
   "cell_type": "code",
   "execution_count": 26,
   "metadata": {},
   "outputs": [],
   "source": [
    "DAYS = [10*(i+1) for i in range(25)]\n",
    "\n",
    "result_array = [[0]*len(DAYS) for i in range(9)]\n",
    "result_array_1 = [[0]*len(DAYS) for i in range(9)]\n",
    "\n",
    "\n",
    "for level in range(9):\n",
    "    for i in range(len(DAYS)):\n",
    "        result_array[level][i], result_array_1[level][i] = gameplay_v3(gotchi_kinship_array=[500, 500],\n",
    "                                            num_days=DAYS[i],\n",
    "                                            current_altaar=1,\n",
    "                                            parcel_dim = [32, 32],\n",
    "                                            max_allowed_altaar=level+1)"
   ]
  },
  {
   "cell_type": "code",
   "execution_count": 27,
   "metadata": {},
   "outputs": [
    {
     "data": {
      "text/plain": [
       "Text(159.0, 0.5, 'max allowed level')"
      ]
     },
     "execution_count": 27,
     "metadata": {},
     "output_type": "execute_result"
    },
    {
     "data": {
      "image/png": "[encoded data removed]",
      "text/plain": [
       "<Figure size 1440x576 with 2 Axes>"
      ]
     },
     "metadata": {
      "needs_background": "light"
     },
     "output_type": "display_data"
    }
   ],
   "source": [
    "#uniform_data = np.array(result_array)/100. #np.random.rand(7, 7)\n",
    "uniform_data = np.array(result_array_1)\n",
    "\n",
    "fig, ax = plt.subplots(figsize=(20,8))         # Sample figsize in inches\n",
    "ax = sns.heatmap(uniform_data, annot=True, xticklabels=DAYS, yticklabels=range(1,10))\n",
    "plt.title('Optimum level for a given (max level, max days)', fontsize = 20) # title with fontsize 20\n",
    "plt.xlabel('Number of days', fontsize = 12) # x-axis label with fontsize 15\n",
    "plt.ylabel('max allowed level', fontsize = 12) # y-axis label with fontsize 15"
   ]
  },
  {
   "cell_type": "code",
   "execution_count": null,
   "metadata": {},
   "outputs": [],
   "source": []
  },
  {
   "cell_type": "markdown",
   "metadata": {},
   "source": [
    "What does this graph says? <br>\n",
    "The above graph helps you decide what level of altaar should you build provided you know about the number of days you are going to play the game.\n",
    "\n",
    "TODO: <br>\n",
    "Need to figure out why a smaller level appears below the higher level at some parts in the graph"
   ]
  },
  {
   "cell_type": "code",
   "execution_count": null,
   "metadata": {},
   "outputs": [],
   "source": []
  },
  {
   "cell_type": "markdown",
   "metadata": {},
   "source": [
    "#### gameplay v4"
   ]
  },
  {
   "cell_type": "markdown",
   "metadata": {},
   "source": [
    "here we are trying to plot optimum level for plot size vs days distribution"
   ]
  },
  {
   "cell_type": "code",
   "execution_count": 28,
   "metadata": {},
   "outputs": [
    {
     "data": {
      "text/plain": [
       "[(8, 8), (16, 16), (32, 64)]"
      ]
     },
     "execution_count": 28,
     "metadata": {},
     "output_type": "execute_result"
    }
   ],
   "source": [
    "all_sizes"
   ]
  },
  {
   "cell_type": "code",
   "execution_count": 29,
   "metadata": {},
   "outputs": [],
   "source": [
    "DAYS = [10*(i+1) for i in range(25)]\n",
    "\n",
    "result_array = [[0]*len(DAYS) for i in range(len(all_sizes))]\n",
    "\n",
    "\n",
    "for k, parcel_dim in enumerate(all_sizes):\n",
    "    for i, day in enumerate(DAYS):\n",
    "\n",
    "        max_yield = 0\n",
    "        max_level = 1\n",
    "\n",
    "        for level in range(9):\n",
    "            myyield, mylevel = gameplay_v3(gotchi_kinship_array=[500],\n",
    "                                                num_days=day,\n",
    "                                                current_altaar=1,\n",
    "                                                parcel_dim = parcel_dim,\n",
    "                                                max_allowed_altaar=level+1)\n",
    "\n",
    "            if myyield > max_yield:\n",
    "                max_yield = myyield\n",
    "                max_level = mylevel\n",
    "        \n",
    "        result_array[k][i] = max_level"
   ]
  },
  {
   "cell_type": "code",
   "execution_count": 30,
   "metadata": {},
   "outputs": [
    {
     "data": {
      "text/plain": [
       "Text(159.0, 0.5, 'parcel size')"
      ]
     },
     "execution_count": 30,
     "metadata": {},
     "output_type": "execute_result"
    },
    {
     "data": {
      "image/png": "[encoded data removed]",
      "text/plain": [
       "<Figure size 1440x216 with 2 Axes>"
      ]
     },
     "metadata": {
      "needs_background": "light"
     },
     "output_type": "display_data"
    }
   ],
   "source": [
    "\n",
    "\n",
    "uniform_data = np.array(result_array)\n",
    "\n",
    "fig, ax = plt.subplots(figsize=(20,3))         # Sample figsize in inches\n",
    "ax = sns.heatmap(uniform_data, annot=True, xticklabels=DAYS, yticklabels=all_sizes)\n",
    "plt.title('altaar level for a given (parcel size, max days)', fontsize = 20) # title with fontsize 20\n",
    "plt.xlabel('Number of days', fontsize = 12) # x-axis label with fontsize 15\n",
    "plt.ylabel('parcel size', fontsize = 12) # y-axis label with fontsize 15"
   ]
  },
  {
   "cell_type": "code",
   "execution_count": null,
   "metadata": {},
   "outputs": [],
   "source": []
  },
  {
   "cell_type": "code",
   "execution_count": null,
   "metadata": {},
   "outputs": [],
   "source": []
  },
  {
   "cell_type": "code",
   "execution_count": null,
   "metadata": {},
   "outputs": [],
   "source": []
  },
  {
   "cell_type": "markdown",
   "metadata": {},
   "source": [
    "#### gameplay v5"
   ]
  },
  {
   "cell_type": "code",
   "execution_count": 31,
   "metadata": {},
   "outputs": [],
   "source": [
    "# need to find optimum altaars to construct for a given number of parcels, number of gotchis, and given time.\n",
    "# make a graph in which y axis has different plots, and x axis has time. \n",
    "# Label each block with how many altaars of what levels\n",
    "\n",
    "\n",
    "# each gotchi would either be idle for now, or would be collecting from some altaar\n",
    "# find marginal utility of new upgrades for each gotchi for that given time period\n"
   ]
  },
  {
   "cell_type": "code",
   "execution_count": 32,
   "metadata": {},
   "outputs": [
    {
     "data": {
      "text/plain": [
       "[(8, 8), (16, 16), (32, 64)]"
      ]
     },
     "execution_count": 32,
     "metadata": {},
     "output_type": "execute_result"
    }
   ],
   "source": [
    "all_sizes"
   ]
  },
  {
   "cell_type": "code",
   "execution_count": null,
   "metadata": {},
   "outputs": [],
   "source": []
  },
  {
   "cell_type": "code",
   "execution_count": null,
   "metadata": {},
   "outputs": [],
   "source": [
    "50000 days\n",
    "24 parcels -- \n",
    "24 gotchis -- [multiple kinships]\n",
    "\n",
    "\n",
    "\n",
    "\n",
    "\n",
    "\n",
    "24 parcels\n",
    "40 gotchis\n",
    "\n"
   ]
  },
  {
   "cell_type": "code",
   "execution_count": null,
   "metadata": {},
   "outputs": [],
   "source": [
    "\"\"\"\n",
    "initialize all parcels by level 1\n",
    "check the amount of gotchi's left\n",
    "\n",
    "if no gotchis are pending then we are good\n",
    "if gotchis are pending --> choose whichever element of the 3 matrix is giving highest yield for that level\n",
    "check how many gotchis are still left.\n",
    "\n",
    "if there is a max limit for the gotchis available\n",
    "\n",
    "\"\"\""
   ]
  },
  {
   "cell_type": "code",
   "execution_count": 165,
   "metadata": {},
   "outputs": [],
   "source": [
    "# this would be a 3 dimensional array. \n",
    "# 1st element would number of parcels of size 8x8\n",
    "# 2nd element would number of parcels of size 16x16\n",
    "# 3rd element would number of parcels of size 32x64\n",
    "parcel_input = [1, 0, 0]\n",
    "gotchi_kinship_array=[500, 500]\n",
    "days = 200"
   ]
  },
  {
   "cell_type": "code",
   "execution_count": 166,
   "metadata": {},
   "outputs": [
    {
     "data": {
      "text/plain": [
       "{(8, 8): [(595, 1),\n",
       "  (400, 1),\n",
       "  (400, 1),\n",
       "  (400, 1),\n",
       "  (400, 1),\n",
       "  (400, 1),\n",
       "  (400, 1),\n",
       "  (400, 1),\n",
       "  (400, 1)],\n",
       " (16, 16): [(2701, 1),\n",
       "  (2200, 1),\n",
       "  (2200, 1),\n",
       "  (2200, 1),\n",
       "  (2200, 1),\n",
       "  (2200, 1),\n",
       "  (2200, 1),\n",
       "  (2200, 1),\n",
       "  (2200, 1)],\n",
       " (32, 64): [(22319, 1),\n",
       "  (23056.489942348784, 2),\n",
       "  (22252.469827046352, 3),\n",
       "  (19492.489942348784, 2),\n",
       "  (19492.489942348784, 2),\n",
       "  (19492.489942348784, 2),\n",
       "  (19492.489942348784, 2),\n",
       "  (19492.489942348784, 2),\n",
       "  (19492.489942348784, 2)]}"
      ]
     },
     "execution_count": 166,
     "metadata": {},
     "output_type": "execute_result"
    }
   ],
   "source": [
    "# Y1, Y2, Y3 are the arrays yields at different level for T(num days) for a given altaar\n",
    "# it would be calculated using the gameplay v3\n",
    "\n",
    "yield_dict = {\n",
    "    (8, 8): [gameplay_v3(gotchi_kinship_array=[500],\n",
    "                                            num_days=days,\n",
    "                                            current_altaar=1,\n",
    "                                            parcel_dim = [8, 8],\n",
    "                                            max_allowed_altaar=level+1)\n",
    "             for level in range(9)],\n",
    "    (16, 16): [gameplay_v3(gotchi_kinship_array=[500],\n",
    "                                            num_days=days,\n",
    "                                            current_altaar=1,\n",
    "                                            parcel_dim = [16, 16],\n",
    "                                            max_allowed_altaar=level+1)\n",
    "             for level in range(9)],\n",
    "    (32, 64): [gameplay_v3(gotchi_kinship_array=[500],\n",
    "                                            num_days=days,\n",
    "                                            current_altaar=1,\n",
    "                                            parcel_dim = [32, 64],\n",
    "                                            max_allowed_altaar=level+1)\n",
    "             for level in range(9)],\n",
    "}\n",
    "\n",
    "yield_dict"
   ]
  },
  {
   "cell_type": "code",
   "execution_count": 167,
   "metadata": {},
   "outputs": [],
   "source": [
    "class MyParcel:\n",
    "    level = 1\n",
    "    dim = (8, 8)\n",
    "    yield_array = [0]*9\n",
    "    def __init__(self, level, dim):\n",
    "        self.level = 1\n",
    "        self.dim = dim\n",
    "        self.yield_array = yield_dict[dim]\n",
    "\n",
    "    def get_next_level_yield(self):\n",
    "        assert self.level < 8, \"9 is the maximum available level\"\n",
    "        return self.yield_array[self.level+1][0]\n",
    "        "
   ]
  },
  {
   "cell_type": "code",
   "execution_count": null,
   "metadata": {},
   "outputs": [],
   "source": []
  },
  {
   "cell_type": "code",
   "execution_count": 172,
   "metadata": {},
   "outputs": [
    {
     "data": {
      "text/plain": [
       "[<__main__.MyParcel at 0x7fe249a82390>]"
      ]
     },
     "execution_count": 172,
     "metadata": {},
     "output_type": "execute_result"
    }
   ],
   "source": [
    "Parcels = []\n",
    "\n",
    "for i in range(parcel_input[0]):\n",
    "    Parcels.append(MyParcel(1, (8, 8)))\n",
    "    \n",
    "for i in range(parcel_input[1]):\n",
    "    Parcels.append(MyParcel(1, (16, 16)))\n",
    "    \n",
    "for i in range(parcel_input[2]):\n",
    "    Parcels.append(MyParcel(1, (32, 64)))\n",
    "    \n",
    "    \n",
    "Parcels"
   ]
  },
  {
   "cell_type": "code",
   "execution_count": null,
   "metadata": {},
   "outputs": [],
   "source": []
  },
  {
   "cell_type": "code",
   "execution_count": 169,
   "metadata": {},
   "outputs": [
    {
     "data": {
      "text/plain": [
       "1"
      ]
     },
     "execution_count": 169,
     "metadata": {},
     "output_type": "execute_result"
    }
   ],
   "source": [
    "num_available_gotchis = len(gotchi_kinship_array) - len(Parcels)\n",
    "num_available_gotchis"
   ]
  },
  {
   "cell_type": "code",
   "execution_count": 170,
   "metadata": {},
   "outputs": [],
   "source": [
    "if num_available_gotchis <= 0:\n",
    "    print(\"Allotment has been done. Nothing more to do\")"
   ]
  },
  {
   "cell_type": "code",
   "execution_count": 171,
   "metadata": {},
   "outputs": [
    {
     "name": "stdout",
     "output_type": "stream",
     "text": [
      "new loop\n",
      "num_available_gotchis is 1\n",
      "0 --> 400\n"
     ]
    },
    {
     "ename": "KeyError",
     "evalue": "0",
     "output_type": "error",
     "traceback": [
      "\u001b[0;31m---------------------------------------------------------------------------\u001b[0m",
      "\u001b[0;31mKeyError\u001b[0m                                  Traceback (most recent call last)",
      "\u001b[0;32m<ipython-input-171-53ad78334b4e>\u001b[0m in \u001b[0;36m<module>\u001b[0;34m\u001b[0m\n\u001b[1;32m     21\u001b[0m \u001b[0;34m\u001b[0m\u001b[0m\n\u001b[1;32m     22\u001b[0m     \u001b[0mchannel_frequency\u001b[0m \u001b[0;34m=\u001b[0m \u001b[0mint\u001b[0m\u001b[0;34m(\u001b[0m\u001b[0;36m24\u001b[0m\u001b[0;34m/\u001b[0m\u001b[0mCHANNELING_RATE_IN_HOURS\u001b[0m\u001b[0;34m[\u001b[0m\u001b[0maltaar_level\u001b[0m\u001b[0;34m]\u001b[0m\u001b[0;34m)\u001b[0m\u001b[0;34m\u001b[0m\u001b[0;34m\u001b[0m\u001b[0m\n\u001b[0;32m---> 23\u001b[0;31m     \u001b[0mextra_available_channeling_slots\u001b[0m \u001b[0;34m=\u001b[0m \u001b[0mint\u001b[0m\u001b[0;34m(\u001b[0m\u001b[0;36m24\u001b[0m\u001b[0;34m/\u001b[0m\u001b[0mCHANNELING_RATE_IN_HOURS\u001b[0m\u001b[0;34m[\u001b[0m\u001b[0mnext_upgradeable_index\u001b[0m\u001b[0;34m]\u001b[0m\u001b[0;34m)\u001b[0m \u001b[0;34m-\u001b[0m \u001b[0mint\u001b[0m\u001b[0;34m(\u001b[0m\u001b[0;36m24\u001b[0m\u001b[0;34m/\u001b[0m\u001b[0mCHANNELING_RATE_IN_HOURS\u001b[0m\u001b[0;34m[\u001b[0m\u001b[0mnext_upgradeable_index\u001b[0m \u001b[0;34m-\u001b[0m \u001b[0;36m1\u001b[0m\u001b[0;34m]\u001b[0m\u001b[0;34m)\u001b[0m\u001b[0;34m\u001b[0m\u001b[0;34m\u001b[0m\u001b[0m\n\u001b[0m\u001b[1;32m     24\u001b[0m     \u001b[0mprint\u001b[0m\u001b[0;34m(\u001b[0m\u001b[0;34m\"extra slots --> {}\"\u001b[0m\u001b[0;34m.\u001b[0m\u001b[0mformat\u001b[0m\u001b[0;34m(\u001b[0m\u001b[0mextra_available_channeling_slots\u001b[0m\u001b[0;34m)\u001b[0m\u001b[0;34m)\u001b[0m\u001b[0;34m\u001b[0m\u001b[0;34m\u001b[0m\u001b[0m\n\u001b[1;32m     25\u001b[0m     \u001b[0mnum_available_gotchis\u001b[0m \u001b[0;34m-=\u001b[0m \u001b[0mextra_available_channeling_slots\u001b[0m\u001b[0;34m\u001b[0m\u001b[0;34m\u001b[0m\u001b[0m\n",
      "\u001b[0;31mKeyError\u001b[0m: 0"
     ]
    }
   ],
   "source": [
    "while(num_available_gotchis > 0):\n",
    "    # check which is best among the upgradeable levels\n",
    "    next_upgradeable_index = 0\n",
    "    max_upgradeable_yield = Parcels[0].get_next_level_yield()\n",
    "    \n",
    "    print(\"new loop\")\n",
    "    print(\"num_available_gotchis is {}\".format(num_available_gotchis))\n",
    "    \n",
    "    for i in range(len(Parcels)):\n",
    "        next_level_yield = Parcels[i].get_next_level_yield()\n",
    "        print(\"{} --> {}\".format(i, next_level_yield))\n",
    "        \n",
    "        if next_level_yield > max_upgradeable_yield:\n",
    "            max_upgradeable_yield = next_level_yield\n",
    "            next_upgradeable_index = i\n",
    "    \n",
    "    \n",
    "    #upgrade the index thus achieved, and reduce the num available gotchis\n",
    "    Parcels[next_upgradeable_index].level += 1\n",
    "    \n",
    "    \n",
    "    channel_frequency = int(24/CHANNELING_RATE_IN_HOURS[altaar_level])\n",
    "    extra_available_channeling_slots = int(24/CHANNELING_RATE_IN_HOURS[next_upgradeable_index]) - int(24/CHANNELING_RATE_IN_HOURS[next_upgradeable_index - 1])\n",
    "    print(\"extra slots --> {}\".format(extra_available_channeling_slots))\n",
    "    num_available_gotchis -= extra_available_channeling_slots\n",
    "    "
   ]
  },
  {
   "cell_type": "code",
   "execution_count": 163,
   "metadata": {},
   "outputs": [
    {
     "name": "stdout",
     "output_type": "stream",
     "text": [
      "size (8, 8) level constructed 1\n"
     ]
    }
   ],
   "source": [
    "#print result\n",
    "\n",
    "result = {}\n",
    "for i in range(len(Parcels)):\n",
    "    if str(Parcels[i].dim) in result:\n",
    "        result[str(Parcels[i].dim)].append(Parcels[i].level)\n",
    "    else:\n",
    "        result[str(Parcels[i].dim)] = [Parcels[i].level]\n",
    "    print(\"size {} level constructed {}\".format(Parcels[i].dim, Parcels[i].level))"
   ]
  },
  {
   "cell_type": "code",
   "execution_count": 164,
   "metadata": {},
   "outputs": [
    {
     "data": {
      "text/plain": [
       "{'(8, 8)': [1]}"
      ]
     },
     "execution_count": 164,
     "metadata": {},
     "output_type": "execute_result"
    }
   ],
   "source": [
    "result"
   ]
  },
  {
   "cell_type": "code",
   "execution_count": null,
   "metadata": {},
   "outputs": [],
   "source": [
    "\n"
   ]
  },
  {
   "cell_type": "code",
   "execution_count": null,
   "metadata": {},
   "outputs": [],
   "source": []
  },
  {
   "cell_type": "code",
   "execution_count": null,
   "metadata": {},
   "outputs": [],
   "source": []
  },
  {
   "cell_type": "code",
   "execution_count": null,
   "metadata": {},
   "outputs": [],
   "source": [
    "gotchi_array = request.args.get('gotchi_array')\n",
    "parcel_array = request.args.get('parcel_array')\n",
    "days = int(request.args.get('days'))\n",
    "\n",
    "parcel_input = list(map(int, parcel_array.split(\",\")))\n",
    "\n",
    "gotchi_kinship_array = list(map(int, gotchi_array.split(\",\")))\n",
    "\n",
    "\n",
    "total_parcels = sum(parcel_input)\n",
    "total_gotchis = len(gotchi_kinship_array)\n",
    "\n",
    "Parcels = []\n",
    "\n",
    "for i in range(parcel_input[2]):\n",
    "    Parcels.append(MyParcel_1(0, (32, 64), 0))\n",
    "\n",
    "for i in range(parcel_input[1]):\n",
    "    Parcels.append(MyParcel_1(0, (16, 16), 0))\n",
    "\n",
    "for i in range(parcel_input[0]):\n",
    "    Parcels.append(MyParcel_1(0, (8, 8), 0))\n",
    "\n",
    "gotchi_kinship_array.sort(reverse=True)\n",
    "\n",
    "temp = total_gotchis\n",
    "\n",
    "while temp > 0:\n",
    "    for parcel in Parcels:\n",
    "        parcel.num_gotchi += 1\n",
    "        temp -= 1\n",
    "\n",
    "        if temp == 0:\n",
    "            break\n",
    "\n",
    "\n",
    "counter = 0\n",
    "for parcel in Parcels:\n",
    "    for i in range(parcel.num_gotchi):\n",
    "        parcel.gotchi_kinship_array.append(gotchi_kinship_array[counter])\n",
    "        counter +=1 \n",
    "\n",
    "\n",
    "for parcel in Parcels:\n",
    "    #print(\"dim {} --> num gotchi {} --> {}\".format(parcel.dim, parcel.num_gotchi, parcel.gotchi_kinship_array))\n",
    "\n",
    "    _, parcel.level = gameplay_v3(gotchi_kinship_array=parcel.gotchi_kinship_array,\n",
    "                num_days=days,\n",
    "                current_altaar=1,\n",
    "                parcel_dim = parcel.dim,\n",
    "                max_allowed_altaar=9)\n",
    "\n",
    "\n",
    "result = {}\n",
    "for i in range(len(Parcels)):\n",
    "    if str(Parcels[i].dim) in result:\n",
    "        result[str(Parcels[i].dim)].append(Parcels[i].level)\n",
    "    else:\n",
    "        result[str(Parcels[i].dim)] = [Parcels[i].level]\n",
    "    print(\"size {} level constructed {}\".format(Parcels[i].dim, Parcels[i].level))"
   ]
  },
  {
   "cell_type": "code",
   "execution_count": null,
   "metadata": {},
   "outputs": [],
   "source": []
  }
 ],
 "metadata": {
  "kernelspec": {
   "display_name": "Python 3",
   "language": "python",
   "name": "python3"
  },
  "language_info": {
   "codemirror_mode": {
    "name": "ipython",
    "version": 3
   },
   "file_extension": ".py",
   "mimetype": "text/x-python",
   "name": "python",
   "nbconvert_exporter": "python",
   "pygments_lexer": "ipython3",
   "version": "3.7.6"
  }
 },
 "nbformat": 4,
 "nbformat_minor": 4
}
