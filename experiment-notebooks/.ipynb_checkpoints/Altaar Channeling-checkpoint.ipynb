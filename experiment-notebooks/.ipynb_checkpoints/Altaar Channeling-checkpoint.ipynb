{
 "cells": [
  {
   "cell_type": "markdown",
   "metadata": {},
   "source": [
    "#### problem\n",
    "Assuming a Gotchi with Kinship X, \n",
    "that channels Y amount of times per day (deduced by the level of altar), \n",
    "with a spillover of Z %, \n",
    "and a collection of the spillover of S % (which is directly related to the radius of spillover and the size of the plot), \n",
    "what is the optimum level of altar for each plot size?\n",
    "\n",
    "\n"
   ]
  },
  {
   "cell_type": "code",
   "execution_count": null,
   "metadata": {},
   "outputs": [],
   "source": []
  },
  {
   "cell_type": "code",
   "execution_count": null,
   "metadata": {},
   "outputs": [],
   "source": []
  },
  {
   "cell_type": "code",
   "execution_count": 13,
   "metadata": {},
   "outputs": [
    {
     "data": {
      "text/plain": [
       "'\\nhow much time the work took\\n- 1 hour of 27may\\n- 4 hours on 31may\\n- 5 hours on 1 june for improving v7\\n- 3.5 hrs on 2 june morning for adding yield to json result\\n'"
      ]
     },
     "execution_count": 13,
     "metadata": {},
     "output_type": "execute_result"
    }
   ],
   "source": [
    "\"\"\"\n",
    "more todos\n",
    "- return computation time also in the API\n",
    "- create API for generating analytics graph\n",
    "- pending work of the last 2 meetings\n",
    "- put everything in github and generate proper setup for production\n",
    "- change APIs to get exchange data at every API call\n",
    "\"\"\"\n",
    "\n",
    "\n",
    "\n",
    "\"\"\"\n",
    "how much time the work took\n",
    "- 1 hour of 27may\n",
    "- 4 hours on 31may\n",
    "- 5 hours on 1 june for improving v7\n",
    "- 3.5 hrs on 2 june morning for adding yield to json result\n",
    "\"\"\""
   ]
  },
  {
   "cell_type": "code",
   "execution_count": null,
   "metadata": {},
   "outputs": [],
   "source": []
  },
  {
   "cell_type": "markdown",
   "metadata": {},
   "source": [
    "### initializations"
   ]
  },
  {
   "cell_type": "code",
   "execution_count": 14,
   "metadata": {},
   "outputs": [],
   "source": [
    "import math\n",
    "import pandas as pd\n",
    "import seaborn as sns\n",
    "import numpy as np\n",
    "import random\n",
    "import matplotlib.pyplot as plt\n",
    "import requests"
   ]
  },
  {
   "cell_type": "code",
   "execution_count": 15,
   "metadata": {},
   "outputs": [],
   "source": [
    "BASE_RATE = [20, 10, 5, 2] #ordered by FUD, FOMO, ALPHA, KEK\n",
    "plot_size_array = [1, 2, 4, 8, 16, 32, 64]\n",
    "SPILLOVER_COLLECTION_RATE = 0.3 # this will depend on radius and size of parcel\n",
    "INCLUDE_SPILLOVER_COMPUTATION = False"
   ]
  },
  {
   "cell_type": "code",
   "execution_count": null,
   "metadata": {},
   "outputs": [],
   "source": []
  },
  {
   "cell_type": "markdown",
   "metadata": {},
   "source": [
    "calling API to get current exchange rates between the tokens"
   ]
  },
  {
   "cell_type": "code",
   "execution_count": 16,
   "metadata": {},
   "outputs": [],
   "source": [
    "URL = \"https://api.coingecko.com/api/v3/simple/price?ids=aavegotchi-fud%2Caavegotchi-fomo%2Caavegotchi-alpha%2Caavegotchi-kek%2Caavegotchi&vs_currencies=usd\"\n",
    "result = requests.get(url = URL).json()\n"
   ]
  },
  {
   "cell_type": "code",
   "execution_count": null,
   "metadata": {},
   "outputs": [],
   "source": []
  },
  {
   "cell_type": "code",
   "execution_count": 17,
   "metadata": {},
   "outputs": [
    {
     "data": {
      "text/plain": [
       "{'aavegotchi-fomo': {'usd': 0.03009426},\n",
       " 'aavegotchi-alpha': {'usd': 0.168971},\n",
       " 'aavegotchi-kek': {'usd': 0.201391},\n",
       " 'aavegotchi-fud': {'usd': 0.01453957},\n",
       " 'aavegotchi': {'usd': 1.5}}"
      ]
     },
     "execution_count": 17,
     "metadata": {},
     "output_type": "execute_result"
    }
   ],
   "source": [
    "result"
   ]
  },
  {
   "cell_type": "code",
   "execution_count": 18,
   "metadata": {},
   "outputs": [],
   "source": [
    "fud_factor = 1.0\n",
    "fomo_factor = result['aavegotchi-fomo']['usd']/result['aavegotchi-fud']['usd']\n",
    "alpha_factor = result['aavegotchi-alpha']['usd']/result['aavegotchi-fud']['usd']\n",
    "kek_factor = result['aavegotchi-kek']['usd']/result['aavegotchi-fud']['usd']"
   ]
  },
  {
   "cell_type": "code",
   "execution_count": 19,
   "metadata": {},
   "outputs": [
    {
     "data": {
      "text/plain": [
       "(1.0, 2.0698177456417213, 11.621457856043886, 13.851234940235509)"
      ]
     },
     "execution_count": 19,
     "metadata": {},
     "output_type": "execute_result"
    }
   ],
   "source": [
    "fud_factor, fomo_factor, alpha_factor, kek_factor"
   ]
  },
  {
   "cell_type": "code",
   "execution_count": 20,
   "metadata": {},
   "outputs": [],
   "source": [
    "# fud_factor = 1.0\n",
    "# fomo_factor = 2.0\n",
    "# alpha_factor = 4.0\n",
    "# kek_factor = 10.0"
   ]
  },
  {
   "cell_type": "code",
   "execution_count": 21,
   "metadata": {},
   "outputs": [],
   "source": [
    "CHANNELING_RATE_IN_HOURS = {0: float('inf'),\n",
    "    1:24, 2:18, 3:12, 4:8, \n",
    "    5:6, 6:4, 7:3, 8:2, 9:1\n",
    "}\n"
   ]
  },
  {
   "cell_type": "code",
   "execution_count": 22,
   "metadata": {},
   "outputs": [],
   "source": [
    "altaar_cost_df = pd.read_csv(\"data/altaar_cost.csv\")\n",
    "altaar_cost_df = altaar_cost_df.replace(',','', regex=True)"
   ]
  },
  {
   "cell_type": "code",
   "execution_count": 23,
   "metadata": {},
   "outputs": [
    {
     "data": {
      "text/html": [
       "<div>\n",
       "<style scoped>\n",
       "    .dataframe tbody tr th:only-of-type {\n",
       "        vertical-align: middle;\n",
       "    }\n",
       "\n",
       "    .dataframe tbody tr th {\n",
       "        vertical-align: top;\n",
       "    }\n",
       "\n",
       "    .dataframe thead th {\n",
       "        text-align: right;\n",
       "    }\n",
       "</style>\n",
       "<table border=\"1\" class=\"dataframe\">\n",
       "  <thead>\n",
       "    <tr style=\"text-align: right;\">\n",
       "      <th></th>\n",
       "      <th>Level</th>\n",
       "      <th>FUD</th>\n",
       "      <th>FOMO</th>\n",
       "      <th>ALPHA</th>\n",
       "      <th>KEK</th>\n",
       "      <th>Built Time (Blocks)</th>\n",
       "      <th>Buid Time (Days)</th>\n",
       "    </tr>\n",
       "  </thead>\n",
       "  <tbody>\n",
       "    <tr>\n",
       "      <th>0</th>\n",
       "      <td>1</td>\n",
       "      <td>0</td>\n",
       "      <td>0</td>\n",
       "      <td>0</td>\n",
       "      <td>0</td>\n",
       "      <td>0</td>\n",
       "      <td>0.0</td>\n",
       "    </tr>\n",
       "    <tr>\n",
       "      <th>1</th>\n",
       "      <td>2</td>\n",
       "      <td>300</td>\n",
       "      <td>150</td>\n",
       "      <td>75</td>\n",
       "      <td>10</td>\n",
       "      <td>65000</td>\n",
       "      <td>1.7</td>\n",
       "    </tr>\n",
       "    <tr>\n",
       "      <th>2</th>\n",
       "      <td>3</td>\n",
       "      <td>600</td>\n",
       "      <td>300</td>\n",
       "      <td>150</td>\n",
       "      <td>20</td>\n",
       "      <td>160000</td>\n",
       "      <td>4.1</td>\n",
       "    </tr>\n",
       "    <tr>\n",
       "      <th>3</th>\n",
       "      <td>4</td>\n",
       "      <td>1000</td>\n",
       "      <td>750</td>\n",
       "      <td>375</td>\n",
       "      <td>100</td>\n",
       "      <td>320000</td>\n",
       "      <td>8.1</td>\n",
       "    </tr>\n",
       "    <tr>\n",
       "      <th>4</th>\n",
       "      <td>5</td>\n",
       "      <td>2000</td>\n",
       "      <td>1500</td>\n",
       "      <td>750</td>\n",
       "      <td>200</td>\n",
       "      <td>475000</td>\n",
       "      <td>12.1</td>\n",
       "    </tr>\n",
       "    <tr>\n",
       "      <th>5</th>\n",
       "      <td>6</td>\n",
       "      <td>4000</td>\n",
       "      <td>3000</td>\n",
       "      <td>1500</td>\n",
       "      <td>400</td>\n",
       "      <td>630000</td>\n",
       "      <td>16.0</td>\n",
       "    </tr>\n",
       "    <tr>\n",
       "      <th>6</th>\n",
       "      <td>7</td>\n",
       "      <td>5000</td>\n",
       "      <td>7500</td>\n",
       "      <td>3750</td>\n",
       "      <td>1500</td>\n",
       "      <td>1250000</td>\n",
       "      <td>31.8</td>\n",
       "    </tr>\n",
       "    <tr>\n",
       "      <th>7</th>\n",
       "      <td>8</td>\n",
       "      <td>10000</td>\n",
       "      <td>15000</td>\n",
       "      <td>7500</td>\n",
       "      <td>3000</td>\n",
       "      <td>1900000</td>\n",
       "      <td>48.4</td>\n",
       "    </tr>\n",
       "    <tr>\n",
       "      <th>8</th>\n",
       "      <td>9</td>\n",
       "      <td>20000</td>\n",
       "      <td>30000</td>\n",
       "      <td>15000</td>\n",
       "      <td>6000</td>\n",
       "      <td>3200000</td>\n",
       "      <td>81.5</td>\n",
       "    </tr>\n",
       "  </tbody>\n",
       "</table>\n",
       "</div>"
      ],
      "text/plain": [
       "   Level         FUD        FOMO       ALPHA        KEK Built Time (Blocks)  \\\n",
       "0      1           0           0           0          0                   0   \n",
       "1      2      300         150          75         10               65000      \n",
       "2      3      600         300         150         20              160000      \n",
       "3      4     1000         750         375        100              320000      \n",
       "4      5     2000        1500         750        200              475000      \n",
       "5      6     4000        3000        1500        400              630000      \n",
       "6      7     5000        7500        3750       1500             1250000      \n",
       "7      8    10000       15000        7500       3000             1900000      \n",
       "8      9    20000       30000       15000       6000             3200000      \n",
       "\n",
       "   Buid Time (Days)   \n",
       "0                0.0  \n",
       "1                1.7  \n",
       "2                4.1  \n",
       "3                8.1  \n",
       "4               12.1  \n",
       "5               16.0  \n",
       "6               31.8  \n",
       "7               48.4  \n",
       "8               81.5  "
      ]
     },
     "execution_count": 23,
     "metadata": {},
     "output_type": "execute_result"
    }
   ],
   "source": [
    "altaar_cost_df.head(12)"
   ]
  },
  {
   "cell_type": "code",
   "execution_count": 24,
   "metadata": {},
   "outputs": [
    {
     "data": {
      "text/plain": [
       "Index(['Level', 'FUD', 'FOMO', 'ALPHA', 'KEK', 'Built Time (Blocks)',\n",
       "       'Buid Time (Days) '],\n",
       "      dtype='object')"
      ]
     },
     "execution_count": 24,
     "metadata": {},
     "output_type": "execute_result"
    }
   ],
   "source": [
    "altaar_cost_df.columns"
   ]
  },
  {
   "cell_type": "code",
   "execution_count": null,
   "metadata": {},
   "outputs": [],
   "source": []
  },
  {
   "cell_type": "code",
   "execution_count": 25,
   "metadata": {},
   "outputs": [
    {
     "data": {
      "text/plain": [
       "{1: 0.0, 2: 1.7, 3: 4.1, 4: 8.1, 5: 12.1, 6: 16.0, 7: 31.8, 8: 48.4, 9: 81.5}"
      ]
     },
     "execution_count": 25,
     "metadata": {},
     "output_type": "execute_result"
    }
   ],
   "source": [
    "altaar_built_time_dict = { altaar_cost_df['Level'][i]: altaar_cost_df['Buid Time (Days) '][i] for i in range(altaar_cost_df.shape[0]) }\n",
    "altaar_built_time_dict\n"
   ]
  },
  {
   "cell_type": "code",
   "execution_count": null,
   "metadata": {},
   "outputs": [],
   "source": []
  },
  {
   "cell_type": "code",
   "execution_count": 27,
   "metadata": {},
   "outputs": [
    {
     "name": "stdout",
     "output_type": "stream",
     "text": [
      "total yield in fud --> 0.0\n",
      "FUD: 0\n",
      "FOMO: 0\n",
      "ALPHA: 0\n",
      "KEK: 0\n"
     ]
    }
   ],
   "source": [
    "class Yield:\n",
    "    fud = 0\n",
    "    fomo = 0\n",
    "    alpha = 0\n",
    "    kek = 0\n",
    "    def __init__(self, fud = 0, fomo = 0, alpha = 0, kek = 0):\n",
    "        self.fud = fud\n",
    "        self.fomo = fomo\n",
    "        self.alpha = alpha\n",
    "        self.kek = kek\n",
    "        \n",
    "    \n",
    "    def add_yield(self, y1):\n",
    "        self.fud += y1.fud\n",
    "        self.fomo += y1.fomo\n",
    "        self.alpha += y1.alpha\n",
    "        self.kek += y1.kek\n",
    "        \n",
    "    def substract_yield(self, y1):\n",
    "        self.fud -= y1.fud\n",
    "        self.fomo -= y1.fomo\n",
    "        self.alpha -= y1.alpha\n",
    "        self.kek -= y1.kek\n",
    "        \n",
    "    def add_yield_by_base_rate(self, base_rate, factor):\n",
    "        # base rate is a 4 dimensional array\n",
    "        self.fud += base_rate[0] * factor\n",
    "        self.fomo += base_rate[1] * factor\n",
    "        self.alpha += base_rate[2] * factor\n",
    "        self.kek += base_rate[3] * factor\n",
    "        \n",
    "    def get_total_yield_in_fud(self):\n",
    "        try:\n",
    "            URL = \"https://api.coingecko.com/api/v3/simple/price?ids=aavegotchi-fud%2Caavegotchi-fomo%2Caavegotchi-alpha%2Caavegotchi-kek%2Caavegotchi&vs_currencies=usd\"\n",
    "            result = requests.get(url = URL).json()\n",
    "\n",
    "            fud_factor = 1.0\n",
    "            fomo_factor = result['aavegotchi-fomo']['usd']/result['aavegotchi-fud']['usd']\n",
    "            alpha_factor = result['aavegotchi-alpha']['usd']/result['aavegotchi-fud']['usd']\n",
    "            kek_factor = result['aavegotchi-kek']['usd']/result['aavegotchi-fud']['usd']\n",
    "        except:\n",
    "            print(\"unable to get token factors from the API\")\n",
    "            fud_factor = 1.0\n",
    "            fomo_factor = 2.0\n",
    "            alpha_factor = 10.0\n",
    "            kek_factor = 20.0\n",
    "            \n",
    "        return fud_factor*self.fud + fomo_factor*self.fomo + alpha_factor*self.alpha + kek_factor*self.kek\n",
    "    \n",
    "    def diplay(self):\n",
    "        print(\"FUD: {}\\nFOMO: {}\\nALPHA: {}\\nKEK: {}\".format(self.fud, self.fomo, self.alpha, self.kek))\n",
    "    \n",
    "    \n",
    "myobj = Yield()\n",
    "print(\"total yield in fud --> {}\".format(myobj.get_total_yield_in_fud()))\n",
    "myobj.diplay()\n"
   ]
  },
  {
   "cell_type": "code",
   "execution_count": null,
   "metadata": {},
   "outputs": [],
   "source": []
  },
  {
   "cell_type": "code",
   "execution_count": 28,
   "metadata": {},
   "outputs": [],
   "source": [
    "altaar_built_cost_dict_in_alchemica = {\n",
    "    altaar_cost_df['Level'][i]: Yield(fud = int(altaar_cost_df['FUD'][i]),\n",
    "                                      fomo = int(altaar_cost_df['FOMO'][i]),\n",
    "                                      alpha = int(altaar_cost_df['ALPHA'][i]),\n",
    "                                      kek = int(altaar_cost_df['KEK'][i]),\n",
    "                                     )\n",
    "    for i in range(altaar_cost_df.shape[0])\n",
    "}"
   ]
  },
  {
   "cell_type": "code",
   "execution_count": null,
   "metadata": {},
   "outputs": [],
   "source": []
  },
  {
   "cell_type": "code",
   "execution_count": 29,
   "metadata": {},
   "outputs": [
    {
     "data": {
      "text/plain": [
       "{1: 0.0,\n",
       " 2: 1620.5943504519048,\n",
       " 3: 3241.1887009038096,\n",
       " 4: 8295.5334992713,\n",
       " 5: 16591.0669985426,\n",
       " 6: 33182.1339970852,\n",
       " 7: 84880.95246283076,\n",
       " 8: 169761.9049256615,\n",
       " 9: 339523.809851323}"
      ]
     },
     "execution_count": 29,
     "metadata": {},
     "output_type": "execute_result"
    }
   ],
   "source": [
    "altaar_built_cost_dict = { altaar_cost_df['Level'][i]: \n",
    "                          fud_factor*int(altaar_cost_df['FUD'][i])+\n",
    "                          fomo_factor*int(altaar_cost_df['FOMO'][i])+\n",
    "                          alpha_factor*int(altaar_cost_df['ALPHA'][i])+\n",
    "                          kek_factor*int(altaar_cost_df['KEK'][i]) \n",
    "                          for i in range(altaar_cost_df.shape[0]) }\n",
    "altaar_built_cost_dict\n"
   ]
  },
  {
   "cell_type": "code",
   "execution_count": 30,
   "metadata": {},
   "outputs": [],
   "source": [
    "yield_at_base_rate = fud_factor*BASE_RATE[0]+ \\\n",
    "                    fomo_factor*BASE_RATE[1] + \\\n",
    "                    alpha_factor*BASE_RATE[2] + \\\n",
    "                    kek_factor*BASE_RATE[3]"
   ]
  },
  {
   "cell_type": "code",
   "execution_count": 31,
   "metadata": {},
   "outputs": [],
   "source": [
    "\"\"\"\n",
    "computing all possible sizes of plots available.\n",
    "\"\"\"\n",
    "\n",
    "all_sizes = []\n",
    "for x in plot_size_array:\n",
    "    for y in plot_size_array:\n",
    "        all_sizes.append(tuple(sorted((x,y))))\n",
    "all_sizes = sorted(list(set(all_sizes)))\n",
    "\n",
    "all_sizes = [(8,8), (16,16), (32,64)] # predetermined sizes of parcels in gotchiverse"
   ]
  },
  {
   "cell_type": "code",
   "execution_count": null,
   "metadata": {},
   "outputs": [],
   "source": []
  },
  {
   "cell_type": "markdown",
   "metadata": {},
   "source": [
    "### class definitions"
   ]
  },
  {
   "cell_type": "code",
   "execution_count": 32,
   "metadata": {},
   "outputs": [],
   "source": [
    "class MyParcel_1:\n",
    "    altaar_level = 1\n",
    "    reservior_level = 0\n",
    "    dim = (8, 8)\n",
    "    num_gotchi = 0\n",
    "    gotchi_kinship_array = [] #this is the arrays which suggests what gotchis have been assigned to collect from this parcel\n",
    "    \n",
    "    def __init__(self, altaar_level, dim, num_gotchi):\n",
    "        self.altaar_level = altaar_level\n",
    "        self.dim = dim\n",
    "        self.num_gotchi = num_gotchi\n",
    "        self.gotchi_kinship_array = []\n",
    "        \n",
    "    def reset_parcel(self):\n",
    "        #reset everything except the size\n",
    "        self.altaar_level = 0\n",
    "        self.num_gotchi = 0\n",
    "        self.gotchi_kinship_array = []\n",
    "        \n",
    "        \n",
    "    def print_parcel_info(self):\n",
    "        print(\"parcel size {} --> parcel level {} --> parcel gotchi {}\".format(self.dim, self.altaar_level, self.num_gotchi))\n",
    "        channel_frequency = int(24/CHANNELING_RATE_IN_HOURS[self.altaar_level])\n",
    "        print(\"channel capacity of level {} num open slots {}\".format(channel_frequency, channel_frequency - self.num_gotchi))\n",
    "\n"
   ]
  },
  {
   "cell_type": "code",
   "execution_count": null,
   "metadata": {},
   "outputs": [],
   "source": []
  },
  {
   "cell_type": "code",
   "execution_count": null,
   "metadata": {},
   "outputs": [],
   "source": []
  },
  {
   "cell_type": "code",
   "execution_count": null,
   "metadata": {},
   "outputs": [],
   "source": []
  },
  {
   "cell_type": "markdown",
   "metadata": {},
   "source": [
    "### helper functions"
   ]
  },
  {
   "cell_type": "code",
   "execution_count": 33,
   "metadata": {},
   "outputs": [
    {
     "data": {
      "text/plain": [
       "[[1.4142135623730951, 1.0, 1.4142135623730951],\n",
       " [1.0, 0.0, 1.0],\n",
       " [1.4142135623730951, 1.0, 1.4142135623730951]]"
      ]
     },
     "execution_count": 33,
     "metadata": {},
     "output_type": "execute_result"
    }
   ],
   "source": [
    "\"\"\"\n",
    "this function will be used once there is more information how spill varies according to radius\n",
    "\"\"\"\n",
    "def spill_radius_function(x_len, y_len):\n",
    "    tmp_array = [[0]*x_len for i in range(y_len)]\n",
    "    mid_x = x_len/2.0\n",
    "    mid_y = y_len/2.0\n",
    "    \n",
    "    for i in range(x_len):\n",
    "        for j in range(y_len):\n",
    "            pixel_x = i+0.5\n",
    "            pixel_y = j+0.5\n",
    "            dist_from_mid = math.sqrt(math.pow(mid_x-pixel_x, 2) + math.pow(mid_y-pixel_y, 2))\n",
    "            \n",
    "            tmp_array[i][j] = dist_from_mid\n",
    "    \n",
    "    return tmp_array\n",
    "\n",
    "spill_radius_function(3,3)"
   ]
  },
  {
   "cell_type": "code",
   "execution_count": 34,
   "metadata": {},
   "outputs": [],
   "source": [
    "\"\"\"\n",
    "this is a simple spill collection function which depends on size of parcel\n",
    "spillover collection is 1 for 64X64\n",
    "splillover collection for k X k = (k/64)*(k/64)\n",
    "\"\"\"\n",
    "\n",
    "def spill_collection_rate(x_len, y_len):\n",
    "    \n",
    "    return (x_len/64)*(y_len/64)\n"
   ]
  },
  {
   "cell_type": "code",
   "execution_count": null,
   "metadata": {},
   "outputs": [],
   "source": []
  },
  {
   "cell_type": "code",
   "execution_count": null,
   "metadata": {},
   "outputs": [],
   "source": []
  },
  {
   "cell_type": "code",
   "execution_count": 35,
   "metadata": {},
   "outputs": [
    {
     "data": {
      "text/plain": [
       "126.50793661710766"
      ]
     },
     "execution_count": 35,
     "metadata": {},
     "output_type": "execute_result"
    }
   ],
   "source": [
    "yield_at_base_rate"
   ]
  },
  {
   "cell_type": "code",
   "execution_count": 36,
   "metadata": {},
   "outputs": [
    {
     "data": {
      "text/plain": [
       "126.50793661710766"
      ]
     },
     "execution_count": 36,
     "metadata": {},
     "output_type": "execute_result"
    }
   ],
   "source": [
    "fud_factor*BASE_RATE[0]+ \\\n",
    "                    fomo_factor*BASE_RATE[1] + \\\n",
    "                    alpha_factor*BASE_RATE[2] + \\\n",
    "                    kek_factor*BASE_RATE[3]"
   ]
  },
  {
   "cell_type": "code",
   "execution_count": 37,
   "metadata": {},
   "outputs": [],
   "source": [
    "\"\"\"\n",
    "This function computes yield which an altaar which generate in 1 day, given the following parameters\n",
    "1. kinships of all the available gotchis\n",
    "2. the level of altaar\n",
    "3. dimension of the parcel\n",
    "\n",
    "yield = yield_from_altaar + yield_from_spillover,\n",
    "\n",
    "where,\n",
    "\n",
    "actual_yield = frequency_of_channel x base_rate_yield x channeling_modifier\n",
    "yield_from_altaar = actual_yield x (1-spillover_rate)\n",
    "yield_from_spillover = actual_yield x spillover_rate x collection_rate\n",
    "\"\"\"\n",
    "\n",
    "def get_yield_for_the_day(gotchi_kinship_array, altaar_level, parcel_dim):\n",
    "    \n",
    "    yield_obj = Yield()\n",
    "    \n",
    "    x, y = parcel_dim\n",
    "    \n",
    "    spillover_rate = (50 - (altaar_level-1)*5)/100.0\n",
    "    \n",
    "    channeling_modifier_array = sorted([math.sqrt(ele/50) for ele in gotchi_kinship_array], reverse=True) #start by using gotchi's who have more kinship\n",
    "    \n",
    "    channel_frequency = int(24/CHANNELING_RATE_IN_HOURS[altaar_level])\n",
    "    \n",
    "    total_yield = 0\n",
    "    for i in range(min(len(gotchi_kinship_array), int(channel_frequency))):\n",
    "        \n",
    "        #yield from the altaar\n",
    "        total_yield += int(channeling_modifier_array[i]*yield_at_base_rate*(1-spillover_rate))\n",
    "        \n",
    "        yield_obj.add_yield_by_base_rate(BASE_RATE, channeling_modifier_array[i]*(1-spillover_rate))\n",
    "        \n",
    "        if INCLUDE_SPILLOVER_COMPUTATION:\n",
    "            total_yield += int(channeling_modifier_array[i]*yield_at_base_rate*spillover_rate * spill_collection_rate(x, y))\n",
    "            yield_obj.add_yield_by_base_rate(BASE_RATE, channeling_modifier_array[i]*spillover_rate * spill_collection_rate(x, y))\n",
    "    \n",
    "    return total_yield, yield_obj\n",
    "\n",
    "\n",
    "\n",
    "t1, t2 = get_yield_for_the_day([500, 600], 3, [32,64])\n",
    "\n"
   ]
  },
  {
   "cell_type": "code",
   "execution_count": 38,
   "metadata": {},
   "outputs": [
    {
     "name": "stdout",
     "output_type": "stream",
     "text": [
      "502\n",
      "FUD: 79.5165513036736\n",
      "FOMO: 39.7582756518368\n",
      "ALPHA: 19.8791378259184\n",
      "KEK: 7.95165513036736\n",
      "502.9737416168065\n"
     ]
    }
   ],
   "source": [
    "print(t1)\n",
    "t2.diplay()\n",
    "print(t2.get_total_yield_in_fud())"
   ]
  },
  {
   "cell_type": "code",
   "execution_count": null,
   "metadata": {},
   "outputs": [],
   "source": []
  },
  {
   "cell_type": "code",
   "execution_count": null,
   "metadata": {},
   "outputs": [],
   "source": []
  },
  {
   "cell_type": "code",
   "execution_count": 40,
   "metadata": {},
   "outputs": [
    {
     "data": {
      "text/plain": [
       "(200, <__main__.Yield at 0x7fad6ea0cf50>)"
      ]
     },
     "execution_count": 40,
     "metadata": {},
     "output_type": "execute_result"
    }
   ],
   "source": [
    "\"\"\"\n",
    "TODO: need to implement this function covering all the types of scenarios\n",
    "1. day will be divided into 2 parts. one with the original altar, 2nd with the upgraded altar\n",
    "2. gotchi's need to make a choice which altaar to channel, depending on how many channel frequency are available in each\n",
    "3. preferably gotchi's should channel the upgraded altar\n",
    "\"\"\"\n",
    "def get_yield_for_the_upgrade_day(gotchi_kinship_array, altaar_level, parcel_dim, pending_built_time):\n",
    "    # using the same function as of now, will work on this function later\n",
    "    return get_yield_for_the_day(gotchi_kinship_array, altaar_level, parcel_dim)\n",
    "\n",
    "get_yield_for_the_upgrade_day([500], 1, [32,64], 0.7)\n"
   ]
  },
  {
   "cell_type": "code",
   "execution_count": 41,
   "metadata": {},
   "outputs": [
    {
     "data": {
      "text/plain": [
       "80279"
      ]
     },
     "execution_count": 41,
     "metadata": {},
     "output_type": "execute_result"
    }
   ],
   "source": [
    "def future_yield_by_current_altaar(gotchi_kinship_array, altaar_level, parcel_dim, num_days):\n",
    "    \n",
    "    gotchi_array = gotchi_kinship_array.copy()\n",
    "    \n",
    "    yield_till_now = 0\n",
    "    for i in range(num_days):\n",
    "        yield_till_now += get_yield_for_the_day(gotchi_array, altaar_level, parcel_dim)[0]\n",
    "        gotchi_array[:] = map(lambda x: x+170, gotchi_array) # gotchi kinships increase by 2 everyday\n",
    "        \n",
    "    return yield_till_now\n",
    "\n",
    "future_yield_by_current_altaar([500, 500], 1, [64,64], 100)"
   ]
  },
  {
   "cell_type": "code",
   "execution_count": null,
   "metadata": {},
   "outputs": [],
   "source": []
  },
  {
   "cell_type": "code",
   "execution_count": 147,
   "metadata": {
    "scrolled": false
   },
   "outputs": [
    {
     "name": "stdout",
     "output_type": "stream",
     "text": [
      "[400, -4061.7830513557146, -3621.7830513557146, -3179.7830513557146, -2737.7830513557146, -2293.7830513557146, -11573.349154067144, -10601.349154067144, -9629.349154067144, -8653.349154067144, -7677.349154067144, -6697.349154067144, -5717.349154067144, -4733.349154067144, -3749.349154067144, -11056.882653338444, -10026.882653338444, -8994.882653338444, -7960.882653338444, -6926.882653338444, -5888.882653338444, -4850.882653338444, -3808.8826533384436, -2766.8826533384436, -1720.8826533384436, -674.8826533384436, 375.11734666155644, 1425.1173466615564, 2479.1173466615564, 3533.1173466615564, 4591.117346661556, 5649.117346661556, 6709.117346661556, 7771.117346661556, 8835.117346661556, 9901.117346661556, 10969.117346661556, 12039.117346661556, 13111.117346661556, 14185.117346661556, 15261.117346661556, 16337.117346661556, 17417.11734666156, 18497.11734666156, 19579.11734666156, 20663.11734666156, 21749.11734666156, 22837.11734666156, 23927.11734666156, 25019.11734666156]\n"
     ]
    },
    {
     "data": {
      "text/plain": [
       "(25, <__main__.Yield at 0x7fad71b78dd0>, <__main__.Yield at 0x7fad716eac50>)"
      ]
     },
     "execution_count": 147,
     "metadata": {},
     "output_type": "execute_result"
    }
   ],
   "source": [
    "def get_breakeven_time(Parcels, num_days):\n",
    "    \n",
    "    daywise_profit_yield_array = [0]*num_days\n",
    "    \n",
    "    yield_obj = Yield()\n",
    "    profit_yield_obj = Yield()\n",
    "    \n",
    "    \n",
    "    \n",
    "    for parcel in Parcels:\n",
    "        \n",
    "        total_yield_till_now = 0\n",
    "        profit_yield_till_now = 0\n",
    "        \n",
    "        parcel_dim = parcel.dim\n",
    "        target_altaar_level = parcel.altaar_level\n",
    "        gotchi_kinship_array = parcel.gotchi_kinship_array\n",
    "                \n",
    "        current_altaar = 1\n",
    "        pending_built_time_for_next_altaar = math.inf if current_altaar >= target_altaar_level else altaar_built_time_dict[current_altaar+1]\n",
    "        \n",
    "        for i in range(num_days):\n",
    "            \n",
    "            if current_altaar > target_altaar_level:\n",
    "                break\n",
    "\n",
    "            if pending_built_time_for_next_altaar <=1:\n",
    "                \n",
    "                t1 = get_yield_for_the_upgrade_day(gotchi_kinship_array, current_altaar, parcel_dim, pending_built_time_for_next_altaar)\n",
    "                \n",
    "                yield_obj.add_yield(t1[1])\n",
    "                profit_yield_obj.add_yield(t1[1])\n",
    "                profit_yield_obj.substract_yield(altaar_built_cost_dict_in_alchemica[current_altaar+1])\n",
    "                \n",
    "                altaar_built_cost_dict_in_alchemica\n",
    "                \n",
    "                total_yield_till_now += t1[0]\n",
    "                profit_yield_till_now += t1[0] - altaar_built_cost_dict[current_altaar+1] \n",
    "\n",
    "                if current_altaar == target_altaar_level-1:\n",
    "                    current_altaar = current_altaar + 1\n",
    "                    pending_built_time_for_next_altaar = math.inf\n",
    "                elif current_altaar == target_altaar_level:\n",
    "                    pending_built_time_for_next_altaar = math.inf\n",
    "                else:\n",
    "                    current_altaar = current_altaar + 1\n",
    "                    pending_built_time_for_next_altaar = altaar_built_time_dict[current_altaar+1]\n",
    "\n",
    "            else:\n",
    "                t1 = get_yield_for_the_day(gotchi_kinship_array, current_altaar, parcel_dim)\n",
    "\n",
    "                yield_obj.add_yield(t1[1])\n",
    "                profit_yield_obj.add_yield(t1[1])\n",
    "                \n",
    "                total_yield_till_now += t1[0]\n",
    "                profit_yield_till_now += t1[0]\n",
    "                \n",
    "                pending_built_time_for_next_altaar -= 1\n",
    "\n",
    "                            \n",
    "            \n",
    "            daywise_profit_yield_array[i] += profit_yield_till_now\n",
    "            gotchi_kinship_array = [ele+2 for ele in gotchi_kinship_array]\n",
    "        \n",
    "            #print(\"day {}, current level {}, pending time {}, current total yield {}\".format(i+1, current_altaar, pending_built_time_for_next_altaar, total_yield_till_now))\n",
    "    \n",
    "    \n",
    "\n",
    "#     print(\"----------------------------------------\")\n",
    "#     print(\"total yield --> {}, profit yield --> {}\".format(total_yield_till_now, profit_yield_till_now))\n",
    "#     print(\"\\n\")\n",
    "#     yield_obj.diplay()\n",
    "#     print(yield_obj.get_total_yield_in_fud())\n",
    "\n",
    "#     print(\"\\n\")\n",
    "#     profit_yield_obj.diplay()\n",
    "#     print(profit_yield_obj.get_total_yield_in_fud())\n",
    "    \n",
    "    \n",
    "    last_neg = 0\n",
    "    for i, ele in enumerate(daywise_profit_yield_array):\n",
    "        if ele<=0:\n",
    "            last_neg = i\n",
    "            \n",
    "    \n",
    "    #print(daywise_profit_yield_array)\n",
    "\n",
    "    if last_neg == num_days-1:\n",
    "        return -1, yield_obj, profit_yield_obj\n",
    "    \n",
    "    return last_neg, yield_obj, profit_yield_obj\n",
    "\n",
    "\n",
    "get_breakeven_time(Parcels, num_days=50)\n"
   ]
  },
  {
   "cell_type": "code",
   "execution_count": 140,
   "metadata": {},
   "outputs": [
    {
     "name": "stdout",
     "output_type": "stream",
     "text": [
      "parcel size (32, 64) --> parcel level 4 --> parcel gotchi 2\n",
      "channel capacity of level 3 num open slots 1\n",
      "parcel size (16, 16) --> parcel level 3 --> parcel gotchi 2\n",
      "channel capacity of level 2 num open slots 0\n",
      "parcel size (8, 8) --> parcel level 3 --> parcel gotchi 0\n",
      "channel capacity of level 2 num open slots 2\n"
     ]
    }
   ],
   "source": [
    "for parcel in Parcels:\n",
    "    parcel.print_parcel_info()"
   ]
  },
  {
   "cell_type": "code",
   "execution_count": 45,
   "metadata": {},
   "outputs": [
    {
     "data": {
      "text/plain": [
       "(1.0, 2.0698177456417213, 11.621457856043886, 13.851234940235509)"
      ]
     },
     "execution_count": 45,
     "metadata": {},
     "output_type": "execute_result"
    }
   ],
   "source": [
    "fud_factor, fomo_factor, alpha_factor, kek_factor"
   ]
  },
  {
   "cell_type": "code",
   "execution_count": null,
   "metadata": {},
   "outputs": [],
   "source": [
    "790553.1130321254/276903.8044514257"
   ]
  },
  {
   "cell_type": "code",
   "execution_count": null,
   "metadata": {},
   "outputs": [],
   "source": [
    "gotchi_kinship_array"
   ]
  },
  {
   "cell_type": "code",
   "execution_count": null,
   "metadata": {},
   "outputs": [],
   "source": [
    "25*963*6"
   ]
  },
  {
   "cell_type": "markdown",
   "metadata": {},
   "source": [
    "### GAMEPLAYS"
   ]
  },
  {
   "cell_type": "markdown",
   "metadata": {},
   "source": [
    "#### gameplay v2"
   ]
  },
  {
   "cell_type": "code",
   "execution_count": 46,
   "metadata": {},
   "outputs": [],
   "source": [
    "\"\"\"\n",
    "This gameplay assumes you keep on upgrading the altaar whenever possible\n",
    "It returns the sequence of cumulative yield generated over the time\n",
    "\"\"\"\n",
    "\n",
    "def gameplay_v2(gotchi_kinship_array, num_days, current_altaar, parcel_dim):\n",
    "    \n",
    "    total_yield_by_days = []\n",
    "    generated_yield_by_days = [] # this doesnt included the cost of construction of altaar\n",
    "    \n",
    "    pending_built_time_for_next_altaar = math.inf if current_altaar == 9 else altaar_built_time_dict[current_altaar+1]\n",
    "    \n",
    "    total_yield_till_now = 0\n",
    "    generated_yield_till_now = 0\n",
    "    \n",
    "    for i in range(num_days):\n",
    "        \n",
    "        if pending_built_time_for_next_altaar <=1: #altaar can be made current day\n",
    "            total_yield_till_now += get_yield_for_the_upgrade_day(gotchi_kinship_array, current_altaar, parcel_dim, pending_built_time_for_next_altaar)[0]\n",
    "            generated_yield_till_now += get_yield_for_the_upgrade_day(gotchi_kinship_array, current_altaar, parcel_dim, pending_built_time_for_next_altaar)[0]\n",
    "\n",
    "            total_yield_till_now -= altaar_built_cost_dict[current_altaar+1]  #reducing the total cost for building the altaar\n",
    "            \n",
    "            if current_altaar == 8:\n",
    "                current_altaar = current_altaar + 1\n",
    "                pending_built_time_for_next_altaar = math.inf\n",
    "            elif current_altaar == 9:\n",
    "                pending_built_time_for_next_altaar = math.inf\n",
    "            else:\n",
    "                current_altaar = current_altaar + 1\n",
    "                pending_built_time_for_next_altaar = altaar_built_time_dict[current_altaar+1]\n",
    "\n",
    "        \n",
    "        else:\n",
    "            total_yield_till_now += get_yield_for_the_day(gotchi_kinship_array, current_altaar, parcel_dim)[0]\n",
    "            generated_yield_till_now += get_yield_for_the_day(gotchi_kinship_array, current_altaar, parcel_dim)[0]\n",
    "\n",
    "            pending_built_time_for_next_altaar -= 1\n",
    "            \n",
    "        #print(\"day {}, current level {}, pending time {}\".format(i+1, current_altaar, pending_built_time_for_next_altaar))\n",
    "        \n",
    "        total_yield_by_days.append(total_yield_till_now)\n",
    "        generated_yield_by_days.append(generated_yield_till_now)\n",
    "        gotchi_kinship_array = [ele+2 for ele in gotchi_kinship_array]\n",
    "\n",
    "    return total_yield_by_days, generated_yield_by_days\n",
    "\n",
    "\n",
    "\n",
    "num_days = 1000\n",
    "total_yield_by_days, generated_yield_by_days = gameplay_v2(gotchi_kinship_array=[500, 500, 500, 500, 500],\n",
    "            num_days=num_days,\n",
    "            current_altaar=1,\n",
    "            parcel_dim = [64, 64]\n",
    "           )\n",
    "#print(\"total yield {}\".format(total_yield_by_days))\n",
    "\n",
    "indices_list = list(range(0, num_days, 20))\n",
    "res = list(np.array(total_yield_by_days)[indices_list])  # this we are doing to reduce the number of things we need to plot\n",
    "res1 = list(np.array(generated_yield_by_days)[indices_list])\n"
   ]
  },
  {
   "cell_type": "code",
   "execution_count": 47,
   "metadata": {},
   "outputs": [
    {
     "data": {
      "text/plain": [
       "Text(0, 0.5, 'Yield')"
      ]
     },
     "execution_count": 47,
     "metadata": {},
     "output_type": "execute_result"
    },
    {
     "data": {
      "image/png": "[encoded data removed]",
      "text/plain": [
       "<Figure size 1440x432 with 1 Axes>"
      ]
     },
     "metadata": {
      "needs_background": "light"
     },
     "output_type": "display_data"
    }
   ],
   "source": [
    "fig, ax = plt.subplots(figsize=(20,6))         # Sample figsize in inches\n",
    "#plt.bar(indices_list, res)\n",
    "sns.barplot(indices_list, res)\n",
    "plt.title('total yield vs #Days distribution', fontsize = 20) # title with fontsize 20\n",
    "plt.xlabel('Number of days', fontsize = 12) # x-axis label with fontsize 15\n",
    "plt.ylabel('Yield', fontsize = 12) # y-axis label with fontsize 15"
   ]
  },
  {
   "cell_type": "markdown",
   "metadata": {},
   "source": [
    "This graph show the yields generated by the gotchi's minus the construction cost associated with altaars"
   ]
  },
  {
   "cell_type": "code",
   "execution_count": 48,
   "metadata": {},
   "outputs": [
    {
     "data": {
      "text/plain": [
       "Text(0, 0.5, 'Yield')"
      ]
     },
     "execution_count": 48,
     "metadata": {},
     "output_type": "execute_result"
    },
    {
     "data": {
      "image/png": "[encoded data removed]",
      "text/plain": [
       "<Figure size 1440x432 with 1 Axes>"
      ]
     },
     "metadata": {
      "needs_background": "light"
     },
     "output_type": "display_data"
    }
   ],
   "source": [
    "fig, ax = plt.subplots(figsize=(20,6))         # Sample figsize in inches\n",
    "#plt.bar(indices_list, res)\n",
    "sns.barplot(indices_list, res1)\n",
    "plt.title('generated yield vs #Days distribution', fontsize = 20) # title with fontsize 20\n",
    "plt.xlabel('Number of days', fontsize = 12) # x-axis label with fontsize 15\n",
    "plt.ylabel('Yield', fontsize = 12) # y-axis label with fontsize 15"
   ]
  },
  {
   "cell_type": "code",
   "execution_count": null,
   "metadata": {},
   "outputs": [],
   "source": []
  },
  {
   "cell_type": "code",
   "execution_count": null,
   "metadata": {},
   "outputs": [],
   "source": []
  },
  {
   "cell_type": "code",
   "execution_count": null,
   "metadata": {},
   "outputs": [],
   "source": []
  },
  {
   "cell_type": "code",
   "execution_count": null,
   "metadata": {},
   "outputs": [],
   "source": []
  },
  {
   "cell_type": "code",
   "execution_count": null,
   "metadata": {},
   "outputs": [],
   "source": []
  },
  {
   "cell_type": "code",
   "execution_count": null,
   "metadata": {},
   "outputs": [],
   "source": []
  },
  {
   "cell_type": "markdown",
   "metadata": {},
   "source": [
    "#### gameplay v3"
   ]
  },
  {
   "cell_type": "code",
   "execution_count": 54,
   "metadata": {},
   "outputs": [],
   "source": [
    "\"\"\"\n",
    "Given (a) number of days (b) maximum allowed altaar built,\n",
    "this function computes the maximum yield possible, and till what level should the altaar be upgraded\n",
    "\"\"\"\n",
    "def gameplay_v3(gotchi_kinship_array, num_days, current_altaar, parcel_dim, max_allowed_altaar):\n",
    "\n",
    "    pending_built_time_for_next_altaar = math.inf if current_altaar >= max_allowed_altaar else altaar_built_time_dict[current_altaar+1]\n",
    "    \n",
    "    total_yield_till_now = 0\n",
    "    \n",
    "    max_expected_yield = 0\n",
    "    max_yield_level = 0\n",
    "    \n",
    "    for i in range(num_days):\n",
    "                \n",
    "        if pending_built_time_for_next_altaar <=1: #altaar can be made current day\n",
    "            \n",
    "            total_yield_till_now += get_yield_for_the_upgrade_day(gotchi_kinship_array, current_altaar, parcel_dim, pending_built_time_for_next_altaar)[0]\n",
    "            \n",
    "            #print(\"kinship array {}, altaar level {} parcel dim {} pendinng time {} total yield {}\".format(gotchi_kinship_array, current_altaar, parcel_dim, pending_built_time_for_next_altaar, get_yield_for_the_upgrade_day(gotchi_kinship_array, current_altaar, parcel_dim, pending_built_time_for_next_altaar)))\n",
    "\n",
    "            total_yield_till_now -= altaar_built_cost_dict[current_altaar+1]  #reducing the total cost for building the altaar\n",
    "            #print(\"came here {} {}\".format(altaar_built_cost_dict[current_altaar+1], total_yield_till_now))\n",
    "            \n",
    "            if current_altaar == max_allowed_altaar-1:\n",
    "                current_altaar = current_altaar + 1\n",
    "                pending_built_time_for_next_altaar = math.inf\n",
    "            elif current_altaar == max_allowed_altaar:\n",
    "                pending_built_time_for_next_altaar = math.inf\n",
    "            else:\n",
    "                current_altaar = current_altaar + 1\n",
    "                pending_built_time_for_next_altaar = altaar_built_time_dict[current_altaar+1]\n",
    "\n",
    "        else:\n",
    "            total_yield_till_now += get_yield_for_the_day(gotchi_kinship_array, current_altaar, parcel_dim)[0]\n",
    "            pending_built_time_for_next_altaar -= 1\n",
    "            \n",
    "            \n",
    "        #print(\"day {}, current level {}, pending time {}, current total yield {}\".format(i+1, current_altaar, pending_built_time_for_next_altaar, total_yield_till_now))\n",
    "        \n",
    "        future_yield = future_yield_by_current_altaar(gotchi_kinship_array, current_altaar, parcel_dim, num_days-i-1)\n",
    "                \n",
    "        if total_yield_till_now + future_yield > max_expected_yield:\n",
    "            max_expected_yield = total_yield_till_now + future_yield\n",
    "            max_yield_level = current_altaar\n",
    "        \n",
    "        gotchi_kinship_array = [ele+2 for ele in gotchi_kinship_array]\n",
    "\n",
    "    return max_expected_yield, max_yield_level\n",
    "\n",
    "    \n",
    "total_yield, altaar_level = gameplay_v3(gotchi_kinship_array=[500, 500],\n",
    "            num_days=700,\n",
    "            current_altaar=1,\n",
    "            parcel_dim = [16, 16],\n",
    "            max_allowed_altaar=9                                                \n",
    "           )\n",
    "\n",
    "#print(total_yield)\n"
   ]
  },
  {
   "cell_type": "code",
   "execution_count": null,
   "metadata": {},
   "outputs": [],
   "source": []
  },
  {
   "cell_type": "code",
   "execution_count": null,
   "metadata": {},
   "outputs": [],
   "source": [
    "DAYS = [10*(i+1) for i in range(25)]\n",
    "\n",
    "result_array = [[0]*len(DAYS) for i in range(9)]\n",
    "result_array_1 = [[0]*len(DAYS) for i in range(9)]\n",
    "\n",
    "\n",
    "for level in range(9):\n",
    "    for i in range(len(DAYS)):\n",
    "        result_array[level][i], result_array_1[level][i] = gameplay_v3(gotchi_kinship_array=[500, 500],\n",
    "                                            num_days=DAYS[i],\n",
    "                                            current_altaar=1,\n",
    "                                            parcel_dim = [32, 32],\n",
    "                                            max_allowed_altaar=level+1)"
   ]
  },
  {
   "cell_type": "code",
   "execution_count": null,
   "metadata": {},
   "outputs": [],
   "source": [
    "#uniform_data = np.array(result_array)/100. #np.random.rand(7, 7)\n",
    "uniform_data = np.array(result_array_1)\n",
    "\n",
    "fig, ax = plt.subplots(figsize=(20,8))         # Sample figsize in inches\n",
    "ax = sns.heatmap(uniform_data, annot=True, xticklabels=DAYS, yticklabels=range(1,10))\n",
    "plt.title('Optimum level for a given (max level, max days)', fontsize = 20) # title with fontsize 20\n",
    "plt.xlabel('Number of days', fontsize = 12) # x-axis label with fontsize 15\n",
    "plt.ylabel('max allowed level', fontsize = 12) # y-axis label with fontsize 15"
   ]
  },
  {
   "cell_type": "code",
   "execution_count": null,
   "metadata": {},
   "outputs": [],
   "source": []
  },
  {
   "cell_type": "markdown",
   "metadata": {},
   "source": [
    "How does this graph helps you? <br>\n",
    "The above graph helps you decide what level of altaar should you build provided you know about the number of days you are going to play the game.\n"
   ]
  },
  {
   "cell_type": "code",
   "execution_count": null,
   "metadata": {},
   "outputs": [],
   "source": []
  },
  {
   "cell_type": "markdown",
   "metadata": {},
   "source": [
    "#### gameplay v4"
   ]
  },
  {
   "cell_type": "markdown",
   "metadata": {},
   "source": [
    "here we are trying to plot optimum level for plot size vs days distribution"
   ]
  },
  {
   "cell_type": "code",
   "execution_count": null,
   "metadata": {},
   "outputs": [],
   "source": [
    "all_sizes"
   ]
  },
  {
   "cell_type": "code",
   "execution_count": null,
   "metadata": {},
   "outputs": [],
   "source": [
    "DAYS = [10*(i+1) for i in range(25)]\n",
    "\n",
    "result_array = [[0]*len(DAYS) for i in range(len(all_sizes))]\n",
    "\n",
    "\n",
    "for k, parcel_dim in enumerate(all_sizes):\n",
    "    for i, day in enumerate(DAYS):\n",
    "\n",
    "        max_yield = 0\n",
    "        max_level = 1\n",
    "\n",
    "        for level in range(9):\n",
    "            myyield, mylevel = gameplay_v3(gotchi_kinship_array=[500],\n",
    "                                                num_days=day,\n",
    "                                                current_altaar=1,\n",
    "                                                parcel_dim = parcel_dim,\n",
    "                                                max_allowed_altaar=level+1)\n",
    "\n",
    "            if myyield > max_yield:\n",
    "                max_yield = myyield\n",
    "                max_level = mylevel\n",
    "        \n",
    "        result_array[k][i] = max_level"
   ]
  },
  {
   "cell_type": "code",
   "execution_count": null,
   "metadata": {},
   "outputs": [],
   "source": [
    "uniform_data = np.array(result_array)\n",
    "\n",
    "fig, ax = plt.subplots(figsize=(20,3))         # Sample figsize in inches\n",
    "ax = sns.heatmap(uniform_data, annot=True, xticklabels=DAYS, yticklabels=all_sizes)\n",
    "plt.title('altaar level for a given (parcel size, max days)', fontsize = 20) # title with fontsize 20\n",
    "plt.xlabel('Number of days', fontsize = 12) # x-axis label with fontsize 15\n",
    "plt.ylabel('parcel size', fontsize = 12) # y-axis label with fontsize 15"
   ]
  },
  {
   "cell_type": "code",
   "execution_count": null,
   "metadata": {},
   "outputs": [],
   "source": []
  },
  {
   "cell_type": "code",
   "execution_count": null,
   "metadata": {},
   "outputs": [],
   "source": []
  },
  {
   "cell_type": "code",
   "execution_count": null,
   "metadata": {},
   "outputs": [],
   "source": []
  },
  {
   "cell_type": "markdown",
   "metadata": {},
   "source": [
    "#### gameplay v5"
   ]
  },
  {
   "cell_type": "code",
   "execution_count": null,
   "metadata": {},
   "outputs": [],
   "source": [
    "# each gotchi would either be idle for now, or would be collecting from some altaar\n",
    "# find marginal utility of new upgrades for each gotchi for that given time period"
   ]
  },
  {
   "cell_type": "code",
   "execution_count": null,
   "metadata": {},
   "outputs": [],
   "source": [
    "all_sizes"
   ]
  },
  {
   "cell_type": "code",
   "execution_count": null,
   "metadata": {},
   "outputs": [],
   "source": []
  },
  {
   "cell_type": "code",
   "execution_count": null,
   "metadata": {},
   "outputs": [],
   "source": [
    "\"\"\"\n",
    "check the amount of gotchi's left to be engaged\n",
    "\n",
    "if no gotchis are pending then we are good\n",
    "if gotchis are pending --> choose whichever element of the 3 matrix is giving highest yield for that level\n",
    "check how many gotchis are still left.\n",
    "\n",
    "\"\"\""
   ]
  },
  {
   "cell_type": "code",
   "execution_count": null,
   "metadata": {},
   "outputs": [],
   "source": [
    "# this would be a 3 dimensional array. \n",
    "# 1st element would number of parcels of size 8x8\n",
    "# 2nd element would number of parcels of size 16x16\n",
    "# 3rd element would number of parcels of size 32x64\n",
    "parcel_input = [1, 1, 2]\n",
    "gotchi_kinship_array=[500, 500, 500, 600, 700, 700]\n",
    "days = 500"
   ]
  },
  {
   "cell_type": "code",
   "execution_count": null,
   "metadata": {},
   "outputs": [],
   "source": [
    "# Y1, Y2, Y3 are the arrays yields at different level for T(num days) for a given altaar\n",
    "# it would be calculated using the gameplay v3\n",
    "\n",
    "def compute_yield_dict(days, avg_gotchi):\n",
    "    return {\n",
    "        (8, 8): [gameplay_v3(gotchi_kinship_array=[avg_gotchi],\n",
    "                                                num_days=days,\n",
    "                                                current_altaar=1,\n",
    "                                                parcel_dim = [8, 8],\n",
    "                                                max_allowed_altaar=level+1)\n",
    "                 for level in range(9)],\n",
    "        (16, 16): [gameplay_v3(gotchi_kinship_array=[avg_gotchi],\n",
    "                                                num_days=days,\n",
    "                                                current_altaar=1,\n",
    "                                                parcel_dim = [16, 16],\n",
    "                                                max_allowed_altaar=level+1)\n",
    "                 for level in range(9)],\n",
    "        (32, 64): [gameplay_v3(gotchi_kinship_array=[avg_gotchi],\n",
    "                                                num_days=days,\n",
    "                                                current_altaar=1,\n",
    "                                                parcel_dim = [32, 64],\n",
    "                                                max_allowed_altaar=level+1)\n",
    "                 for level in range(9)],\n",
    "    }\n"
   ]
  },
  {
   "cell_type": "code",
   "execution_count": null,
   "metadata": {},
   "outputs": [],
   "source": [
    "class MyParcel:\n",
    "    altaar_level = 0\n",
    "    dim = (8, 8)\n",
    "    yield_array = [0]*9\n",
    "    gotchi_kinship_array = []\n",
    "    def __init__(self, altaar_level, dim, days, avg_gotchi):\n",
    "        self.altaar_level = altaar_level\n",
    "        self.dim = dim\n",
    "        yield_dict = compute_yield_dict(days, avg_gotchi)\n",
    "        self.yield_array = yield_dict[dim]\n",
    "        self.gotchi_kinship_array = []\n",
    "\n",
    "    def get_next_level_yield(self):\n",
    "        assert self.altaar_level < 8, \"9 is the maximum available level\"\n",
    "        return self.yield_array[self.altaar_level+1][0], self.yield_array[self.altaar_level+1][1]\n",
    "        "
   ]
  },
  {
   "cell_type": "code",
   "execution_count": null,
   "metadata": {},
   "outputs": [],
   "source": []
  },
  {
   "cell_type": "code",
   "execution_count": null,
   "metadata": {},
   "outputs": [],
   "source": [
    "avg_gotchi = sum(gotchi_kinship_array)/len(gotchi_kinship_array)\n",
    "\n",
    "Parcels = []\n",
    "\n",
    "for i in range(parcel_input[2]):\n",
    "    Parcels.append(MyParcel(0, (32, 64), days, avg_gotchi))\n",
    "\n",
    "    \n",
    "for i in range(parcel_input[1]):\n",
    "    Parcels.append(MyParcel(0, (16, 16), days, avg_gotchi))\n",
    "    \n",
    "\n",
    "for i in range(parcel_input[0]):\n",
    "    Parcels.append(MyParcel(0, (8, 8), days, avg_gotchi))\n",
    "\n",
    "\n",
    "\n",
    "\n",
    "    \n",
    "\n",
    "Parcels"
   ]
  },
  {
   "cell_type": "code",
   "execution_count": null,
   "metadata": {},
   "outputs": [],
   "source": []
  },
  {
   "cell_type": "code",
   "execution_count": null,
   "metadata": {},
   "outputs": [],
   "source": [
    "num_available_gotchis = len(gotchi_kinship_array)\n",
    "gotchi_kinship_array.sort(reverse=True)\n",
    "num_available_gotchis"
   ]
  },
  {
   "cell_type": "code",
   "execution_count": null,
   "metadata": {},
   "outputs": [],
   "source": [
    "if num_available_gotchis <= 0:\n",
    "    print(\"Allotment has been done. Nothing more to do\")"
   ]
  },
  {
   "cell_type": "code",
   "execution_count": null,
   "metadata": {},
   "outputs": [],
   "source": [
    "while(num_available_gotchis > 0):\n",
    "    # check which is best among the upgradeable levels\n",
    "    next_upgradeable_parcel = 0\n",
    "    max_upgradeable_yield, _ = Parcels[0].get_next_level_yield()\n",
    "\n",
    "    #print(\"new loop\")\n",
    "    #print(\"num_available_gotchis is {}\".format(num_available_gotchis))\n",
    "\n",
    "    for i in range(len(Parcels)):\n",
    "        next_level_yield, level_constructed = Parcels[i].get_next_level_yield()\n",
    "        #print(\"current level {} --- next level {} --> next yield {}\".format(Parcels[i].altaar_level, level_constructed, next_level_yield))\n",
    "\n",
    "        if level_constructed < Parcels[i].altaar_level:\n",
    "            max_upgradeable_yield = -1\n",
    "\n",
    "        elif next_level_yield > max_upgradeable_yield:\n",
    "            max_upgradeable_yield = next_level_yield\n",
    "            next_upgradeable_parcel = i\n",
    "\n",
    "\n",
    "    #print(max_upgradeable_yield)\n",
    "\n",
    "    if max_upgradeable_yield < 0:\n",
    "        break\n",
    "\n",
    "\n",
    "    #upgrade the index thus achieved, and reduce the num available gotchis\n",
    "    Parcels[next_upgradeable_parcel].altaar_level += 1\n",
    "    new_level = Parcels[next_upgradeable_parcel].altaar_level\n",
    "\n",
    "\n",
    "    #channel_frequency = int(24/CHANNELING_RATE_IN_HOURS[new_level])\n",
    "    extra_available_channeling_slots = int(24/CHANNELING_RATE_IN_HOURS[new_level]) - int(24/CHANNELING_RATE_IN_HOURS[new_level - 1])\n",
    "    #print(\"extra slots --> {}\".format(extra_available_channeling_slots))\n",
    "    num_available_gotchis -= extra_available_channeling_slots\n",
    "    \n",
    "    for _ in range(extra_available_channeling_slots):\n",
    "        Parcels[next_upgradeable_parcel].gotchi_kinship_array.append(gotchi_kinship_array[0])\n",
    "        gotchi_kinship_array.pop(0)\n"
   ]
  },
  {
   "cell_type": "code",
   "execution_count": null,
   "metadata": {},
   "outputs": [],
   "source": [
    "result = {}\n",
    "for i in range(len(Parcels)):\n",
    "    if str(Parcels[i].dim) in result:\n",
    "        result[str(Parcels[i].dim)] += \",\" + str(Parcels[i].altaar_level)\n",
    "    else:\n",
    "        result[str(Parcels[i].dim)] = str(Parcels[i].altaar_level)\n",
    "    print(\"size {} level constructed {}\".format(Parcels[i].dim, Parcels[i].altaar_level))"
   ]
  },
  {
   "cell_type": "code",
   "execution_count": null,
   "metadata": {},
   "outputs": [],
   "source": [
    "result"
   ]
  },
  {
   "cell_type": "code",
   "execution_count": null,
   "metadata": {},
   "outputs": [],
   "source": [
    "get_breakeven_time(Parcels, num_days)"
   ]
  },
  {
   "cell_type": "code",
   "execution_count": null,
   "metadata": {},
   "outputs": [],
   "source": []
  },
  {
   "cell_type": "code",
   "execution_count": null,
   "metadata": {},
   "outputs": [],
   "source": [
    "\n"
   ]
  },
  {
   "cell_type": "markdown",
   "metadata": {},
   "source": [
    "#### gameplay v8"
   ]
  },
  {
   "cell_type": "code",
   "execution_count": null,
   "metadata": {},
   "outputs": [],
   "source": [
    "\"\"\"\n",
    "can we run all scenarios and then decide optimum\n",
    "\n",
    "m parcels, n gotchis\n",
    "need to distribute n in m buckets, where max in each bucket could be 24\n",
    "\n",
    "\"\"\"\n",
    "\n",
    "output_array = []\n",
    "\n",
    "\n",
    "def recur(num_parcels, num_gotchis, max_gotchi_per_parcel, seq):\n",
    "    \n",
    "    if num_parcels <=0:\n",
    "        return 0\n",
    "    \n",
    "    if num_gotchis < 0 or max_gotchi_per_parcel<0:\n",
    "        return 0\n",
    "    \n",
    "    if num_parcels == 1:\n",
    "        if num_gotchis <= max_gotchi_per_parcel:\n",
    "            seq = seq + \" \" + str(num_gotchis)\n",
    "            output_array.append(seq)\n",
    "            return 1\n",
    "        else:\n",
    "            return 0\n",
    "        \n",
    "    \n",
    "    sum = 0\n",
    "    \n",
    "    max_gotchi = min(max_gotchi_per_parcel, num_gotchis)\n",
    "    \n",
    "    for i in reversed(range(max_gotchi+1)):\n",
    "        sum += recur(num_parcels-1, num_gotchis-i, i, seq + \" \" + str(i))\n",
    "        \n",
    "    return sum\n",
    "\n",
    "\n",
    "recur(20, 20, 3, \"\")\n",
    "#print(output_array)"
   ]
  },
  {
   "cell_type": "code",
   "execution_count": null,
   "metadata": {},
   "outputs": [],
   "source": [
    "len(output_array)"
   ]
  },
  {
   "cell_type": "code",
   "execution_count": null,
   "metadata": {},
   "outputs": [],
   "source": [
    "#output_array[:5]"
   ]
  },
  {
   "cell_type": "code",
   "execution_count": null,
   "metadata": {},
   "outputs": [],
   "source": []
  },
  {
   "cell_type": "markdown",
   "metadata": {},
   "source": [
    "#### gameplay v7"
   ]
  },
  {
   "cell_type": "code",
   "execution_count": null,
   "metadata": {},
   "outputs": [],
   "source": []
  },
  {
   "cell_type": "code",
   "execution_count": 125,
   "metadata": {},
   "outputs": [],
   "source": [
    "gotchi_kinship_array = [500, 500, 500, 500]\n",
    "parcel_input = [1, 1, 1]\n",
    "days = 200"
   ]
  },
  {
   "cell_type": "code",
   "execution_count": 126,
   "metadata": {},
   "outputs": [],
   "source": [
    "total_parcels = sum(parcel_input)\n",
    "total_gotchis = len(gotchi_kinship_array)"
   ]
  },
  {
   "cell_type": "code",
   "execution_count": 127,
   "metadata": {},
   "outputs": [],
   "source": [
    "Parcels = []\n",
    "\n",
    "for i in range(parcel_input[2]):\n",
    "    Parcels.append(MyParcel_1(0, (32, 64), 0))\n",
    "\n",
    "for i in range(parcel_input[1]):\n",
    "    Parcels.append(MyParcel_1(0, (16, 16), 0))\n",
    "\n",
    "for i in range(parcel_input[0]):\n",
    "    Parcels.append(MyParcel_1(0, (8, 8), 0))\n",
    "\n",
    "gotchi_kinship_array.sort(reverse=True)"
   ]
  },
  {
   "cell_type": "code",
   "execution_count": 128,
   "metadata": {},
   "outputs": [],
   "source": [
    "temp = total_gotchis\n",
    "\n",
    "# distributing gotchis as evenly as possible\n",
    "while temp > 0:\n",
    "    for parcel in Parcels:\n",
    "        parcel.num_gotchi += 1\n",
    "        temp -= 1\n",
    "\n",
    "        if temp == 0:\n",
    "            break\n",
    "\n",
    "\n",
    "counter = 0\n",
    "for parcel in Parcels:\n",
    "    for i in range(parcel.num_gotchi):\n",
    "        parcel.gotchi_kinship_array.append(gotchi_kinship_array[counter])\n",
    "        counter +=1 \n"
   ]
  },
  {
   "cell_type": "code",
   "execution_count": 129,
   "metadata": {},
   "outputs": [],
   "source": [
    "for parcel in Parcels:\n",
    "    #print(\"dim {} --> num gotchi {} --> {}\".format(parcel.dim, parcel.num_gotchi, parcel.gotchi_kinship_array))\n",
    "\n",
    "    _, parcel.altaar_level = gameplay_v3(gotchi_kinship_array=parcel.gotchi_kinship_array,\n",
    "                num_days=days,\n",
    "                current_altaar=1,\n",
    "                parcel_dim = parcel.dim,\n",
    "                max_allowed_altaar=9)\n"
   ]
  },
  {
   "cell_type": "markdown",
   "metadata": {},
   "source": [
    "post processing the results"
   ]
  },
  {
   "cell_type": "code",
   "execution_count": 130,
   "metadata": {},
   "outputs": [
    {
     "name": "stdout",
     "output_type": "stream",
     "text": [
      "parcel size (32, 64) --> parcel level 4 --> parcel gotchi 2\n",
      "channel capacity of level 3 num open slots 1\n",
      "parcel size (16, 16) --> parcel level 3 --> parcel gotchi 1\n",
      "channel capacity of level 2 num open slots 1\n",
      "parcel size (8, 8) --> parcel level 3 --> parcel gotchi 1\n",
      "channel capacity of level 2 num open slots 1\n"
     ]
    }
   ],
   "source": [
    "for parcel in Parcels:\n",
    "    parcel.print_parcel_info()"
   ]
  },
  {
   "cell_type": "code",
   "execution_count": 131,
   "metadata": {},
   "outputs": [],
   "source": [
    "i = 0\n",
    "j = len(Parcels)-1\n",
    "final_channel_freq = max([parcel.num_gotchi for parcel in Parcels])\n",
    "\n",
    "while(i < j):\n",
    "\n",
    "    if final_channel_freq - Parcels[i].num_gotchi  <=0:\n",
    "        i += 1\n",
    "        continue\n",
    "    \n",
    "    while Parcels[j].num_gotchi > 0 and Parcels[i].num_gotchi < final_channel_freq:\n",
    "        gotchi = Parcels[j].gotchi_kinship_array.pop(0)\n",
    "        Parcels[j].num_gotchi -= 1\n",
    "        Parcels[i].gotchi_kinship_array.append(gotchi)\n",
    "        Parcels[i].num_gotchi += 1\n",
    "    \n",
    "    if Parcels[j].num_gotchi == 0:\n",
    "        #Parcels.pop(j)\n",
    "        j -= 1\n",
    "        \n",
    "    if Parcels[i].num_gotchi == final_channel_freq:\n",
    "        i += 1"
   ]
  },
  {
   "cell_type": "code",
   "execution_count": 132,
   "metadata": {},
   "outputs": [
    {
     "name": "stdout",
     "output_type": "stream",
     "text": [
      "parcel size (32, 64) --> parcel level 4 --> parcel gotchi 2\n",
      "channel capacity of level 3 num open slots 1\n",
      "parcel size (16, 16) --> parcel level 3 --> parcel gotchi 2\n",
      "channel capacity of level 2 num open slots 0\n",
      "parcel size (8, 8) --> parcel level 3 --> parcel gotchi 0\n",
      "channel capacity of level 2 num open slots 2\n"
     ]
    }
   ],
   "source": [
    "for parcel in Parcels:\n",
    "    parcel.print_parcel_info()\n",
    "#     print(\"parcel size {} --> parcel level {} --> parcel gotchi {}\".format(parcel.dim, parcel.altaar_level, parcel.num_gotchi))\n",
    "#     channel_frequency = int(24/CHANNELING_RATE_IN_HOURS[parcel.altaar_level])\n",
    "#     print(\"channel capacity of level {} num open slots {}\".format(channel_frequency, channel_frequency - parcel.num_gotchi))\n",
    "    \n",
    "    "
   ]
  },
  {
   "cell_type": "code",
   "execution_count": null,
   "metadata": {},
   "outputs": [],
   "source": []
  },
  {
   "cell_type": "code",
   "execution_count": 134,
   "metadata": {},
   "outputs": [
    {
     "data": {
      "text/plain": [
       "0"
      ]
     },
     "execution_count": 134,
     "metadata": {},
     "output_type": "execute_result"
    }
   ],
   "source": [
    "breakeven_time, ty, py = get_breakeven_time(Parcels, num_days)\n",
    "breakeven_time"
   ]
  },
  {
   "cell_type": "code",
   "execution_count": 109,
   "metadata": {},
   "outputs": [
    {
     "data": {
      "text/plain": [
       "{'FUD': 128668, 'FOMO': 64334, 'ALPHA': 32167, 'KEK': 12866}"
      ]
     },
     "execution_count": 109,
     "metadata": {},
     "output_type": "execute_result"
    }
   ],
   "source": [
    "{\n",
    "    \"FUD\": int(ty.fud),\n",
    "    \"FOMO\": int(ty.fomo),\n",
    "    \"ALPHA\": int(ty.alpha),\n",
    "    \"KEK\": int(ty.kek)\n",
    "}"
   ]
  },
  {
   "cell_type": "code",
   "execution_count": null,
   "metadata": {},
   "outputs": [],
   "source": []
  },
  {
   "cell_type": "code",
   "execution_count": null,
   "metadata": {},
   "outputs": [],
   "source": []
  },
  {
   "cell_type": "code",
   "execution_count": 59,
   "metadata": {},
   "outputs": [
    {
     "name": "stdout",
     "output_type": "stream",
     "text": [
      "size (32, 64) level constructed 6\n",
      "size (32, 64) level constructed 6\n",
      "size (16, 16) level constructed 5\n"
     ]
    }
   ],
   "source": [
    "result = {}\n",
    "for i in range(len(Parcels)):\n",
    "    if str(Parcels[i].dim) in result:\n",
    "        result[str(Parcels[i].dim)] += \",\" + str(Parcels[i].altaar_level)\n",
    "    else:\n",
    "        result[str(Parcels[i].dim)] = str(Parcels[i].altaar_level)\n",
    "    print(\"size {} level constructed {}\".format(Parcels[i].dim, Parcels[i].altaar_level))"
   ]
  },
  {
   "cell_type": "code",
   "execution_count": 60,
   "metadata": {},
   "outputs": [
    {
     "data": {
      "text/plain": [
       "[{'parcel_size': (32, 64), 'altaar_level': 6, 'gotchis': '500,500'},\n",
       " {'parcel_size': (32, 64), 'altaar_level': 6, 'gotchis': '500,500'},\n",
       " {'parcel_size': (16, 16), 'altaar_level': 5, 'gotchis': '500,500'}]"
      ]
     },
     "execution_count": 60,
     "metadata": {},
     "output_type": "execute_result"
    }
   ],
   "source": [
    "result = []\n",
    "for parcel in Parcels:\n",
    "    pc = {}\n",
    "    pc['parcel_size'] = parcel.dim\n",
    "    pc['altaar_level'] = parcel.altaar_level\n",
    "    pc['gotchis'] = \",\".join([str(item) for item in parcel.gotchi_kinship_array])\n",
    "    result.append(pc)\n",
    "result"
   ]
  },
  {
   "cell_type": "code",
   "execution_count": null,
   "metadata": {},
   "outputs": [],
   "source": []
  },
  {
   "cell_type": "code",
   "execution_count": null,
   "metadata": {},
   "outputs": [],
   "source": []
  },
  {
   "cell_type": "code",
   "execution_count": null,
   "metadata": {},
   "outputs": [],
   "source": [
    "for parcel_dim_str, levels_str in result.items():\n",
    "    \n",
    "    parcel_dim = tuple(map(int, parcel_dim_str.strip()[1:-1].split(',')))\n",
    "    levels = list(map(int, levels_str.split(',')))\n",
    "    \n",
    "    print(parcel_dim, levels)"
   ]
  },
  {
   "cell_type": "code",
   "execution_count": null,
   "metadata": {},
   "outputs": [],
   "source": []
  },
  {
   "cell_type": "code",
   "execution_count": null,
   "metadata": {},
   "outputs": [],
   "source": []
  },
  {
   "cell_type": "markdown",
   "metadata": {},
   "source": [
    "#### gameplay v9"
   ]
  },
  {
   "cell_type": "code",
   "execution_count": 80,
   "metadata": {},
   "outputs": [],
   "source": [
    "gotchi_kinship_array = [500]*20\n",
    "parcel_input = [1, 5, 2]\n",
    "days = 100"
   ]
  },
  {
   "cell_type": "code",
   "execution_count": 81,
   "metadata": {},
   "outputs": [],
   "source": [
    "total_parcels = sum(parcel_input)\n",
    "total_gotchis = len(gotchi_kinship_array)"
   ]
  },
  {
   "cell_type": "code",
   "execution_count": 82,
   "metadata": {},
   "outputs": [],
   "source": [
    "Parcels = []\n",
    "\n",
    "for i in range(parcel_input[2]):\n",
    "    Parcels.append(MyParcel_1(0, (32, 64), 0))\n",
    "\n",
    "for i in range(parcel_input[1]):\n",
    "    Parcels.append(MyParcel_1(0, (16, 16), 0))\n",
    "\n",
    "for i in range(parcel_input[0]):\n",
    "    Parcels.append(MyParcel_1(0, (8, 8), 0))\n",
    "\n",
    "gotchi_kinship_array.sort(reverse=True)"
   ]
  },
  {
   "cell_type": "code",
   "execution_count": null,
   "metadata": {},
   "outputs": [],
   "source": []
  },
  {
   "cell_type": "code",
   "execution_count": 83,
   "metadata": {},
   "outputs": [],
   "source": [
    "## aim is to create a line on which 1 extreme is extremely not distributed while the other end is totally distributed\n",
    "## need to come up with plan to create this distribution"
   ]
  },
  {
   "cell_type": "code",
   "execution_count": 84,
   "metadata": {},
   "outputs": [],
   "source": [
    "def run_simulation(myarr):\n",
    "    \n",
    "    #reset the parcels so as to remove existing values\n",
    "    for parcel in Parcels:\n",
    "        parcel.reset_parcel()\n",
    "    \n",
    "    \n",
    "    for i, parcel in enumerate(Parcels):\n",
    "        parcel.num_gotchi = myarr[i]\n",
    "        #print(\"{} --> {}\".format(parcel.dim, parcel.num_gotchi))\n",
    "        \n",
    "    counter = 0\n",
    "    for parcel in Parcels:\n",
    "        for i in range(parcel.num_gotchi):\n",
    "            parcel.gotchi_kinship_array.append(gotchi_kinship_array[counter])\n",
    "            counter +=1 \n",
    "    \n",
    "    final_yield = 0\n",
    "    \n",
    "    for parcel in Parcels:\n",
    "        #print(\"dim {} --> num gotchi {} --> {}\".format(parcel.dim, parcel.num_gotchi, parcel.gotchi_kinship_array))\n",
    "\n",
    "        myyield, parcel.altaar_level = gameplay_v3(gotchi_kinship_array=parcel.gotchi_kinship_array,\n",
    "                num_days=days,\n",
    "                current_altaar=1,\n",
    "                parcel_dim = parcel.dim,\n",
    "                max_allowed_altaar=9)\n",
    "        \n",
    "        final_yield += myyield\n",
    "        \n",
    "        \n",
    "    result = {}\n",
    "    for i in range(len(Parcels)):\n",
    "        if str(Parcels[i].dim) in result:\n",
    "            result[str(Parcels[i].dim)] += \",\" + str(Parcels[i].altaar_level)\n",
    "        else:\n",
    "            result[str(Parcels[i].dim)] = str(Parcels[i].altaar_level)\n",
    "            \n",
    "            \n",
    "    final_levels = \"\"\n",
    "                \n",
    "    for parcel_dim_str, levels_str in result.items():\n",
    "        parcel_dim = tuple(map(int, parcel_dim_str.strip()[1:-1].split(',')))\n",
    "        levels = list(map(int, levels_str.split(',')))\n",
    "        \n",
    "        final_levels = final_levels + \"\\n\" + parcel_dim_str + \"-\" + levels_str\n",
    "        \n",
    "\n",
    "        #print(parcel_dim, levels)\n",
    "        print(levels_str)\n",
    "\n",
    "    return final_yield, final_levels"
   ]
  },
  {
   "cell_type": "code",
   "execution_count": null,
   "metadata": {},
   "outputs": [],
   "source": []
  },
  {
   "cell_type": "code",
   "execution_count": null,
   "metadata": {},
   "outputs": [],
   "source": []
  },
  {
   "cell_type": "code",
   "execution_count": 88,
   "metadata": {
    "scrolled": true
   },
   "outputs": [
    {
     "name": "stdout",
     "output_type": "stream",
     "text": [
      "6,0\n",
      "0,0,0,0,0\n",
      "0\n",
      "6,3\n",
      "0,0,0,0,0\n",
      "0\n",
      "6,5\n",
      "0,0,0,0,0\n",
      "0\n",
      "6,6\n",
      "0,0,0,0,0\n",
      "0\n",
      "6,6\n",
      "0,0,0,0,0\n",
      "0\n",
      "6,6\n",
      "0,0,0,0,0\n",
      "0\n",
      "6,6\n",
      "5,0,0,0,0\n",
      "0\n",
      "6,6\n",
      "6,3,0,0,0\n",
      "0\n",
      "5,5\n",
      "5,5,5,0,0\n",
      "0\n"
     ]
    }
   ],
   "source": [
    "myarr = [0]*total_parcels\n",
    "myarr[0] = total_gotchis\n",
    "moving_line = total_gotchis\n",
    "moving_line_diff = math.ceil(total_gotchis/10)\n",
    "\n",
    "\n",
    "\n",
    "result_array_yield = []\n",
    "result_array_moving_line = []\n",
    "\n",
    "\n",
    "\n",
    "while True:\n",
    "    #print(\"moving line {}, arr {}\".format(moving_line, myarr))\n",
    "\n",
    "    \n",
    "    final_yield, final_levels = run_simulation(myarr)\n",
    "    result_array_yield.append(final_yield)\n",
    "    result_array_moving_line.append(final_levels)\n",
    "    #result_array_moving_line.append(\"moving line\"+str(moving_line) + \" \" + final_levels)\n",
    "\n",
    "    \n",
    "    moving_line -= moving_line_diff\n",
    "    \n",
    "    extras = myarr[0] - moving_line\n",
    "    \n",
    "    for i in range(len(myarr)-1):\n",
    "        extras = myarr[i] - moving_line\n",
    "        \n",
    "        if extras > 0:\n",
    "            myarr[i] -= extras\n",
    "            myarr[i+1] += extras\n",
    "\n",
    "    if moving_line < myarr[-1]:\n",
    "        break\n",
    "\n",
    "        \n",
    "    "
   ]
  },
  {
   "cell_type": "code",
   "execution_count": null,
   "metadata": {},
   "outputs": [],
   "source": []
  },
  {
   "cell_type": "code",
   "execution_count": null,
   "metadata": {},
   "outputs": [],
   "source": []
  },
  {
   "cell_type": "code",
   "execution_count": 89,
   "metadata": {},
   "outputs": [
    {
     "data": {
      "text/plain": [
       "Text(0, 0.5, 'yield')"
      ]
     },
     "execution_count": 89,
     "metadata": {},
     "output_type": "execute_result"
    },
    {
     "data": {
      "image/png": "[encoded data removed]",
      "text/plain": [
       "<Figure size 1440x432 with 1 Axes>"
      ]
     },
     "metadata": {
      "needs_background": "light"
     },
     "output_type": "display_data"
    }
   ],
   "source": [
    "fig, ax = plt.subplots(figsize=(20,6))         # Sample figsize in inches\n",
    "#plt.bar(indices_list, res)\n",
    "sns.barplot(result_array_moving_line, result_array_yield)\n",
    "plt.title('how yield varies according to how we spread out gotchis across parcels', fontsize = 20) # title with fontsize 20\n",
    "plt.xlabel('gotchi spreads', fontsize = 12) # x-axis label with fontsize 15\n",
    "plt.ylabel('yield', fontsize = 12) # y-axis label with fontsize 15"
   ]
  },
  {
   "cell_type": "code",
   "execution_count": null,
   "metadata": {},
   "outputs": [],
   "source": []
  },
  {
   "cell_type": "code",
   "execution_count": null,
   "metadata": {},
   "outputs": [],
   "source": []
  },
  {
   "cell_type": "markdown",
   "metadata": {},
   "source": [
    "#### spillover function"
   ]
  },
  {
   "cell_type": "code",
   "execution_count": null,
   "metadata": {},
   "outputs": [],
   "source": [
    "altaar_level = 2\n",
    "parcel_dim = (32, 64)"
   ]
  },
  {
   "cell_type": "code",
   "execution_count": null,
   "metadata": {},
   "outputs": [],
   "source": [
    "splill_radius_map = {\n",
    "    1: 2000, 2: 1800, 3: 1600, 4: 1400,\n",
    "    5: 1200, 6: 1000, 7: 800, 8: 600,\n",
    "    9: 400\n",
    "}"
   ]
  },
  {
   "cell_type": "code",
   "execution_count": null,
   "metadata": {},
   "outputs": [],
   "source": [
    "num_zones = 6\n",
    "num_levels = 9\n",
    "percent_spill_on_zones = [45, 25, 15, 10, 5]"
   ]
  },
  {
   "cell_type": "code",
   "execution_count": null,
   "metadata": {},
   "outputs": [],
   "source": [
    "sum(percent_spill_on_zones)"
   ]
  },
  {
   "cell_type": "code",
   "execution_count": null,
   "metadata": {},
   "outputs": [],
   "source": [
    "collection_percent_array = [[0]*num_zones for i in range(num_levels)]\n",
    "\n",
    "for level in range(num_levels):\n",
    "    for zone in range(num_zones):\n",
    "        if zone == 0:\n",
    "            collection_percent_array[level][zone] = 100\n",
    "            continue\n",
    "        elif zone == 1:\n",
    "            spread_of_zone = 100\n",
    "        else:\n",
    "            spread_of_zone = (zone-1)*splill_radius_map[level+1]/4\n",
    "            \n",
    "        collection_percent_array[level][zone] = 90 * (10000/(spread_of_zone*spread_of_zone))"
   ]
  },
  {
   "cell_type": "code",
   "execution_count": null,
   "metadata": {},
   "outputs": [],
   "source": [
    "uniform_data = np.array(collection_percent_array)\n",
    "\n",
    "fig, ax = plt.subplots(figsize=(10,6))         # Sample figsize in inches\n",
    "ax = sns.heatmap(uniform_data, annot=True, xticklabels=[\"Parcel\", \"Hotzone\"] + list(range(2,6)), yticklabels=range(1,10), fmt='.3g')\n",
    "plt.title('Collection percent for various levels and zones', fontsize = 20) # title with fontsize 20\n",
    "plt.xlabel('Zones', fontsize = 12) # x-axis label with fontsize 15\n",
    "plt.ylabel('Altaar Level', fontsize = 12) # y-axis label with fontsize 15\n",
    "#plt.ticklabel_format(useMathText=False)"
   ]
  },
  {
   "cell_type": "code",
   "execution_count": null,
   "metadata": {},
   "outputs": [],
   "source": []
  },
  {
   "cell_type": "code",
   "execution_count": null,
   "metadata": {},
   "outputs": [],
   "source": []
  },
  {
   "cell_type": "code",
   "execution_count": null,
   "metadata": {},
   "outputs": [],
   "source": []
  },
  {
   "cell_type": "code",
   "execution_count": null,
   "metadata": {},
   "outputs": [],
   "source": []
  },
  {
   "cell_type": "code",
   "execution_count": null,
   "metadata": {},
   "outputs": [],
   "source": []
  },
  {
   "cell_type": "code",
   "execution_count": null,
   "metadata": {},
   "outputs": [],
   "source": []
  },
  {
   "cell_type": "code",
   "execution_count": null,
   "metadata": {},
   "outputs": [],
   "source": []
  },
  {
   "cell_type": "markdown",
   "metadata": {},
   "source": [
    "- add alchemica yield to result json, also net profit\n",
    "- priortize the large parcel in results\n",
    "- return 4 alchemica instead of just fud\n",
    "- jupyter notebook setup for nationalBank\n",
    "\n",
    "RESULTS\n",
    "- for each user add yield graph\n",
    "- "
   ]
  },
  {
   "cell_type": "code",
   "execution_count": null,
   "metadata": {},
   "outputs": [],
   "source": []
  },
  {
   "cell_type": "code",
   "execution_count": null,
   "metadata": {},
   "outputs": [],
   "source": []
  },
  {
   "cell_type": "code",
   "execution_count": null,
   "metadata": {},
   "outputs": [],
   "source": []
  },
  {
   "cell_type": "code",
   "execution_count": null,
   "metadata": {},
   "outputs": [],
   "source": []
  },
  {
   "cell_type": "code",
   "execution_count": null,
   "metadata": {},
   "outputs": [],
   "source": []
  }
 ],
 "metadata": {
  "kernelspec": {
   "display_name": "Python 3",
   "language": "python",
   "name": "python3"
  },
  "language_info": {
   "codemirror_mode": {
    "name": "ipython",
    "version": 3
   },
   "file_extension": ".py",
   "mimetype": "text/x-python",
   "name": "python",
   "nbconvert_exporter": "python",
   "pygments_lexer": "ipython3",
   "version": "3.7.6"
  }
 },
 "nbformat": 4,
 "nbformat_minor": 4
}
