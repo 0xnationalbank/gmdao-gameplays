{
 "cells": [
  {
   "cell_type": "code",
   "execution_count": null,
   "metadata": {},
   "outputs": [],
   "source": [
    "1. spillover\n",
    "2. reservoir\n",
    "3. more than 1 harvester per parcel\n",
    "4. maker installation"
   ]
  },
  {
   "cell_type": "code",
   "execution_count": null,
   "metadata": {},
   "outputs": [],
   "source": []
  },
  {
   "cell_type": "code",
   "execution_count": null,
   "metadata": {},
   "outputs": [],
   "source": []
  },
  {
   "cell_type": "code",
   "execution_count": 1,
   "metadata": {},
   "outputs": [],
   "source": [
    "import pandas as pd"
   ]
  },
  {
   "cell_type": "code",
   "execution_count": 22,
   "metadata": {},
   "outputs": [],
   "source": [
    "!export PATH=/Library/TeX/texbin:$PATH\n"
   ]
  },
  {
   "cell_type": "markdown",
   "metadata": {},
   "source": [
    "### reading data and preprocessing it"
   ]
  },
  {
   "cell_type": "code",
   "execution_count": 2,
   "metadata": {},
   "outputs": [],
   "source": [
    "avg_parcel_yield = pd.read_csv(\"data/avg_parcel_yield.csv\")\n",
    "alchemica_supply = pd.read_csv(\"data/alchemica_supply.csv\", skipinitialspace=True)"
   ]
  },
  {
   "cell_type": "code",
   "execution_count": 3,
   "metadata": {},
   "outputs": [],
   "source": [
    "avg_parcel_yield = avg_parcel_yield.replace(',','', regex=True)\n",
    "alchemica_supply = alchemica_supply.replace(',','', regex=True)"
   ]
  },
  {
   "cell_type": "code",
   "execution_count": 4,
   "metadata": {},
   "outputs": [],
   "source": [
    "fud_harvester = pd.read_csv(\"data/fud_harvester.csv\")\n",
    "fomo_harvester = pd.read_csv(\"data/fomo_harvester.csv\")\n",
    "alpha_harvester = pd.read_csv(\"data/alpha_harvester.csv\")\n",
    "kek_harvester = pd.read_csv(\"data/kek_harvester.csv\")"
   ]
  },
  {
   "cell_type": "code",
   "execution_count": 5,
   "metadata": {},
   "outputs": [],
   "source": [
    "fud_harvester = fud_harvester.replace(',','', regex=True).astype(int)\n",
    "fomo_harvester = fomo_harvester.replace(',','', regex=True).astype(int)\n",
    "alpha_harvester = alpha_harvester.replace(',','', regex=True).astype(int)\n",
    "kek_harvester = kek_harvester.replace(',','', regex=True).astype(int)"
   ]
  },
  {
   "cell_type": "code",
   "execution_count": null,
   "metadata": {},
   "outputs": [],
   "source": []
  },
  {
   "cell_type": "markdown",
   "metadata": {},
   "source": [
    "### exchange rates among different alchemica"
   ]
  },
  {
   "cell_type": "markdown",
   "metadata": {},
   "source": [
    "the exchanges rates will be determined by some oracle in future which will take data from secondary markets <br>\n",
    "here we all using total supply as a proxy for exchange rates"
   ]
  },
  {
   "cell_type": "code",
   "execution_count": 6,
   "metadata": {},
   "outputs": [
    {
     "data": {
      "text/html": [
       "<div>\n",
       "<style scoped>\n",
       "    .dataframe tbody tr th:only-of-type {\n",
       "        vertical-align: middle;\n",
       "    }\n",
       "\n",
       "    .dataframe tbody tr th {\n",
       "        vertical-align: top;\n",
       "    }\n",
       "\n",
       "    .dataframe thead th {\n",
       "        text-align: right;\n",
       "    }\n",
       "</style>\n",
       "<table border=\"1\" class=\"dataframe\">\n",
       "  <thead>\n",
       "    <tr style=\"text-align: right;\">\n",
       "      <th></th>\n",
       "      <th>Type</th>\n",
       "      <th>FUD</th>\n",
       "      <th>FOMO</th>\n",
       "      <th>ALPHA</th>\n",
       "      <th>KEK</th>\n",
       "    </tr>\n",
       "  </thead>\n",
       "  <tbody>\n",
       "    <tr>\n",
       "      <th>0</th>\n",
       "      <td>Total Supply</td>\n",
       "      <td>100000000000</td>\n",
       "      <td>50000000000</td>\n",
       "      <td>25000000000</td>\n",
       "      <td>10000000000</td>\n",
       "    </tr>\n",
       "    <tr>\n",
       "      <th>1</th>\n",
       "      <td>Channeling (25%)</td>\n",
       "      <td>25000000000</td>\n",
       "      <td>12500000000</td>\n",
       "      <td>6250000000</td>\n",
       "      <td>2500000000</td>\n",
       "    </tr>\n",
       "    <tr>\n",
       "      <th>2</th>\n",
       "      <td>Ecosystem (10%)</td>\n",
       "      <td>10000000000</td>\n",
       "      <td>5000000000</td>\n",
       "      <td>2500000000</td>\n",
       "      <td>1000000000</td>\n",
       "    </tr>\n",
       "    <tr>\n",
       "      <th>3</th>\n",
       "      <td>Gameplay - Boosts (5%)</td>\n",
       "      <td>5000000000</td>\n",
       "      <td>2500000000</td>\n",
       "      <td>1250000000</td>\n",
       "      <td>500000000</td>\n",
       "    </tr>\n",
       "    <tr>\n",
       "      <th>4</th>\n",
       "      <td>Gameplay -Other (10%)</td>\n",
       "      <td>10000000000</td>\n",
       "      <td>5000000000</td>\n",
       "      <td>2500000000</td>\n",
       "      <td>1000000000</td>\n",
       "    </tr>\n",
       "  </tbody>\n",
       "</table>\n",
       "</div>"
      ],
      "text/plain": [
       "                     Type                FUD              FOMO  \\\n",
       "0            Total Supply    100000000000       50000000000      \n",
       "1        Channeling (25%)     25000000000       12500000000      \n",
       "2        Ecosystem (10%)      10000000000        5000000000      \n",
       "3  Gameplay - Boosts (5%)      5000000000        2500000000      \n",
       "4   Gameplay -Other (10%)     10000000000        5000000000      \n",
       "\n",
       "              ALPHA               KEK  \n",
       "0    25000000000       10000000000     \n",
       "1     6250000000        2500000000     \n",
       "2     2500000000        1000000000     \n",
       "3     1250000000         500000000     \n",
       "4     2500000000        1000000000     "
      ]
     },
     "execution_count": 6,
     "metadata": {},
     "output_type": "execute_result"
    }
   ],
   "source": [
    "alchemica_supply.head()"
   ]
  },
  {
   "cell_type": "code",
   "execution_count": 7,
   "metadata": {},
   "outputs": [
    {
     "name": "stdout",
     "output_type": "stream",
     "text": [
      "FUD to FUD factor --> 1.0\n",
      "FOMO to FUD factor --> 2.0\n",
      "ALPHA to FUD factor --> 4.0\n",
      "KEK to FUD factor --> 10.0\n"
     ]
    }
   ],
   "source": [
    "fud_factor = int(alchemica_supply[\"FUD\"][0])/int(alchemica_supply['FUD'][0])\n",
    "fomo_factor = int(alchemica_supply[\"FUD\"][0])/int(alchemica_supply['FOMO'][0])\n",
    "alpha_factor = int(alchemica_supply[\"FUD\"][0])/int(alchemica_supply['ALPHA'][0])\n",
    "kek_factor = int(alchemica_supply[\"FUD\"][0])/int(alchemica_supply['KEK'][0])\n",
    "\n",
    "print(\"FUD to FUD factor --> {}\".format(fud_factor))\n",
    "print(\"FOMO to FUD factor --> {}\".format(fomo_factor))\n",
    "print(\"ALPHA to FUD factor --> {}\".format(alpha_factor))\n",
    "print(\"KEK to FUD factor --> {}\".format(kek_factor))"
   ]
  },
  {
   "cell_type": "code",
   "execution_count": null,
   "metadata": {},
   "outputs": [],
   "source": []
  },
  {
   "cell_type": "code",
   "execution_count": null,
   "metadata": {},
   "outputs": [],
   "source": []
  },
  {
   "cell_type": "markdown",
   "metadata": {},
   "source": [
    "### creating data for different parcel types"
   ]
  },
  {
   "cell_type": "code",
   "execution_count": 8,
   "metadata": {},
   "outputs": [
    {
     "data": {
      "text/html": [
       "<div>\n",
       "<style scoped>\n",
       "    .dataframe tbody tr th:only-of-type {\n",
       "        vertical-align: middle;\n",
       "    }\n",
       "\n",
       "    .dataframe tbody tr th {\n",
       "        vertical-align: top;\n",
       "    }\n",
       "\n",
       "    .dataframe thead th {\n",
       "        text-align: right;\n",
       "    }\n",
       "</style>\n",
       "<table border=\"1\" class=\"dataframe\">\n",
       "  <thead>\n",
       "    <tr style=\"text-align: right;\">\n",
       "      <th></th>\n",
       "      <th>Parcel Type</th>\n",
       "      <th>FUD</th>\n",
       "      <th>FOMO</th>\n",
       "      <th>ALPHA</th>\n",
       "      <th>KEK</th>\n",
       "    </tr>\n",
       "  </thead>\n",
       "  <tbody>\n",
       "    <tr>\n",
       "      <th>0</th>\n",
       "      <td>Humble (Small)</td>\n",
       "      <td>7077</td>\n",
       "      <td>3539</td>\n",
       "      <td>1769</td>\n",
       "      <td>708</td>\n",
       "    </tr>\n",
       "    <tr>\n",
       "      <th>1</th>\n",
       "      <td>Reasonable (Medium)</td>\n",
       "      <td>28308</td>\n",
       "      <td>14154</td>\n",
       "      <td>7077</td>\n",
       "      <td>2831</td>\n",
       "    </tr>\n",
       "    <tr>\n",
       "      <th>2</th>\n",
       "      <td>Spacious (Large)</td>\n",
       "      <td>226465</td>\n",
       "      <td>113233</td>\n",
       "      <td>56616</td>\n",
       "      <td>22647</td>\n",
       "    </tr>\n",
       "  </tbody>\n",
       "</table>\n",
       "</div>"
      ],
      "text/plain": [
       "            Parcel Type          FUD         FOMO       ALPHA         KEK\n",
       "0        Humble (Small)      7077         3539        1769         708   \n",
       "1   Reasonable (Medium)     28308        14154        7077        2831   \n",
       "2      Spacious (Large)    226465       113233       56616       22647   "
      ]
     },
     "execution_count": 8,
     "metadata": {},
     "output_type": "execute_result"
    }
   ],
   "source": [
    "avg_parcel_yield.head()"
   ]
  },
  {
   "cell_type": "code",
   "execution_count": 9,
   "metadata": {},
   "outputs": [],
   "source": [
    "fud_yield = {\n",
    "    \"Humble (Small)\": 7077,\n",
    "    \"Reasonable (Medium)\": 28308,\n",
    "    \"Spacious (Large)\": 226465\n",
    "}\n",
    "\n",
    "fomo_yield = {\n",
    "    \"Humble (Small)\": 3539,\n",
    "    \"Reasonable (Medium)\": 14154,\n",
    "    \"Spacious (Large)\": 113233\n",
    "}\n",
    "\n",
    "alpha_yield = {\n",
    "    \"Humble (Small)\": 1769,\n",
    "    \"Reasonable (Medium)\": 7077,\n",
    "    \"Spacious (Large)\": 56616\n",
    "}\n",
    "\n",
    "kek_yield = {\n",
    "    \"Humble (Small)\": 708,\n",
    "    \"Reasonable (Medium)\": 2831,\n",
    "    \"Spacious (Large)\": 22647\n",
    "}"
   ]
  },
  {
   "cell_type": "code",
   "execution_count": null,
   "metadata": {},
   "outputs": [],
   "source": []
  },
  {
   "cell_type": "markdown",
   "metadata": {},
   "source": [
    "### helper functions"
   ]
  },
  {
   "cell_type": "code",
   "execution_count": 10,
   "metadata": {},
   "outputs": [],
   "source": [
    "def equilibrium_level_for_installation(installation, given_yield):\n",
    "    df = installation.copy()\n",
    "    df[\"total_build_cost\"] =  df.apply(lambda row: fud_factor*row[\"FUD\"]+fomo_factor*row['FOMO']+alpha_factor*row['ALPHA']+kek_factor*row['KEK'], axis=1)\n",
    "    temp_df = df.loc[df['total_build_cost'] < given_yield]\n",
    "    max_level = max(temp_df['Level'])\n",
    "    return max_level\n",
    "    "
   ]
  },
  {
   "cell_type": "code",
   "execution_count": null,
   "metadata": {},
   "outputs": [],
   "source": []
  },
  {
   "cell_type": "code",
   "execution_count": null,
   "metadata": {},
   "outputs": [],
   "source": []
  },
  {
   "cell_type": "markdown",
   "metadata": {},
   "source": [
    "### Results"
   ]
  },
  {
   "cell_type": "markdown",
   "metadata": {},
   "source": [
    "results for fud harvestor"
   ]
  },
  {
   "cell_type": "code",
   "execution_count": 11,
   "metadata": {},
   "outputs": [
    {
     "name": "stdout",
     "output_type": "stream",
     "text": [
      "level for Humble (Small) --> 5\n",
      "level for Reasonable (Medium) --> 7\n",
      "level for Spacious (Large) --> 9\n"
     ]
    }
   ],
   "source": [
    "for key, value in fud_yield.items():\n",
    "    max_level = equilibrium_level_for_installation(fud_harvester, value*fud_factor)\n",
    "    print(\"level for {} --> {}\".format(key, max_level))"
   ]
  },
  {
   "cell_type": "code",
   "execution_count": null,
   "metadata": {},
   "outputs": [],
   "source": []
  },
  {
   "cell_type": "markdown",
   "metadata": {},
   "source": [
    "results for fomo harvestor"
   ]
  },
  {
   "cell_type": "code",
   "execution_count": 12,
   "metadata": {},
   "outputs": [
    {
     "name": "stdout",
     "output_type": "stream",
     "text": [
      "level for Humble (Small) --> 5\n",
      "level for Reasonable (Medium) --> 7\n",
      "level for Spacious (Large) --> 9\n"
     ]
    }
   ],
   "source": [
    "for key, value in fomo_yield.items():\n",
    "    max_level = equilibrium_level_for_installation(fomo_harvester, value*fomo_factor)\n",
    "    print(\"level for {} --> {}\".format(key, max_level))"
   ]
  },
  {
   "cell_type": "code",
   "execution_count": null,
   "metadata": {},
   "outputs": [],
   "source": []
  },
  {
   "cell_type": "markdown",
   "metadata": {},
   "source": [
    "results for alpha harvestor"
   ]
  },
  {
   "cell_type": "code",
   "execution_count": 13,
   "metadata": {},
   "outputs": [
    {
     "name": "stdout",
     "output_type": "stream",
     "text": [
      "level for Humble (Small) --> 5\n",
      "level for Reasonable (Medium) --> 7\n",
      "level for Spacious (Large) --> 9\n"
     ]
    }
   ],
   "source": [
    "for key, value in alpha_yield.items():\n",
    "    max_level = equilibrium_level_for_installation(alpha_harvester, value*alpha_factor)\n",
    "    print(\"level for {} --> {}\".format(key, max_level))"
   ]
  },
  {
   "cell_type": "code",
   "execution_count": null,
   "metadata": {},
   "outputs": [],
   "source": []
  },
  {
   "cell_type": "markdown",
   "metadata": {},
   "source": [
    "results for kek harvestor"
   ]
  },
  {
   "cell_type": "code",
   "execution_count": 14,
   "metadata": {},
   "outputs": [
    {
     "name": "stdout",
     "output_type": "stream",
     "text": [
      "level for Humble (Small) --> 5\n",
      "level for Reasonable (Medium) --> 7\n",
      "level for Spacious (Large) --> 9\n"
     ]
    }
   ],
   "source": [
    "for key, value in kek_yield.items():\n",
    "    max_level = equilibrium_level_for_installation(kek_harvester, value*kek_factor)\n",
    "    print(\"level for {} --> {}\".format(key, max_level))"
   ]
  },
  {
   "cell_type": "code",
   "execution_count": null,
   "metadata": {},
   "outputs": [],
   "source": []
  },
  {
   "cell_type": "code",
   "execution_count": null,
   "metadata": {},
   "outputs": [],
   "source": []
  },
  {
   "cell_type": "markdown",
   "metadata": {},
   "source": [
    "### explanation about how equilibrium_level_for_installation() function works"
   ]
  },
  {
   "cell_type": "code",
   "execution_count": 15,
   "metadata": {},
   "outputs": [],
   "source": [
    "df = kek_harvester.copy()"
   ]
  },
  {
   "cell_type": "markdown",
   "metadata": {},
   "source": [
    "calculate the total cost which is required to build the installation. Since there are multiple tokens. We are calcuating the cost in fud, using the token conversion factors we calcualted earlier"
   ]
  },
  {
   "cell_type": "code",
   "execution_count": 19,
   "metadata": {},
   "outputs": [
    {
     "data": {
      "text/html": [
       "<div>\n",
       "<style scoped>\n",
       "    .dataframe tbody tr th:only-of-type {\n",
       "        vertical-align: middle;\n",
       "    }\n",
       "\n",
       "    .dataframe tbody tr th {\n",
       "        vertical-align: top;\n",
       "    }\n",
       "\n",
       "    .dataframe thead th {\n",
       "        text-align: right;\n",
       "    }\n",
       "</style>\n",
       "<table border=\"1\" class=\"dataframe\">\n",
       "  <thead>\n",
       "    <tr style=\"text-align: right;\">\n",
       "      <th></th>\n",
       "      <th>Level</th>\n",
       "      <th>FUD</th>\n",
       "      <th>FOMO</th>\n",
       "      <th>ALPHA</th>\n",
       "      <th>KEK</th>\n",
       "      <th>Harvest Rate (KEK) / Day</th>\n",
       "      <th>Built Time (Blocks)</th>\n",
       "      <th>Buid Time (Days)</th>\n",
       "      <th>total_build_cost_in_fud</th>\n",
       "    </tr>\n",
       "  </thead>\n",
       "  <tbody>\n",
       "    <tr>\n",
       "      <th>0</th>\n",
       "      <td>1</td>\n",
       "      <td>110</td>\n",
       "      <td>70</td>\n",
       "      <td>0</td>\n",
       "      <td>3</td>\n",
       "      <td>1</td>\n",
       "      <td>0</td>\n",
       "      <td>0</td>\n",
       "      <td>280.0</td>\n",
       "    </tr>\n",
       "    <tr>\n",
       "      <th>1</th>\n",
       "      <td>2</td>\n",
       "      <td>220</td>\n",
       "      <td>140</td>\n",
       "      <td>0</td>\n",
       "      <td>5</td>\n",
       "      <td>2</td>\n",
       "      <td>8800</td>\n",
       "      <td>0</td>\n",
       "      <td>550.0</td>\n",
       "    </tr>\n",
       "    <tr>\n",
       "      <th>2</th>\n",
       "      <td>3</td>\n",
       "      <td>440</td>\n",
       "      <td>275</td>\n",
       "      <td>0</td>\n",
       "      <td>11</td>\n",
       "      <td>5</td>\n",
       "      <td>22000</td>\n",
       "      <td>0</td>\n",
       "      <td>1100.0</td>\n",
       "    </tr>\n",
       "    <tr>\n",
       "      <th>3</th>\n",
       "      <td>4</td>\n",
       "      <td>825</td>\n",
       "      <td>700</td>\n",
       "      <td>0</td>\n",
       "      <td>55</td>\n",
       "      <td>9</td>\n",
       "      <td>44000</td>\n",
       "      <td>1</td>\n",
       "      <td>2775.0</td>\n",
       "    </tr>\n",
       "    <tr>\n",
       "      <th>4</th>\n",
       "      <td>5</td>\n",
       "      <td>1650</td>\n",
       "      <td>1375</td>\n",
       "      <td>0</td>\n",
       "      <td>110</td>\n",
       "      <td>12</td>\n",
       "      <td>66000</td>\n",
       "      <td>1</td>\n",
       "      <td>5500.0</td>\n",
       "    </tr>\n",
       "    <tr>\n",
       "      <th>5</th>\n",
       "      <td>6</td>\n",
       "      <td>3300</td>\n",
       "      <td>2750</td>\n",
       "      <td>0</td>\n",
       "      <td>220</td>\n",
       "      <td>18</td>\n",
       "      <td>88000</td>\n",
       "      <td>2</td>\n",
       "      <td>11000.0</td>\n",
       "    </tr>\n",
       "    <tr>\n",
       "      <th>6</th>\n",
       "      <td>7</td>\n",
       "      <td>5500</td>\n",
       "      <td>6900</td>\n",
       "      <td>0</td>\n",
       "      <td>825</td>\n",
       "      <td>25</td>\n",
       "      <td>175000</td>\n",
       "      <td>4</td>\n",
       "      <td>27550.0</td>\n",
       "    </tr>\n",
       "    <tr>\n",
       "      <th>7</th>\n",
       "      <td>8</td>\n",
       "      <td>11000</td>\n",
       "      <td>13750</td>\n",
       "      <td>0</td>\n",
       "      <td>1650</td>\n",
       "      <td>36</td>\n",
       "      <td>260000</td>\n",
       "      <td>6</td>\n",
       "      <td>55000.0</td>\n",
       "    </tr>\n",
       "    <tr>\n",
       "      <th>8</th>\n",
       "      <td>9</td>\n",
       "      <td>11000</td>\n",
       "      <td>27500</td>\n",
       "      <td>0</td>\n",
       "      <td>4400</td>\n",
       "      <td>49</td>\n",
       "      <td>440000</td>\n",
       "      <td>11</td>\n",
       "      <td>110000.0</td>\n",
       "    </tr>\n",
       "  </tbody>\n",
       "</table>\n",
       "</div>"
      ],
      "text/plain": [
       "   Level    FUD   FOMO  ALPHA   KEK  Harvest Rate (KEK) / Day   \\\n",
       "0      1    110     70      0     3                          1   \n",
       "1      2    220    140      0     5                          2   \n",
       "2      3    440    275      0    11                          5   \n",
       "3      4    825    700      0    55                          9   \n",
       "4      5   1650   1375      0   110                         12   \n",
       "5      6   3300   2750      0   220                         18   \n",
       "6      7   5500   6900      0   825                         25   \n",
       "7      8  11000  13750      0  1650                         36   \n",
       "8      9  11000  27500      0  4400                         49   \n",
       "\n",
       "   Built Time (Blocks)  Buid Time (Days)   total_build_cost_in_fud  \n",
       "0                    0                  0                    280.0  \n",
       "1                 8800                  0                    550.0  \n",
       "2                22000                  0                   1100.0  \n",
       "3                44000                  1                   2775.0  \n",
       "4                66000                  1                   5500.0  \n",
       "5                88000                  2                  11000.0  \n",
       "6               175000                  4                  27550.0  \n",
       "7               260000                  6                  55000.0  \n",
       "8               440000                 11                 110000.0  "
      ]
     },
     "execution_count": 19,
     "metadata": {},
     "output_type": "execute_result"
    }
   ],
   "source": [
    "df[\"total_build_cost_in_fud\"] =  df.apply(lambda row: fud_factor*row[\"FUD\"]+fomo_factor*row['FOMO']+alpha_factor*row['ALPHA']+kek_factor*row['KEK'], axis=1)\n",
    "df.head(10)"
   ]
  },
  {
   "cell_type": "code",
   "execution_count": 20,
   "metadata": {},
   "outputs": [
    {
     "data": {
      "text/html": [
       "<div>\n",
       "<style scoped>\n",
       "    .dataframe tbody tr th:only-of-type {\n",
       "        vertical-align: middle;\n",
       "    }\n",
       "\n",
       "    .dataframe tbody tr th {\n",
       "        vertical-align: top;\n",
       "    }\n",
       "\n",
       "    .dataframe thead th {\n",
       "        text-align: right;\n",
       "    }\n",
       "</style>\n",
       "<table border=\"1\" class=\"dataframe\">\n",
       "  <thead>\n",
       "    <tr style=\"text-align: right;\">\n",
       "      <th></th>\n",
       "      <th>Parcel Type</th>\n",
       "      <th>FUD</th>\n",
       "      <th>FOMO</th>\n",
       "      <th>ALPHA</th>\n",
       "      <th>KEK</th>\n",
       "    </tr>\n",
       "  </thead>\n",
       "  <tbody>\n",
       "    <tr>\n",
       "      <th>0</th>\n",
       "      <td>Humble (Small)</td>\n",
       "      <td>7077</td>\n",
       "      <td>3539</td>\n",
       "      <td>1769</td>\n",
       "      <td>708</td>\n",
       "    </tr>\n",
       "    <tr>\n",
       "      <th>1</th>\n",
       "      <td>Reasonable (Medium)</td>\n",
       "      <td>28308</td>\n",
       "      <td>14154</td>\n",
       "      <td>7077</td>\n",
       "      <td>2831</td>\n",
       "    </tr>\n",
       "    <tr>\n",
       "      <th>2</th>\n",
       "      <td>Spacious (Large)</td>\n",
       "      <td>226465</td>\n",
       "      <td>113233</td>\n",
       "      <td>56616</td>\n",
       "      <td>22647</td>\n",
       "    </tr>\n",
       "  </tbody>\n",
       "</table>\n",
       "</div>"
      ],
      "text/plain": [
       "            Parcel Type          FUD         FOMO       ALPHA         KEK\n",
       "0        Humble (Small)      7077         3539        1769         708   \n",
       "1   Reasonable (Medium)     28308        14154        7077        2831   \n",
       "2      Spacious (Large)    226465       113233       56616       22647   "
      ]
     },
     "execution_count": 20,
     "metadata": {},
     "output_type": "execute_result"
    }
   ],
   "source": [
    "avg_parcel_yield.head()"
   ]
  },
  {
   "cell_type": "code",
   "execution_count": 21,
   "metadata": {},
   "outputs": [
    {
     "name": "stdout",
     "output_type": "stream",
     "text": [
      "level for Humble (Small) --> 5\n",
      "level for Reasonable (Medium) --> 7\n",
      "level for Spacious (Large) --> 9\n"
     ]
    }
   ],
   "source": [
    "for key, value in kek_yield.items():\n",
    "    max_level = equilibrium_level_for_installation(fomo_harvester, value*kek_factor)\n",
    "    print(\"level for {} --> {}\".format(key, max_level))"
   ]
  },
  {
   "cell_type": "code",
   "execution_count": null,
   "metadata": {},
   "outputs": [],
   "source": []
  },
  {
   "cell_type": "code",
   "execution_count": null,
   "metadata": {},
   "outputs": [],
   "source": []
  }
 ],
 "metadata": {
  "kernelspec": {
   "display_name": "Python 3",
   "language": "python",
   "name": "python3"
  },
  "language_info": {
   "codemirror_mode": {
    "name": "ipython",
    "version": 3
   },
   "file_extension": ".py",
   "mimetype": "text/x-python",
   "name": "python",
   "nbconvert_exporter": "python",
   "pygments_lexer": "ipython3",
   "version": "3.7.6"
  }
 },
 "nbformat": 4,
 "nbformat_minor": 4
}
