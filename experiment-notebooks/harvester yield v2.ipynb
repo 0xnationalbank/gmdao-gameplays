{
 "cells": [
  {
   "cell_type": "code",
   "execution_count": null,
   "metadata": {},
   "outputs": [],
   "source": []
  },
  {
   "cell_type": "code",
   "execution_count": null,
   "metadata": {},
   "outputs": [],
   "source": []
  },
  {
   "cell_type": "markdown",
   "metadata": {},
   "source": [
    "#### harvestor/reservoir estimate of things/work\n",
    "\n"
   ]
  },
  {
   "cell_type": "markdown",
   "metadata": {},
   "source": [
    "Our the gameplay for harvestor/reservoir would be like this\n",
    "\n",
    "**input**\n",
    "- number of parcels\n",
    "- dimension/type of each parcels\n",
    "- survey result of each parcels\n",
    "- total time user wants to play\n",
    "\n",
    "**output**\n",
    "- number of harvestors of each parcel with their level, and type\n",
    "- number of reservoirs of each parcel with their level, and type\n",
    "\n",
    "\n",
    "Note that -\n",
    "- We dont need gotchi info for harvestor/reservoir optimization\n",
    "- hence we dont need the 2nd gameplay which we did in altaar where we tried to spread out gotchis across parcels\n",
    "- earlier gotchis kinship increasing everyday increased gameplay complexity and runtime. hence for our current function, we might be able to do bulk computations often which might make it faster\n",
    "- assuming here that, we dont need to optimize for reservoir. we can simply choose reservoir based on what is the harvestor. need to discuss, if it is a fair assumption\n",
    "- another assumption we would be taking is that, the user hasn't built anything, he is starting from level 0"
   ]
  },
  {
   "cell_type": "code",
   "execution_count": null,
   "metadata": {},
   "outputs": [],
   "source": []
  },
  {
   "cell_type": "code",
   "execution_count": null,
   "metadata": {},
   "outputs": [],
   "source": []
  },
  {
   "cell_type": "code",
   "execution_count": 1,
   "metadata": {},
   "outputs": [
    {
     "data": {
      "text/plain": [
       "'\\n\\noptimizer for what harvestor to build and how many harvestor to build\\nI think what reservoir to build would be a simple function which can be determined by what harvestor are we building\\nwhich putting harvetor in optimizing function, remember to include reservoir as well, because they go hand in hand\\nso an important task would be to compute ideal relation between harvestor and reservoir\\n\\nnote that harvestor reservoir do not depend on number of gotchis (altaar depended on number of gotchis)\\nharvestor/reservoir simply depends on cost and money. so here we dont need 2 gameplays. just 1 gameplay would suffice\\nwhich is optimal gameplay.\\n\\nanother question to ponder is that. which harvestor should we construct i.e. fud, fomo, alpha or kek ?? how do we decide this ?\\n\\n\\nbecause the gotchi and gotchi level doesnt depend here. we are do lots of calculations at once\\nno need to run for loop for days, as we did in the altaar version. that would make computation faster\\n\\n\\n\\ncalculate roi for creating each of the 4 harvestors with different levels on each of different parcels\\nroi computation should also be done regarding how many harvestorss for each parcels\\nsimply sort them by roi in decreasing order and build them and choose one by one if the money in that token is still present\\n\\n\\nexample -\\n\\nparcel_1\\n1 fud harvestor level 1 ROI --> x11\\n1 fud harvestor level 2 ROI --> x12\\n2 fud harvestor level1,1 ROI --> x211\\n2 fud harvestor level1,2 ROI --> x212\\n.\\n.\\n1 kek harvestor ROI -->\\n.\\n.\\n.\\n\\n\\nthere can be 2 kinds of strategies, maximum yield and maximum ROI(max profit)\\nfor now focus on maximum ROI one\\n\\n\\nquestion to ponder --> why cant we do roi kind of thing for altaar levels\\n\\n\\n\\n# need info on spillover rate of harvestor levels\\n\\n\\n\\n\\n\\n'"
      ]
     },
     "execution_count": 1,
     "metadata": {},
     "output_type": "execute_result"
    }
   ],
   "source": [
    "\"\"\"\n",
    "\n",
    "optimizer for what harvestor to build and how many harvestor to build\n",
    "I think what reservoir to build would be a simple function which can be determined by what harvestor are we building\n",
    "which putting harvetor in optimizing function, remember to include reservoir as well, because they go hand in hand\n",
    "so an important task would be to compute ideal relation between harvestor and reservoir\n",
    "\n",
    "note that harvestor reservoir do not depend on number of gotchis (altaar depended on number of gotchis)\n",
    "harvestor/reservoir simply depends on cost and money. so here we dont need 2 gameplays. just 1 gameplay would suffice\n",
    "which is optimal gameplay.\n",
    "\n",
    "another question to ponder is that. which harvestor should we construct i.e. fud, fomo, alpha or kek ?? how do we decide this ?\n",
    "\n",
    "\n",
    "because the gotchi and gotchi level doesnt depend here. we are do lots of calculations at once\n",
    "no need to run for loop for days, as we did in the altaar version. that would make computation faster\n",
    "\n",
    "\n",
    "\n",
    "calculate roi for creating each of the 4 harvestors with different levels on each of different parcels\n",
    "roi computation should also be done regarding how many harvestorss for each parcels\n",
    "simply sort them by roi in decreasing order and build them and choose one by one if the money in that token is still present\n",
    "\n",
    "\n",
    "example -\n",
    "\n",
    "parcel_1\n",
    "1 fud harvestor level 1 ROI --> x11\n",
    "1 fud harvestor level 2 ROI --> x12\n",
    "2 fud harvestor level1,1 ROI --> x211\n",
    "2 fud harvestor level1,2 ROI --> x212\n",
    ".\n",
    ".\n",
    "1 kek harvestor ROI -->\n",
    ".\n",
    ".\n",
    ".\n",
    "\n",
    "\n",
    "there can be 2 kinds of strategies, maximum yield and maximum ROI(max profit)\n",
    "for now focus on maximum ROI one\n",
    "\n",
    "\n",
    "question to ponder --> why cant we do roi kind of thing for altaar levels\n",
    "\n",
    "\n",
    "\n",
    "# need info on spillover rate of harvestor levels\n",
    "\n",
    "\n",
    "\n",
    "\n",
    "\n",
    "\"\"\""
   ]
  },
  {
   "cell_type": "code",
   "execution_count": 2,
   "metadata": {},
   "outputs": [
    {
     "data": {
      "text/plain": [
       "'\\nthere is a problem with ROI, instead we should work on Net Profit\\n'"
      ]
     },
     "execution_count": 2,
     "metadata": {},
     "output_type": "execute_result"
    }
   ],
   "source": [
    "\"\"\"\n",
    "there is a problem with ROI, instead we should work on Net Profit\n",
    "\"\"\""
   ]
  },
  {
   "cell_type": "code",
   "execution_count": null,
   "metadata": {},
   "outputs": [],
   "source": []
  },
  {
   "cell_type": "code",
   "execution_count": null,
   "metadata": {},
   "outputs": [],
   "source": []
  },
  {
   "cell_type": "code",
   "execution_count": 3,
   "metadata": {},
   "outputs": [],
   "source": [
    "import math\n",
    "import pandas as pd\n",
    "import seaborn as sns\n",
    "import numpy as np\n",
    "import random\n",
    "import matplotlib.pyplot as plt\n",
    "import requests\n",
    "import json"
   ]
  },
  {
   "cell_type": "code",
   "execution_count": null,
   "metadata": {},
   "outputs": [],
   "source": []
  },
  {
   "cell_type": "markdown",
   "metadata": {},
   "source": [
    "#### reading all the harvestors"
   ]
  },
  {
   "cell_type": "code",
   "execution_count": 4,
   "metadata": {},
   "outputs": [],
   "source": [
    "fud_harvester = pd.read_csv(\"data/fud_harvester.csv\")\n",
    "fomo_harvester = pd.read_csv(\"data/fomo_harvester.csv\")\n",
    "alpha_harvester = pd.read_csv(\"data/alpha_harvester.csv\")\n",
    "kek_harvester = pd.read_csv(\"data/kek_harvester.csv\")"
   ]
  },
  {
   "cell_type": "code",
   "execution_count": 5,
   "metadata": {},
   "outputs": [],
   "source": [
    "# fud_harvester = fud_harvester.replace(',','', regex=True)\n",
    "# fomo_harvester = fomo_harvester.replace(',','', regex=True).astype(int)\n",
    "# alpha_harvester = alpha_harvester.replace(',','', regex=True).astype(int)\n",
    "# kek_harvester = kek_harvester.replace(',','', regex=True).astype(int)"
   ]
  },
  {
   "cell_type": "code",
   "execution_count": 6,
   "metadata": {},
   "outputs": [
    {
     "data": {
      "text/html": [
       "<div>\n",
       "<style scoped>\n",
       "    .dataframe tbody tr th:only-of-type {\n",
       "        vertical-align: middle;\n",
       "    }\n",
       "\n",
       "    .dataframe tbody tr th {\n",
       "        vertical-align: top;\n",
       "    }\n",
       "\n",
       "    .dataframe thead th {\n",
       "        text-align: right;\n",
       "    }\n",
       "</style>\n",
       "<table border=\"1\" class=\"dataframe\">\n",
       "  <thead>\n",
       "    <tr style=\"text-align: right;\">\n",
       "      <th></th>\n",
       "      <th>Level</th>\n",
       "      <th>FUD</th>\n",
       "      <th>FOMO</th>\n",
       "      <th>ALPHA</th>\n",
       "      <th>KEK</th>\n",
       "      <th>HarvestRate/Day</th>\n",
       "      <th>Built Time (Blocks)</th>\n",
       "    </tr>\n",
       "  </thead>\n",
       "  <tbody>\n",
       "    <tr>\n",
       "      <th>0</th>\n",
       "      <td>1</td>\n",
       "      <td>115</td>\n",
       "      <td>73</td>\n",
       "      <td>0</td>\n",
       "      <td>3.1</td>\n",
       "      <td>0.30</td>\n",
       "      <td>0</td>\n",
       "    </tr>\n",
       "    <tr>\n",
       "      <th>1</th>\n",
       "      <td>2</td>\n",
       "      <td>163</td>\n",
       "      <td>104</td>\n",
       "      <td>0</td>\n",
       "      <td>3.7</td>\n",
       "      <td>0.71</td>\n",
       "      <td>101376</td>\n",
       "    </tr>\n",
       "    <tr>\n",
       "      <th>2</th>\n",
       "      <td>3</td>\n",
       "      <td>210</td>\n",
       "      <td>131</td>\n",
       "      <td>0</td>\n",
       "      <td>5.2</td>\n",
       "      <td>1.60</td>\n",
       "      <td>200084</td>\n",
       "    </tr>\n",
       "    <tr>\n",
       "      <th>3</th>\n",
       "      <td>4</td>\n",
       "      <td>221</td>\n",
       "      <td>188</td>\n",
       "      <td>0</td>\n",
       "      <td>15.0</td>\n",
       "      <td>2.70</td>\n",
       "      <td>304128</td>\n",
       "    </tr>\n",
       "    <tr>\n",
       "      <th>4</th>\n",
       "      <td>5</td>\n",
       "      <td>335</td>\n",
       "      <td>279</td>\n",
       "      <td>0</td>\n",
       "      <td>22.0</td>\n",
       "      <td>4.10</td>\n",
       "      <td>414720</td>\n",
       "    </tr>\n",
       "    <tr>\n",
       "      <th>5</th>\n",
       "      <td>6</td>\n",
       "      <td>514</td>\n",
       "      <td>429</td>\n",
       "      <td>0</td>\n",
       "      <td>34.0</td>\n",
       "      <td>7.00</td>\n",
       "      <td>506880</td>\n",
       "    </tr>\n",
       "    <tr>\n",
       "      <th>6</th>\n",
       "      <td>7</td>\n",
       "      <td>511</td>\n",
       "      <td>641</td>\n",
       "      <td>0</td>\n",
       "      <td>77.0</td>\n",
       "      <td>13.00</td>\n",
       "      <td>604800</td>\n",
       "    </tr>\n",
       "    <tr>\n",
       "      <th>7</th>\n",
       "      <td>8</td>\n",
       "      <td>688</td>\n",
       "      <td>861</td>\n",
       "      <td>0</td>\n",
       "      <td>103.0</td>\n",
       "      <td>24.00</td>\n",
       "      <td>698880</td>\n",
       "    </tr>\n",
       "    <tr>\n",
       "      <th>8</th>\n",
       "      <td>9</td>\n",
       "      <td>422</td>\n",
       "      <td>1055</td>\n",
       "      <td>0</td>\n",
       "      <td>169.0</td>\n",
       "      <td>45.00</td>\n",
       "      <td>811008</td>\n",
       "    </tr>\n",
       "  </tbody>\n",
       "</table>\n",
       "</div>"
      ],
      "text/plain": [
       "   Level  FUD  FOMO  ALPHA    KEK  HarvestRate/Day  Built Time (Blocks)\n",
       "0      1  115    73      0    3.1             0.30                    0\n",
       "1      2  163   104      0    3.7             0.71               101376\n",
       "2      3  210   131      0    5.2             1.60               200084\n",
       "3      4  221   188      0   15.0             2.70               304128\n",
       "4      5  335   279      0   22.0             4.10               414720\n",
       "5      6  514   429      0   34.0             7.00               506880\n",
       "6      7  511   641      0   77.0            13.00               604800\n",
       "7      8  688   861      0  103.0            24.00               698880\n",
       "8      9  422  1055      0  169.0            45.00               811008"
      ]
     },
     "execution_count": 6,
     "metadata": {},
     "output_type": "execute_result"
    }
   ],
   "source": [
    "kek_harvester.head(10)"
   ]
  },
  {
   "cell_type": "code",
   "execution_count": 7,
   "metadata": {},
   "outputs": [
    {
     "data": {
      "text/plain": [
       "Index(['Level', 'FUD', 'FOMO', 'ALPHA', 'KEK', 'HarvestRate/Day',\n",
       "       'Built Time (Blocks) '],\n",
       "      dtype='object')"
      ]
     },
     "execution_count": 7,
     "metadata": {},
     "output_type": "execute_result"
    }
   ],
   "source": [
    "fud_harvester.columns"
   ]
  },
  {
   "cell_type": "code",
   "execution_count": 8,
   "metadata": {},
   "outputs": [],
   "source": [
    "fud_harvester['Build Time (Days)'] = fud_harvester['Built Time (Blocks) ']/40000\n",
    "fomo_harvester['Build Time (Days)'] = fomo_harvester['Built Time (Blocks)']/40000\n",
    "alpha_harvester['Build Time (Days)'] = alpha_harvester['Built Time (Blocks)']/40000\n",
    "kek_harvester['Build Time (Days)'] = kek_harvester['Built Time (Blocks)']/40000"
   ]
  },
  {
   "cell_type": "code",
   "execution_count": null,
   "metadata": {},
   "outputs": [],
   "source": []
  },
  {
   "cell_type": "markdown",
   "metadata": {},
   "source": [
    "#### reading all the reservoirs"
   ]
  },
  {
   "cell_type": "code",
   "execution_count": 9,
   "metadata": {},
   "outputs": [],
   "source": [
    "fud_reservoir = pd.read_csv(\"data/fud_reservoir.csv\")\n",
    "fomo_reservoir = pd.read_csv(\"data/fomo_reservoir.csv\")\n",
    "alpha_reservoir = pd.read_csv(\"data/alpha_reservoir.csv\")\n",
    "kek_reservoir = pd.read_csv(\"data/kek_reservoir.csv\")"
   ]
  },
  {
   "cell_type": "code",
   "execution_count": 10,
   "metadata": {},
   "outputs": [],
   "source": [
    "# fud_reservoir = fud_reservoir.replace(',','', regex=True).astype(int)\n",
    "# fomo_reservoir = fomo_reservoir.replace(',','', regex=True).astype(int)\n",
    "# alpha_reservoir = alpha_reservoir.replace(',','', regex=True).astype(int)\n",
    "# kek_reservoir = kek_reservoir.replace(',','', regex=True).astype(int)"
   ]
  },
  {
   "cell_type": "code",
   "execution_count": 11,
   "metadata": {},
   "outputs": [],
   "source": [
    "fud_reservoir['Build Time (Days)'] = fud_reservoir['Built Time (Blocks)']/40000\n",
    "fomo_reservoir['Build Time (Days)'] = fomo_reservoir['Built Time (Blocks)']/40000\n",
    "alpha_reservoir['Build Time (Days)'] = alpha_reservoir['Built Time (Blocks)']/40000\n",
    "kek_reservoir['Build Time (Days)'] = kek_reservoir['Built Time (Blocks)']/40000"
   ]
  },
  {
   "cell_type": "code",
   "execution_count": 12,
   "metadata": {},
   "outputs": [
    {
     "data": {
      "text/plain": [
       "Index(['Level', 'FUD', 'FOMO', 'ALPHA', 'KEK', 'Capacity',\n",
       "       'Built Time (Blocks)', 'Build Time (Days)'],\n",
       "      dtype='object')"
      ]
     },
     "execution_count": 12,
     "metadata": {},
     "output_type": "execute_result"
    }
   ],
   "source": [
    "alpha_reservoir.columns"
   ]
  },
  {
   "cell_type": "code",
   "execution_count": null,
   "metadata": {},
   "outputs": [],
   "source": []
  },
  {
   "cell_type": "markdown",
   "metadata": {},
   "source": [
    "#### reading other data"
   ]
  },
  {
   "cell_type": "code",
   "execution_count": 13,
   "metadata": {},
   "outputs": [],
   "source": [
    "avg_alchemica_df = pd.read_csv(\"data/avg_parcel_yield.csv\")\n",
    "avg_alchemica_df = avg_alchemica_df.replace(',','', regex=True)\n",
    "avg_alchemica_df.columns = ['ParcelType', 'FUD', 'FOMO', 'ALPHA', 'KEK']\n",
    "\n",
    "cols = ['FUD', 'FOMO', 'ALPHA', 'KEK']\n",
    "avg_alchemica_df[cols] = avg_alchemica_df[cols].apply(pd.to_numeric, errors='coerce', axis=1)"
   ]
  },
  {
   "cell_type": "code",
   "execution_count": 14,
   "metadata": {},
   "outputs": [
    {
     "data": {
      "text/html": [
       "<div>\n",
       "<style scoped>\n",
       "    .dataframe tbody tr th:only-of-type {\n",
       "        vertical-align: middle;\n",
       "    }\n",
       "\n",
       "    .dataframe tbody tr th {\n",
       "        vertical-align: top;\n",
       "    }\n",
       "\n",
       "    .dataframe thead th {\n",
       "        text-align: right;\n",
       "    }\n",
       "</style>\n",
       "<table border=\"1\" class=\"dataframe\">\n",
       "  <thead>\n",
       "    <tr style=\"text-align: right;\">\n",
       "      <th></th>\n",
       "      <th>ParcelType</th>\n",
       "      <th>FUD</th>\n",
       "      <th>FOMO</th>\n",
       "      <th>ALPHA</th>\n",
       "      <th>KEK</th>\n",
       "    </tr>\n",
       "  </thead>\n",
       "  <tbody>\n",
       "    <tr>\n",
       "      <th>0</th>\n",
       "      <td>Humble (Small)</td>\n",
       "      <td>7077</td>\n",
       "      <td>3539</td>\n",
       "      <td>1769</td>\n",
       "      <td>708</td>\n",
       "    </tr>\n",
       "    <tr>\n",
       "      <th>1</th>\n",
       "      <td>Reasonable (Medium)</td>\n",
       "      <td>28308</td>\n",
       "      <td>14154</td>\n",
       "      <td>7077</td>\n",
       "      <td>2831</td>\n",
       "    </tr>\n",
       "    <tr>\n",
       "      <th>2</th>\n",
       "      <td>Spacious (Large)</td>\n",
       "      <td>226465</td>\n",
       "      <td>113233</td>\n",
       "      <td>56616</td>\n",
       "      <td>22647</td>\n",
       "    </tr>\n",
       "  </tbody>\n",
       "</table>\n",
       "</div>"
      ],
      "text/plain": [
       "             ParcelType     FUD    FOMO  ALPHA    KEK\n",
       "0        Humble (Small)    7077    3539   1769    708\n",
       "1   Reasonable (Medium)   28308   14154   7077   2831\n",
       "2      Spacious (Large)  226465  113233  56616  22647"
      ]
     },
     "execution_count": 14,
     "metadata": {},
     "output_type": "execute_result"
    }
   ],
   "source": [
    "avg_alchemica_df.head(4)"
   ]
  },
  {
   "cell_type": "code",
   "execution_count": 15,
   "metadata": {},
   "outputs": [],
   "source": [
    "avg_alchemica_per_parcel_dict = {\n",
    "    'humble' : {\n",
    "        'FUD': 7077, 'FOMO': 3539, 'ALPHA': 1769, 'KEK': 708\n",
    "    },\n",
    "    'reasonable': {\n",
    "        'FUD': 28308, 'FOMO': 14154, 'ALPHA': 7077, 'KEK': 2831\n",
    "    },\n",
    "    'spacious': {\n",
    "        'FUD': 226465, 'FOMO': 113233, 'ALPHA': 56616, 'KEK': 22647\n",
    "    }\n",
    "}"
   ]
  },
  {
   "cell_type": "code",
   "execution_count": null,
   "metadata": {},
   "outputs": [],
   "source": []
  },
  {
   "cell_type": "code",
   "execution_count": null,
   "metadata": {},
   "outputs": [],
   "source": []
  },
  {
   "cell_type": "markdown",
   "metadata": {},
   "source": [
    "#### pre computations"
   ]
  },
  {
   "cell_type": "code",
   "execution_count": null,
   "metadata": {},
   "outputs": [],
   "source": []
  },
  {
   "cell_type": "code",
   "execution_count": null,
   "metadata": {},
   "outputs": [],
   "source": []
  },
  {
   "cell_type": "code",
   "execution_count": null,
   "metadata": {},
   "outputs": [],
   "source": []
  },
  {
   "cell_type": "code",
   "execution_count": 20,
   "metadata": {},
   "outputs": [],
   "source": [
    "def compute_cost_dict_for_harvestor_reservoirs(df):\n",
    "    return { df['Level'][i]:\n",
    "                          fud_factor*int(df['FUD'][i])+\n",
    "                          fomo_factor*int(df['FOMO'][i])+\n",
    "                          alpha_factor*int(df['ALPHA'][i])+\n",
    "                          kek_factor*int(df['KEK'][i]) \n",
    "                          for i in range(df.shape[0]) }"
   ]
  },
  {
   "cell_type": "code",
   "execution_count": 21,
   "metadata": {},
   "outputs": [],
   "source": [
    "fud_harvester_cost_dict = compute_cost_dict_for_harvestor_reservoirs(fud_harvester)\n",
    "fomo_harvester_cost_dict = compute_cost_dict_for_harvestor_reservoirs(fomo_harvester)\n",
    "alpha_harvester_cost_dict = compute_cost_dict_for_harvestor_reservoirs(alpha_harvester)\n",
    "kek_harvester_cost_dict = compute_cost_dict_for_harvestor_reservoirs(kek_harvester)\n",
    "\n",
    "fud_reservoir_cost_dict = compute_cost_dict_for_harvestor_reservoirs(fud_reservoir)\n",
    "fomo_reservoir_cost_dict = compute_cost_dict_for_harvestor_reservoirs(fomo_reservoir)\n",
    "alpha_reservoir_cost_dict = compute_cost_dict_for_harvestor_reservoirs(alpha_reservoir)\n",
    "kek_reservoir_cost_dict = compute_cost_dict_for_harvestor_reservoirs(kek_reservoir)"
   ]
  },
  {
   "cell_type": "code",
   "execution_count": 22,
   "metadata": {},
   "outputs": [],
   "source": [
    "#alpha_harvester_cost_dict"
   ]
  },
  {
   "cell_type": "code",
   "execution_count": 23,
   "metadata": {},
   "outputs": [],
   "source": [
    "#alpha_reservoir_cost_dict"
   ]
  },
  {
   "cell_type": "code",
   "execution_count": 24,
   "metadata": {},
   "outputs": [],
   "source": [
    "def compute_harvestor_harvestrate_dict(df):\n",
    "    return {\n",
    "        df['Level'][i]:df['HarvestRate/Day'][i]\n",
    "        for i in range(9)\n",
    "    }"
   ]
  },
  {
   "cell_type": "code",
   "execution_count": 25,
   "metadata": {},
   "outputs": [],
   "source": [
    "fud_harvester_harvestrate = compute_harvestor_harvestrate_dict(fud_harvester)\n",
    "fomo_harvester_harvestrate = compute_harvestor_harvestrate_dict(fomo_harvester)\n",
    "alpha_harvester_harvestrate = compute_harvestor_harvestrate_dict(alpha_harvester)\n",
    "kek_harvester_harvestrate = compute_harvestor_harvestrate_dict(kek_harvester)"
   ]
  },
  {
   "cell_type": "code",
   "execution_count": 26,
   "metadata": {},
   "outputs": [],
   "source": [
    "def compute_harvestor_reservoir_build_time_dict(df):\n",
    "    return {\n",
    "        df['Level'][i]:df['Build Time (Days)'][i]\n",
    "        for i in range(9)\n",
    "    }"
   ]
  },
  {
   "cell_type": "code",
   "execution_count": 27,
   "metadata": {},
   "outputs": [],
   "source": [
    "fud_harvester_build_time = compute_harvestor_reservoir_build_time_dict(fud_harvester)\n",
    "fomo_harvester_build_time = compute_harvestor_reservoir_build_time_dict(fomo_harvester)\n",
    "alpha_harvester_build_time = compute_harvestor_reservoir_build_time_dict(alpha_harvester)\n",
    "kek_harvester_build_time = compute_harvestor_reservoir_build_time_dict(kek_harvester)\n",
    "\n",
    "fud_reservoir_build_time = compute_harvestor_reservoir_build_time_dict(fud_reservoir)\n",
    "fomo_reservoir_build_time = compute_harvestor_reservoir_build_time_dict(fomo_reservoir)\n",
    "alpha_reservoir_build_time = compute_harvestor_reservoir_build_time_dict(alpha_reservoir)\n",
    "kek_reservoir_build_time = compute_harvestor_reservoir_build_time_dict(kek_reservoir)"
   ]
  },
  {
   "cell_type": "code",
   "execution_count": 28,
   "metadata": {},
   "outputs": [],
   "source": [
    "def compute_reservoir_capacity_dict(df):\n",
    "    return {\n",
    "        df['Level'][i]:df['Capacity'][i]\n",
    "        for i in range(9)\n",
    "    }"
   ]
  },
  {
   "cell_type": "code",
   "execution_count": 29,
   "metadata": {},
   "outputs": [],
   "source": [
    "fud_reservoir_capacity = compute_reservoir_capacity_dict(fud_reservoir)\n",
    "fomo_reservoir_capacity = compute_reservoir_capacity_dict(fomo_reservoir)\n",
    "alpha_reservoir_capacity = compute_reservoir_capacity_dict(alpha_reservoir)\n",
    "kek_reservoir_capacity = compute_reservoir_capacity_dict(kek_reservoir)"
   ]
  },
  {
   "cell_type": "code",
   "execution_count": null,
   "metadata": {},
   "outputs": [],
   "source": []
  },
  {
   "cell_type": "code",
   "execution_count": null,
   "metadata": {},
   "outputs": [],
   "source": []
  },
  {
   "cell_type": "code",
   "execution_count": 30,
   "metadata": {},
   "outputs": [],
   "source": [
    "def harvestor_cost_finder(x):\n",
    "    return {\n",
    "        'FUD': fud_harvester_cost_dict,\n",
    "        'FOMO': fomo_harvester_cost_dict,\n",
    "        'ALPHA': alpha_harvester_cost_dict,\n",
    "        'KEK': kek_harvester_cost_dict\n",
    "    }.get(x)"
   ]
  },
  {
   "cell_type": "code",
   "execution_count": 31,
   "metadata": {},
   "outputs": [],
   "source": [
    "def reservoir_cost_finder(x):\n",
    "    return {\n",
    "        'FUD': fud_reservoir_cost_dict,\n",
    "        'FOMO': fomo_reservoir_cost_dict,\n",
    "        'ALPHA': alpha_reservoir_cost_dict,\n",
    "        'KEK': kek_reservoir_cost_dict\n",
    "    }.get(x)"
   ]
  },
  {
   "cell_type": "code",
   "execution_count": 32,
   "metadata": {},
   "outputs": [],
   "source": [
    "def harvestor_harvestrate_finder(x):\n",
    "    return {\n",
    "        'FUD': fud_harvester_harvestrate,\n",
    "        'FOMO': fomo_harvester_harvestrate,\n",
    "        'ALPHA': alpha_harvester_harvestrate,\n",
    "        'KEK': kek_harvester_harvestrate\n",
    "    }.get(x)"
   ]
  },
  {
   "cell_type": "code",
   "execution_count": 33,
   "metadata": {},
   "outputs": [],
   "source": [
    "def reservoir_capacity_finder(x):\n",
    "    return {\n",
    "        'FUD': fud_reservoir_capacity,\n",
    "        'FOMO': fomo_reservoir_capacity,\n",
    "        'ALPHA': alpha_reservoir_capacity,\n",
    "        'KEK': kek_reservoir_capacity\n",
    "    }.get(x)"
   ]
  },
  {
   "cell_type": "code",
   "execution_count": 34,
   "metadata": {},
   "outputs": [],
   "source": [
    "def harvestor_build_time_finder(x):\n",
    "    return {\n",
    "        'FUD': fud_harvester_build_time,\n",
    "        'FOMO': fomo_harvester_build_time,\n",
    "        'ALPHA': alpha_harvester_build_time,\n",
    "        'KEK': kek_harvester_build_time\n",
    "    }.get(x)"
   ]
  },
  {
   "cell_type": "code",
   "execution_count": 35,
   "metadata": {},
   "outputs": [],
   "source": [
    "def reservoir_build_time_finder(x):\n",
    "    return {\n",
    "        'FUD': fud_reservoir_build_time,\n",
    "        'FOMO': fomo_reservoir_build_time,\n",
    "        'ALPHA': alpha_reservoir_build_time,\n",
    "        'KEK': kek_reservoir_build_time\n",
    "    }.get(x)"
   ]
  },
  {
   "cell_type": "code",
   "execution_count": null,
   "metadata": {},
   "outputs": [],
   "source": []
  },
  {
   "cell_type": "code",
   "execution_count": 36,
   "metadata": {},
   "outputs": [],
   "source": [
    "class HelperDictsClass:\n",
    "    \n",
    "    reservoir_cost_dict = None\n",
    "    reservoir_capacity = None\n",
    "    reservoir_build_time = None\n",
    "    harvester_cost_dict = None\n",
    "    harvester_build_time = None\n",
    "    harvester_rate = None\n",
    "    \n",
    "    \n",
    "    def __init__(self, alchemica_type):\n",
    "        self.reservoir_cost_dict = reservoir_cost_finder(alchemica_type)\n",
    "        self.reservoir_capacity = reservoir_capacity_finder(alchemica_type)\n",
    "        self.reservoir_build_time = reservoir_build_time_finder(alchemica_type)\n",
    "        self.harvester_cost_dict = harvestor_cost_finder(alchemica_type)\n",
    "        self.harvester_build_time = harvestor_build_time_finder(alchemica_type)\n",
    "        self.harvester_rate = harvestor_harvestrate_finder(alchemica_type)\n",
    "\n"
   ]
  },
  {
   "cell_type": "code",
   "execution_count": 37,
   "metadata": {},
   "outputs": [],
   "source": [
    "helper_dicts = {\n",
    "    'FUD': HelperDictsClass('FUD'),\n",
    "    'FOMO': HelperDictsClass('FOMO'),\n",
    "    'ALPHA': HelperDictsClass('ALPHA'),\n",
    "    'KEK': HelperDictsClass('KEK')\n",
    "}"
   ]
  },
  {
   "cell_type": "code",
   "execution_count": 38,
   "metadata": {},
   "outputs": [],
   "source": [
    "# harvestor_cost_dict = harvestor_cost_finder(alchemica_type)\n",
    "# harvester_build_time = harvestor_build_time_finder(alchemica_type)\n",
    "# harvester_rate = harvestor_harvestrate_finder(alchemica_type)\n",
    "\n",
    "# reservoir_cost_dict = reservoir_cost_finder(alchemica_type)\n",
    "# reservoir_build_time = reservoir_build_time_finder(alchemica_type)"
   ]
  },
  {
   "cell_type": "code",
   "execution_count": null,
   "metadata": {},
   "outputs": [],
   "source": []
  },
  {
   "cell_type": "markdown",
   "metadata": {},
   "source": [
    "#### defining other constants"
   ]
  },
  {
   "cell_type": "code",
   "execution_count": 16,
   "metadata": {},
   "outputs": [],
   "source": [
    "daily_reservoir_empty_frequency = 3"
   ]
  },
  {
   "cell_type": "code",
   "execution_count": null,
   "metadata": {},
   "outputs": [],
   "source": []
  },
  {
   "cell_type": "code",
   "execution_count": 17,
   "metadata": {},
   "outputs": [],
   "source": [
    "fud_factor = 1.0\n",
    "fomo_factor = 2.0\n",
    "alpha_factor = 4.0\n",
    "kek_factor = 10.0\n",
    "\n",
    "try:\n",
    "    URL = \"https://api.coingecko.com/api/v3/simple/price?ids=aavegotchi-fud%2Caavegotchi-fomo%2Caavegotchi-alpha%2Caavegotchi-kek%2Caavegotchi&vs_currencies=usd\"\n",
    "    result = requests.get(url = URL).json()\n",
    "\n",
    "    fud_factor = 1.0\n",
    "    fomo_factor = result['aavegotchi-fomo']['usd']/result['aavegotchi-fud']['usd']\n",
    "    alpha_factor = result['aavegotchi-alpha']['usd']/result['aavegotchi-fud']['usd']\n",
    "    kek_factor = result['aavegotchi-kek']['usd']/result['aavegotchi-fud']['usd']\n",
    "except:\n",
    "    print(\"unable to get token factors from the API\")\n",
    "    "
   ]
  },
  {
   "cell_type": "code",
   "execution_count": 18,
   "metadata": {},
   "outputs": [
    {
     "data": {
      "text/plain": [
       "{'FUD': 1.0,\n",
       " 'FOMO': 2.7480987838280755,\n",
       " 'ALPHA': 4.021756237158579,\n",
       " 'KEK': 7.87385771813631}"
      ]
     },
     "execution_count": 18,
     "metadata": {},
     "output_type": "execute_result"
    }
   ],
   "source": [
    "alchemica_factor_dict = {\n",
    "    'FUD': fud_factor,\n",
    "    'FOMO': fomo_factor,\n",
    "    'ALPHA': alpha_factor,\n",
    "    'KEK': kek_factor\n",
    "}\n",
    "alchemica_factor_dict"
   ]
  },
  {
   "cell_type": "code",
   "execution_count": 19,
   "metadata": {},
   "outputs": [],
   "source": [
    "#select which parcel to build on\n",
    "#select which harvestor to build on"
   ]
  },
  {
   "cell_type": "code",
   "execution_count": null,
   "metadata": {},
   "outputs": [],
   "source": [
    "# we know total time T\n",
    "# we know how much we want to extract from it\n",
    "# we know how much harvest per day is need to extract it fully in given time T\n",
    "# "
   ]
  },
  {
   "cell_type": "code",
   "execution_count": null,
   "metadata": {},
   "outputs": [],
   "source": []
  },
  {
   "cell_type": "code",
   "execution_count": null,
   "metadata": {},
   "outputs": [],
   "source": []
  },
  {
   "cell_type": "code",
   "execution_count": null,
   "metadata": {},
   "outputs": [],
   "source": []
  },
  {
   "cell_type": "code",
   "execution_count": null,
   "metadata": {},
   "outputs": [],
   "source": []
  },
  {
   "cell_type": "markdown",
   "metadata": {},
   "source": [
    "Question: for a given time T and given harvestor level, what reservoir would you build ?"
   ]
  },
  {
   "cell_type": "code",
   "execution_count": null,
   "metadata": {},
   "outputs": [],
   "source": [
    "# assuming that the reservoir can be emptied only every 8 hours. \n",
    "# that means the total capacity of the reservoir for the day would be 3 times\n",
    "\n",
    "# this wont depend on the given time T, as we just need to ensure the minimum harvestor for that level each day"
   ]
  },
  {
   "cell_type": "code",
   "execution_count": null,
   "metadata": {},
   "outputs": [],
   "source": [
    "# doing computation only when 1 harvestor is allowed per parcel\n",
    "T = 200\n",
    "num_fud = 1000\n"
   ]
  },
  {
   "cell_type": "code",
   "execution_count": null,
   "metadata": {},
   "outputs": [],
   "source": [
    "#fud_harvester.head(10)"
   ]
  },
  {
   "cell_type": "code",
   "execution_count": null,
   "metadata": {},
   "outputs": [],
   "source": [
    "fud_reservoir.head(10)"
   ]
  },
  {
   "cell_type": "code",
   "execution_count": null,
   "metadata": {},
   "outputs": [],
   "source": [
    "fud_harvester.columns"
   ]
  },
  {
   "cell_type": "code",
   "execution_count": null,
   "metadata": {},
   "outputs": [],
   "source": [
    "fud_reservoir.columns"
   ]
  },
  {
   "cell_type": "code",
   "execution_count": null,
   "metadata": {},
   "outputs": [],
   "source": []
  },
  {
   "cell_type": "code",
   "execution_count": null,
   "metadata": {},
   "outputs": [],
   "source": []
  },
  {
   "cell_type": "code",
   "execution_count": null,
   "metadata": {},
   "outputs": [],
   "source": []
  },
  {
   "cell_type": "code",
   "execution_count": null,
   "metadata": {},
   "outputs": [],
   "source": []
  },
  {
   "cell_type": "code",
   "execution_count": null,
   "metadata": {},
   "outputs": [],
   "source": [
    "fud_harvester_rate = fud_harvester_harvestrate"
   ]
  },
  {
   "cell_type": "code",
   "execution_count": null,
   "metadata": {},
   "outputs": [],
   "source": [
    "reservoir_for_harvester_dict = {}"
   ]
  },
  {
   "cell_type": "code",
   "execution_count": null,
   "metadata": {},
   "outputs": [],
   "source": [
    "reservoir_for_harvester_dict = {}\n",
    "\n",
    "for harvestor_level in range(1, 10):\n",
    "    for reservoir_level in range(1,10):\n",
    "        if daily_reservoir_empty_frequency*fud_reservoir_capacity[reservoir_level] >= fud_harvester_rate[harvestor_level]:\n",
    "            reservoir_for_harvester_dict[harvestor_level] = reservoir_level\n",
    "            break\n"
   ]
  },
  {
   "cell_type": "code",
   "execution_count": null,
   "metadata": {},
   "outputs": [],
   "source": [
    "reservoir_for_harvester_dict"
   ]
  },
  {
   "cell_type": "code",
   "execution_count": null,
   "metadata": {},
   "outputs": [],
   "source": [
    "fig, ax = plt.subplots(figsize=(12,4))         # Sample figsize in inches\n",
    "#plt.bar(indices_list, res)\n",
    "sns.barplot(list(reservoir_for_harvester_dict.keys()), list(reservoir_for_harvester_dict.values()))\n",
    "plt.title('reservoir level for given harvestor level', fontsize = 20) # title with fontsize 20\n",
    "plt.xlabel('harvestor level', fontsize = 12) # x-axis label with fontsize 15\n",
    "plt.ylabel('reservoir level', fontsize = 12) # y-axis label with fontsize 15"
   ]
  },
  {
   "cell_type": "code",
   "execution_count": null,
   "metadata": {},
   "outputs": [],
   "source": []
  },
  {
   "cell_type": "markdown",
   "metadata": {},
   "source": [
    "question: is the upgrading process of reservoir faster or slower than that of harvestor"
   ]
  },
  {
   "cell_type": "code",
   "execution_count": null,
   "metadata": {},
   "outputs": [],
   "source": []
  },
  {
   "cell_type": "code",
   "execution_count": null,
   "metadata": {},
   "outputs": [],
   "source": []
  },
  {
   "cell_type": "code",
   "execution_count": null,
   "metadata": {},
   "outputs": [],
   "source": []
  },
  {
   "cell_type": "code",
   "execution_count": null,
   "metadata": {},
   "outputs": [],
   "source": []
  },
  {
   "cell_type": "markdown",
   "metadata": {},
   "source": [
    "Question: for a given time T, what harvestor will you build?"
   ]
  },
  {
   "cell_type": "code",
   "execution_count": null,
   "metadata": {},
   "outputs": [],
   "source": [
    "fud_survey_result = 10000\n",
    "T = 200"
   ]
  },
  {
   "cell_type": "code",
   "execution_count": null,
   "metadata": {},
   "outputs": [],
   "source": [
    "# how much can I harvest if I just build till level i for a given time T"
   ]
  },
  {
   "cell_type": "code",
   "execution_count": null,
   "metadata": {},
   "outputs": [],
   "source": [
    "fud_harvester_build_time"
   ]
  },
  {
   "cell_type": "code",
   "execution_count": null,
   "metadata": {},
   "outputs": [],
   "source": [
    "fud_harvester_rate"
   ]
  },
  {
   "cell_type": "code",
   "execution_count": null,
   "metadata": {},
   "outputs": [],
   "source": [
    "result = {}\n",
    "\n",
    "for i in range(1, 10):\n",
    "    \n",
    "    harvest_till_now = 0\n",
    "    days_till_now = fud_harvester_build_time[1]\n",
    "    \n",
    "    for j in range(1, i):\n",
    "        \n",
    "        harvest_till_now += fud_harvester_rate[j]*fud_harvester_build_time[j+1]\n",
    "        days_till_now += fud_harvester_build_time[j+1]\n",
    "    \n",
    "    result[i] = harvest_till_now + (T-days_till_now) * fud_harvester_rate[i]\n"
   ]
  },
  {
   "cell_type": "code",
   "execution_count": null,
   "metadata": {},
   "outputs": [],
   "source": [
    "result"
   ]
  },
  {
   "cell_type": "code",
   "execution_count": null,
   "metadata": {},
   "outputs": [],
   "source": [
    "fig, ax = plt.subplots(figsize=(12,4))         # Sample figsize in inches\n",
    "#plt.bar(indices_list, res)\n",
    "sns.barplot(list(result.keys()), list(result.values()))\n",
    "plt.title('yield when only upgraded till level i', fontsize = 20) # title with fontsize 20\n",
    "plt.xlabel('harvestor level', fontsize = 12) # x-axis label with fontsize 15\n",
    "plt.ylabel('yield', fontsize = 12) # y-axis label with fontsize 15"
   ]
  },
  {
   "cell_type": "code",
   "execution_count": null,
   "metadata": {},
   "outputs": [],
   "source": []
  },
  {
   "cell_type": "code",
   "execution_count": null,
   "metadata": {},
   "outputs": [],
   "source": []
  },
  {
   "cell_type": "code",
   "execution_count": null,
   "metadata": {},
   "outputs": [],
   "source": []
  },
  {
   "cell_type": "markdown",
   "metadata": {},
   "source": [
    "Question: for a given time T, and given survey value of alchemica, and given harvestor level, what reservoir would you build ?"
   ]
  },
  {
   "cell_type": "code",
   "execution_count": null,
   "metadata": {},
   "outputs": [],
   "source": []
  },
  {
   "cell_type": "code",
   "execution_count": null,
   "metadata": {},
   "outputs": [],
   "source": []
  },
  {
   "cell_type": "code",
   "execution_count": null,
   "metadata": {},
   "outputs": [],
   "source": []
  },
  {
   "cell_type": "markdown",
   "metadata": {},
   "source": [
    "Question analyse marginal gains in upgrading"
   ]
  },
  {
   "cell_type": "code",
   "execution_count": null,
   "metadata": {},
   "outputs": [],
   "source": [
    "fud_harvester['new'] = fud_harvester.apply(lambda x: 200*x['Harvest Rate (FUD) / Day ']/(x['FUD'] + 2*x['FOMO'] + 4*x['ALPHA'] + 10*x['KEK'])\n",
    "                                           , axis=1)"
   ]
  },
  {
   "cell_type": "code",
   "execution_count": null,
   "metadata": {},
   "outputs": [],
   "source": [
    "fud_harvester.head(10)"
   ]
  },
  {
   "cell_type": "code",
   "execution_count": null,
   "metadata": {},
   "outputs": [],
   "source": [
    "fud_reservoir['new'] = fud_reservoir.apply(lambda x: 2000/(x['FUD'] + 2*x['FOMO'] + 4*x['ALPHA'] + 10*x['KEK'])\n",
    "                                           , axis=1)"
   ]
  },
  {
   "cell_type": "code",
   "execution_count": null,
   "metadata": {},
   "outputs": [],
   "source": [
    "fud_reservoir.head(10)"
   ]
  },
  {
   "cell_type": "code",
   "execution_count": null,
   "metadata": {},
   "outputs": [],
   "source": []
  },
  {
   "cell_type": "code",
   "execution_count": null,
   "metadata": {},
   "outputs": [],
   "source": []
  },
  {
   "cell_type": "code",
   "execution_count": null,
   "metadata": {},
   "outputs": [],
   "source": []
  },
  {
   "cell_type": "markdown",
   "metadata": {},
   "source": [
    "Question: given time T, parcel P, alchemica type X, should you upgrade the harvestor/reservoir, or should you build multiple ones ? i.e. what is the best combination of harvestor/reservvoir of it ?"
   ]
  },
  {
   "cell_type": "code",
   "execution_count": null,
   "metadata": {},
   "outputs": [],
   "source": [
    "\"\"\"\n",
    "\n",
    "\n",
    "simplified version\n",
    "\n",
    "- assume average number of alchemica in the parcel\n",
    "- assume same number of harvestor/reservoir to be built for each type\n",
    "- tell what level should we build for a given time T\n",
    "- tell the result of each type of parcel humble, small, & spacious\n",
    "- ignore maker as of now\n",
    "\n",
    "\"\"\""
   ]
  },
  {
   "cell_type": "code",
   "execution_count": 42,
   "metadata": {},
   "outputs": [],
   "source": [
    "parcel_input = [1, 1, 1]\n"
   ]
  },
  {
   "cell_type": "code",
   "execution_count": 43,
   "metadata": {},
   "outputs": [],
   "source": [
    "#total_parcels = sum(parcel_input)"
   ]
  },
  {
   "cell_type": "code",
   "execution_count": null,
   "metadata": {},
   "outputs": [],
   "source": []
  },
  {
   "cell_type": "code",
   "execution_count": 44,
   "metadata": {},
   "outputs": [],
   "source": [
    "class MyParcel_3:\n",
    "    dim = None\n",
    "    max_allowed_harvestors = [0,0,0,0]\n",
    "    tag = None\n",
    "    alchemica_content = None\n",
    "    \n",
    "    \n",
    "    def __init__(self, dim):\n",
    "        self.dim = dim\n",
    "        \n",
    "        if dim == (8,8):\n",
    "            self.max_allowed_harvestor = [1,1,1,1]\n",
    "            self.tag = 'humble'\n",
    "            self.alchemica_content = [7077, 3539, 1769, 708]\n",
    "        elif dim == (16,16):\n",
    "            self.max_allowed_harvestor = [4,4,4,4]\n",
    "            self.tag = 'reasonable'\n",
    "            self.alchemica_content = [28308, 14154, 7077, 2831]\n",
    "        elif dim == (32,64):\n",
    "            self.max_allowed_harvestor = [32,32,32,32]\n",
    "            self.tag = 'spacious'\n",
    "            self.alchemica_content = [226465, 113233, 56616, 22647]\n",
    "        \n",
    "    def max_allowed_harvestors_for_alchemica(self, alchemica_type):\n",
    "        if alchemica_type == 'FUD':\n",
    "            return self.max_allowed_harvestor[0]\n",
    "        elif alchemica_type == 'FOMO':\n",
    "            return self.max_allowed_harvestor[1]\n",
    "        elif alchemica_type == 'ALPHA':\n",
    "            return self.max_allowed_harvestor[2]\n",
    "        elif alchemica_type == 'KEK':\n",
    "            return self.max_allowed_harvestor[3]\n",
    "        else:\n",
    "            return 0\n",
    "        \n",
    "    def get_alchemica_content(self, alchemica_type):\n",
    "        if alchemica_type == 'FUD':\n",
    "            return self.alchemica_content[0]\n",
    "        elif alchemica_type == 'FOMO':\n",
    "            return self.alchemica_content[1]\n",
    "        elif alchemica_type == 'ALPHA':\n",
    "            return self.alchemica_content[2]\n",
    "        elif alchemica_type == 'KEK':\n",
    "            return self.alchemica_content[3]\n",
    "        else:\n",
    "            return 0\n",
    "        \n",
    "    def print_parcel_info(self):\n",
    "        print(\"parcel dim {}\".format(self.dim))\n",
    "        print(\"alchemica content \", self.alchemica_content)\n"
   ]
  },
  {
   "cell_type": "code",
   "execution_count": null,
   "metadata": {},
   "outputs": [],
   "source": []
  },
  {
   "cell_type": "code",
   "execution_count": null,
   "metadata": {},
   "outputs": [],
   "source": []
  },
  {
   "cell_type": "code",
   "execution_count": 45,
   "metadata": {},
   "outputs": [],
   "source": [
    "Parcels = []\n",
    "\n",
    "for i in range(parcel_input[2]):\n",
    "    Parcels.append(MyParcel_3((32, 64)))\n",
    "\n",
    "for i in range(parcel_input[1]):\n",
    "    Parcels.append(MyParcel_3((16, 16)))\n",
    "\n",
    "for i in range(parcel_input[0]):\n",
    "    Parcels.append(MyParcel_3((8, 8)))"
   ]
  },
  {
   "cell_type": "code",
   "execution_count": 46,
   "metadata": {},
   "outputs": [
    {
     "name": "stdout",
     "output_type": "stream",
     "text": [
      "parcel dim (16, 16)\n",
      "alchemica content  [28308, 14154, 7077, 2831]\n"
     ]
    }
   ],
   "source": [
    "Parcels[1].print_parcel_info()"
   ]
  },
  {
   "cell_type": "code",
   "execution_count": null,
   "metadata": {},
   "outputs": [],
   "source": []
  },
  {
   "cell_type": "code",
   "execution_count": 47,
   "metadata": {},
   "outputs": [],
   "source": [
    "# T = 200\n",
    "\n",
    "# parcel_size = (8, 8)\n",
    "# max_allowed_harvestor = 1\n",
    "# num_fud = 1000"
   ]
  },
  {
   "cell_type": "code",
   "execution_count": null,
   "metadata": {},
   "outputs": [],
   "source": []
  },
  {
   "cell_type": "code",
   "execution_count": null,
   "metadata": {},
   "outputs": [],
   "source": []
  },
  {
   "cell_type": "code",
   "execution_count": 49,
   "metadata": {},
   "outputs": [],
   "source": [
    "#num_harvestors_per_alchemica = 1\n"
   ]
  },
  {
   "cell_type": "code",
   "execution_count": null,
   "metadata": {},
   "outputs": [],
   "source": []
  },
  {
   "cell_type": "code",
   "execution_count": null,
   "metadata": {},
   "outputs": [],
   "source": []
  },
  {
   "cell_type": "code",
   "execution_count": null,
   "metadata": {},
   "outputs": [],
   "source": []
  },
  {
   "cell_type": "code",
   "execution_count": 50,
   "metadata": {},
   "outputs": [],
   "source": [
    "def compute_profit_for_time_T(harvestors_array, reservoirs_array, T, helper_obj, alchemica_factor, alchemica_amount):\n",
    "    ## what should be the order in which harvestors and reservoirs are built, it is also important\n",
    "    ## here we will first construct all reseervoirs, then all harvestors in desccending order\n",
    "    \n",
    "    days_passed = 0\n",
    "    cost_till_now = 0\n",
    "    harvest_till_now = 0\n",
    "    \n",
    "    for reservoir in reservoirs_array:\n",
    "        cost_till_now += helper_obj.reservoir_cost_dict[reservoir]\n",
    "        days_passed += helper_obj.reservoir_build_time[reservoir]\n",
    "        \n",
    "    #print(\"total reservoir cost -->\", cost_till_now)\n",
    "    \n",
    "    for harvestor in sorted(harvestors_array, reverse=True):\n",
    "        if harvestor == 0:\n",
    "            continue\n",
    "        \n",
    "        cost_till_now += helper_obj.harvester_cost_dict[harvestor]\n",
    "        days_passed += helper_obj.harvester_build_time[harvestor]\n",
    "                \n",
    "        harvest_till_now += alchemica_factor * helper_obj.harvester_rate[harvestor] * (T-days_passed) #TODO - also add all the time that has passed from level 1 to current upgrade\n",
    "        \n",
    "        \n",
    "    if harvest_till_now > alchemica_amount:\n",
    "        harvest_till_now = alchemica_amount\n",
    "        \n",
    "    #print(\"adding on harvestor cost -->\", cost_till_now)\n",
    "    #print(\"total harvest -->\", harvest_till_now)\n",
    "    \n",
    "    return (harvest_till_now - cost_till_now)\n"
   ]
  },
  {
   "cell_type": "code",
   "execution_count": null,
   "metadata": {},
   "outputs": [],
   "source": []
  },
  {
   "cell_type": "code",
   "execution_count": null,
   "metadata": {},
   "outputs": [],
   "source": [
    "alchemica_type = 'KEK'\n",
    "helper_obj = helper_dicts[alchemica_type]\n",
    "alchemica_factor = alchemica_factor_dict[alchemica_type]\n",
    "alchemica_amount = 708 * alchemica_factor"
   ]
  },
  {
   "cell_type": "code",
   "execution_count": null,
   "metadata": {},
   "outputs": [],
   "source": [
    "compute_profit_for_time_T([1], [1], 100, helper_obj, alchemica_factor, alchemica_amount)"
   ]
  },
  {
   "cell_type": "code",
   "execution_count": null,
   "metadata": {},
   "outputs": [],
   "source": [
    "# alchemica_type = 'KEK'\n",
    "# reservoir_cost_dict = reservoir_cost_finder(alchemica_type)\n",
    "# reservoir_build_time = reservoir_build_time_finder(alchemica_type)\n",
    "# harvester_cost_dict = harvestor_cost_finder(alchemica_type)\n",
    "# harvester_build_time = harvestor_build_time_finder(alchemica_type)\n",
    "# harvester_rate = harvestor_harvestrate_finder(alchemica_type)\n",
    "# alchemica_factor = alchemica_factor_dict[alchemica_type]\n",
    "\n",
    "# # compute_profit_for_time_T([4, 0, 0, 0, 0], [1], 100, reservoir_cost_dict, reservoir_build_time, harvester_cost_dict,\n",
    "# #                          harvester_build_time, harvester_rate, alchemica_factor)"
   ]
  },
  {
   "cell_type": "code",
   "execution_count": null,
   "metadata": {},
   "outputs": [],
   "source": [
    "helper_obj.harvester_cost_dict"
   ]
  },
  {
   "cell_type": "code",
   "execution_count": null,
   "metadata": {},
   "outputs": [],
   "source": [
    "helper_obj.reservoir_cost_dict"
   ]
  },
  {
   "cell_type": "code",
   "execution_count": null,
   "metadata": {},
   "outputs": [],
   "source": []
  },
  {
   "cell_type": "code",
   "execution_count": null,
   "metadata": {},
   "outputs": [],
   "source": []
  },
  {
   "cell_type": "code",
   "execution_count": 51,
   "metadata": {},
   "outputs": [],
   "source": [
    "def compute_reservoir_needed(harvestors_array, helper_obj):\n",
    "    ## keep on upgrading the current reservoir till highest level, then start building the 2nd one\n",
    "    \n",
    "    reservoirs_array = []\n",
    "    \n",
    "    total_daily_required_capacity = 0\n",
    "    \n",
    "    for harvestor in harvestors_array:\n",
    "        if harvestor == 0:\n",
    "            continue\n",
    "        total_daily_required_capacity += helper_obj.harvester_rate[harvestor]\n",
    "        \n",
    "    \n",
    "    #print(\"total daily required capacity -->\", total_daily_required_capacity)\n",
    "    \n",
    "    current_capacity = 0\n",
    "    while True:\n",
    "        #print(\"loop\")\n",
    "        \n",
    "        if total_daily_required_capacity > daily_reservoir_empty_frequency*helper_obj.reservoir_capacity[9]: #means more than 1 reservoir is needed\n",
    "            reservoirs_array.append(9) #append maximum level\n",
    "            total_daily_required_capacity -= daily_reservoir_empty_frequency*helper_obj.reservoir_capacity[9]\n",
    "            \n",
    "        else:\n",
    "            for i in range(1, 10):\n",
    "                if total_daily_required_capacity < daily_reservoir_empty_frequency*helper_obj.reservoir_capacity[i]:\n",
    "                    reservoirs_array.append(i)\n",
    "                    return reservoirs_array\n",
    "            \n"
   ]
  },
  {
   "cell_type": "code",
   "execution_count": null,
   "metadata": {},
   "outputs": [],
   "source": [
    "alchemica_type = 'KEK'\n",
    "\n",
    "helper_obj = helper_dicts[alchemica_type]\n",
    "\n",
    "compute_reservoir_needed([5, 0, 0, 0, 0], helper_obj)"
   ]
  },
  {
   "cell_type": "code",
   "execution_count": null,
   "metadata": {},
   "outputs": [],
   "source": []
  },
  {
   "cell_type": "code",
   "execution_count": null,
   "metadata": {},
   "outputs": [],
   "source": []
  },
  {
   "cell_type": "code",
   "execution_count": 52,
   "metadata": {},
   "outputs": [],
   "source": [
    "def compute_harvestor_reservoir_for_parcel_alchemica(parcel, alchemica_type, T, parcel_alchemica_content):\n",
    "    \n",
    "    harvestors_built = [0]*parcel.max_allowed_harvestors_for_alchemica(alchemica_type)\n",
    "    harvestors_built[0] = 1\n",
    "    reservoirs_built = [1]\n",
    "    \n",
    "    helper_obj = helper_dicts[alchemica_type]\n",
    "\n",
    "    alchemica_factor = alchemica_factor_dict[alchemica_type]\n",
    "    \n",
    "    alchemica_amount = parcel_alchemica_content * alchemica_factor\n",
    "    \n",
    "    total_spent = helper_obj.harvester_cost_dict[1] + helper_obj.reservoir_cost_dict[1] #building level 1 harvestor and reservoir\n",
    "\n",
    "    original_harvestors_array = harvestors_built.copy()\n",
    "    original_reservoirs_array = reservoirs_built.copy()\n",
    "\n",
    "    while(True):\n",
    "    \n",
    "        optimized_harvestors_array = original_harvestors_array.copy()\n",
    "        optimized_reservoirs_array = original_reservoirs_array.copy()\n",
    "\n",
    "\n",
    "        optimized_profit = compute_profit_for_time_T(optimized_harvestors_array, optimized_reservoirs_array, T, helper_obj, alchemica_factor, alchemica_amount)\n",
    "        # break the loop when current state is the max profit state\n",
    "\n",
    "#         print(\"----------------------------------------\")\n",
    "#         print(\"new iteration begins\")\n",
    "#         print(\"current harvestor --> \", optimized_harvestors_array)\n",
    "#         print(\"current reservoir --> \", optimized_reservoirs_array)\n",
    "#         print(\"current profit -->\", optimized_profit)\n",
    "\n",
    "\n",
    "        # calculate next options\n",
    "        for i in range(len(original_harvestors_array)):\n",
    "\n",
    "            if original_harvestors_array[i] == 9:\n",
    "                continue\n",
    "\n",
    "            #print(\"\\nupgrading harvestor number -->\", i)\n",
    "\n",
    "            #if I upgrade this harvestor, what is the marginal cost\n",
    "            new_harvestors_array = original_harvestors_array.copy()\n",
    "            new_harvestors_array[i] += 1\n",
    "\n",
    "            #print(\"new harvestor --> \", new_harvestors_array)\n",
    "\n",
    "\n",
    "            #compute the reservoir needed\n",
    "            new_reservoirs_array = compute_reservoir_needed(new_harvestors_array, helper_obj)\n",
    "            #print(\"new reservoir --> \", new_reservoirs_array)\n",
    "\n",
    "            #print(\"alchemica factor {}, alchemica amount {}\".format(alchemica_factor, alchemica_amount))\n",
    "\n",
    "\n",
    "            #compute the total profit of the setup\n",
    "            new_profit = compute_profit_for_time_T(new_harvestors_array, new_reservoirs_array, T, \n",
    "                                                   helper_obj, alchemica_factor, alchemica_amount)\n",
    "\n",
    "            #print(\"new profit -->\", new_profit)\n",
    "\n",
    "\n",
    "            if new_profit > optimized_profit:\n",
    "                optimized_harvestors_array = new_harvestors_array.copy()\n",
    "                optimized_reservoirs_array = new_reservoirs_array.copy()\n",
    "                optimized_profit = new_profit\n",
    "\n",
    "\n",
    "        if original_harvestors_array == optimized_harvestors_array and original_reservoirs_array == optimized_reservoirs_array:\n",
    "#             print(\"\\n---------------------------------------------------------\\n\")\n",
    "#             print(\"| optimal solution found\\t\\t\\t\\t|\")\n",
    "\n",
    "#             print(\"| optimal solution is -->\", optimized_harvestors_array, optimized_reservoirs_array, \"\\t\\t|\")\n",
    "#             print(\"| optimal profit -->\", optimized_profit, \"\\t\\t|\")\n",
    "#             print(\"\\n---------------------------------------------------------\\n\")\n",
    "\n",
    "            break\n",
    "\n",
    "        else:\n",
    "            original_harvestors_array = optimized_harvestors_array.copy()\n",
    "            original_reservoirs_array = optimized_reservoirs_array.copy()\n",
    "\n",
    "    return optimized_harvestors_array, optimized_reservoirs_array, optimized_profit\n",
    "    \n"
   ]
  },
  {
   "cell_type": "code",
   "execution_count": 103,
   "metadata": {},
   "outputs": [
    {
     "name": "stdout",
     "output_type": "stream",
     "text": [
      "parcel dim (32, 64)\n",
      "alchemica content  [226465, 113233, 56616, 22647]\n"
     ]
    },
    {
     "data": {
      "text/plain": [
       "([4, 0, 0, 0], [3], 176323.02843413714)"
      ]
     },
     "execution_count": 103,
     "metadata": {},
     "output_type": "execute_result"
    }
   ],
   "source": [
    "T = 10000\n",
    "alchemica = 'KEK'\n",
    "parcel = Parcels[0]\n",
    "parcel.print_parcel_info()\n",
    "parcel_alchemica_content = parcel.get_alchemica_content(alchemica)\n",
    "compute_harvestor_reservoir_for_parcel_alchemica(Parcels[1], alchemica, T, parcel_alchemica_content)\n"
   ]
  },
  {
   "cell_type": "code",
   "execution_count": null,
   "metadata": {},
   "outputs": [],
   "source": []
  },
  {
   "cell_type": "code",
   "execution_count": 93,
   "metadata": {},
   "outputs": [
    {
     "data": {
      "text/plain": [
       "{'humble': {'FUD': 7077, 'FOMO': 3539, 'ALPHA': 1769, 'KEK': 708},\n",
       " 'reasonable': {'FUD': 28308, 'FOMO': 14154, 'ALPHA': 7077, 'KEK': 2831},\n",
       " 'spacious': {'FUD': 226465, 'FOMO': 113233, 'ALPHA': 56616, 'KEK': 22647}}"
      ]
     },
     "execution_count": 93,
     "metadata": {},
     "output_type": "execute_result"
    }
   ],
   "source": [
    "#avg_alchemica_per_parcel_dict"
   ]
  },
  {
   "cell_type": "code",
   "execution_count": 53,
   "metadata": {},
   "outputs": [
    {
     "data": {
      "text/plain": [
       "{'FUD': 1.0,\n",
       " 'FOMO': 2.7480987838280755,\n",
       " 'ALPHA': 4.021756237158579,\n",
       " 'KEK': 7.87385771813631}"
      ]
     },
     "execution_count": 53,
     "metadata": {},
     "output_type": "execute_result"
    }
   ],
   "source": [
    "#alchemica_factor_dict"
   ]
  },
  {
   "cell_type": "code",
   "execution_count": 119,
   "metadata": {},
   "outputs": [
    {
     "data": {
      "text/plain": [
       "100"
      ]
     },
     "execution_count": 119,
     "metadata": {},
     "output_type": "execute_result"
    }
   ],
   "source": [
    "T = 100\n",
    "T"
   ]
  },
  {
   "cell_type": "code",
   "execution_count": 120,
   "metadata": {},
   "outputs": [],
   "source": [
    "#Parcels[0].print_parcel_info(), Parcels[1].print_parcel_info(), Parcels[2].print_parcel_info()"
   ]
  },
  {
   "cell_type": "code",
   "execution_count": 121,
   "metadata": {
    "scrolled": false
   },
   "outputs": [
    {
     "name": "stdout",
     "output_type": "stream",
     "text": [
      "[\n",
      "    {\n",
      "        \"parcel_size\": \"32 64\",\n",
      "        \"installations\": {\n",
      "            \"FUD harvester\": \"9 9\",\n",
      "            \"FUD reservoir\": \"8\",\n",
      "            \"FOMO harvester\": \"9\",\n",
      "            \"FOMO reservoir\": \"6\",\n",
      "            \"ALPHA harvester\": \"9 3\",\n",
      "            \"ALPHA reservoir\": \"6\",\n",
      "            \"KEK harvester\": \"9\",\n",
      "            \"KEK reservoir\": \"7\"\n",
      "        },\n",
      "        \"profit_yield_in_fud\": 134905\n",
      "    },\n",
      "    {\n",
      "        \"parcel_size\": \"16 16\",\n",
      "        \"installations\": {\n",
      "            \"FUD harvester\": \"9\",\n",
      "            \"FUD reservoir\": \"7\",\n",
      "            \"FOMO harvester\": \"9\",\n",
      "            \"FOMO reservoir\": \"6\",\n",
      "            \"ALPHA harvester\": \"9\",\n",
      "            \"ALPHA reservoir\": \"6\",\n",
      "            \"KEK harvester\": \"9\",\n",
      "            \"KEK reservoir\": \"7\"\n",
      "        },\n",
      "        \"profit_yield_in_fud\": 69097\n",
      "    },\n",
      "    {\n",
      "        \"parcel_size\": \"8 8\",\n",
      "        \"installations\": {\n",
      "            \"FUD harvester\": \"6\",\n",
      "            \"FUD reservoir\": \"4\",\n",
      "            \"FOMO harvester\": \"6\",\n",
      "            \"FOMO reservoir\": \"4\",\n",
      "            \"ALPHA harvester\": \"6\",\n",
      "            \"ALPHA reservoir\": \"4\",\n",
      "            \"KEK harvester\": \"6\",\n",
      "            \"KEK reservoir\": \"4\"\n",
      "        },\n",
      "        \"profit_yield_in_fud\": 12906\n",
      "    }\n",
      "]\n"
     ]
    }
   ],
   "source": [
    "result = []\n",
    "for parcel in Parcels:\n",
    "        \n",
    "    pc = {}\n",
    "    pc['parcel_size'] = \" \".join([str(ele) for ele in list(parcel.dim)])\n",
    "    \n",
    "    pc['installations'] = {}\n",
    "    total_profit_in_fud = 0\n",
    "    \n",
    "    #parcel.print_parcel_info()\n",
    "    \n",
    "    for alchemica in ['FUD', 'FOMO', 'ALPHA', 'KEK']:\n",
    "        \n",
    "        #print(parcel.print_parcel_info(), alchemica)\n",
    "        \n",
    "        parcel_alchemica_content = parcel.get_alchemica_content(alchemica)\n",
    "        \n",
    "        harvesters_array, reservoirs_array, profit = compute_harvestor_reservoir_for_parcel_alchemica(parcel, alchemica, T, parcel_alchemica_content)\n",
    "\n",
    "            \n",
    "        harvesters_array = list(filter(lambda num: num != 0, harvesters_array)) #removing extra zeros from harvester array\n",
    "        \n",
    "        #print(\"harvesters_array {}, reservoirs_array {}, profit_yield_in_fud {}\".format(harvesters_array, reservoirs_array, int(profit)))\n",
    "\n",
    "        if profit > 0:\n",
    "            pc['installations'][alchemica + \" \" + \"harvester\"] = \" \".join([str(ele) for ele in list(harvesters_array)])\n",
    "            pc['installations'][alchemica + \" \" + \"reservoir\"] = \" \".join([str(ele) for ele in list(reservoirs_array)])\n",
    "            total_profit_in_fud += profit \n",
    "        \n",
    "        \n",
    "        #print(\"...........................................\")\n",
    "        #print(\"alchemica --> {}, profit --> {}\".format(alchemica, profit))\n",
    "\n",
    "    \n",
    "    pc[\"profit_yield_in_fud\"] = int(total_profit_in_fud)\n",
    "\n",
    "    result.append(pc)\n",
    "    #break\n",
    "\n",
    "print(json.dumps(result, indent=4))\n",
    "        "
   ]
  },
  {
   "cell_type": "code",
   "execution_count": null,
   "metadata": {},
   "outputs": [],
   "source": []
  },
  {
   "cell_type": "code",
   "execution_count": null,
   "metadata": {},
   "outputs": [],
   "source": []
  },
  {
   "cell_type": "code",
   "execution_count": null,
   "metadata": {},
   "outputs": [],
   "source": []
  }
 ],
 "metadata": {
  "kernelspec": {
   "display_name": "Python 3",
   "language": "python",
   "name": "python3"
  },
  "language_info": {
   "codemirror_mode": {
    "name": "ipython",
    "version": 3
   },
   "file_extension": ".py",
   "mimetype": "text/x-python",
   "name": "python",
   "nbconvert_exporter": "python",
   "pygments_lexer": "ipython3",
   "version": "3.7.6"
  }
 },
 "nbformat": 4,
 "nbformat_minor": 4
}
